{
 "cells": [
  {
   "cell_type": "markdown",
   "metadata": {},
   "source": [
    "# Bienvenidos al curso de introducción a R\n",
    "\n",
    "## Antes de empezar\n",
    "\n",
    "R es un lenguaje que podemos ejecutar en múltiples lugares. Su lugar natural sería el editor propio de R, que se instala con R.\n",
    "\n",
    "Otra forma de ejecutar sentencias de R es a través de RStudio que intenta hacer más amigable el ejecutar código R\n",
    "\n",
    "La última forma es la que estáis viendo: Un Notebook de Jupyter\n",
    "\n",
    "### ¿Qué nos aporta Jupyter?\n",
    "\n",
    "Jupyter nos aporta interactividad con los datos. Es decir, el cuaderno que estemos trabajando lo podemos modificar a nuestro gusto, cambiando valores para probar, etc. Tras esto podremos guardarlo y tendremos una copia personalizada.\n",
    "\n",
    "### ¿Tengo que tener instalado Jupyter?\n",
    "\n",
    "Esa es una opción, pero también podemos utilizar el proyecto de Google llamado Colaboratory, que nos permite cargar los ficheros jupyter online sin necesidad de guardar nada.\n",
    "\n",
    "Para acceder a la web de colaboratory:\n",
    "\n",
    "https://colab.research.google.com\n",
    "\n",
    "Una vez allí, en la pantalla de bienvenida, copiaremos este repositorio creado para este curso:\n",
    "\n",
    "\n"
   ]
  },
  {
   "cell_type": "markdown",
   "metadata": {},
   "source": [
    "## Comenzamos con R\n",
    "\n",
    "#### Asignando un valor a una variable\n",
    "\n",
    "Lo más básico que se puede hacer en R es asignar una variable, esto se puede hacer bien colocando el nombre de la variable y el signo <- y después el valor"
   ]
  },
  {
   "cell_type": "code",
   "execution_count": 1,
   "metadata": {},
   "outputs": [],
   "source": [
    "miVariable <- 10"
   ]
  },
  {
   "cell_type": "markdown",
   "metadata": {},
   "source": [
    "#### Imprimiendo una variable\n",
    "\n",
    "Lo siguiente será lógicamente imprimir su valor, hay dos formas en R:\n",
    "- De forma implícita: Es decir escribiendo en la línea de comando la variable, sin más\n",
    "- De forma explícita: Con la función Print"
   ]
  },
  {
   "cell_type": "code",
   "execution_count": 2,
   "metadata": {},
   "outputs": [
    {
     "data": {
      "text/html": [
       "10"
      ],
      "text/latex": [
       "10"
      ],
      "text/markdown": [
       "10"
      ],
      "text/plain": [
       "[1] 10"
      ]
     },
     "metadata": {},
     "output_type": "display_data"
    }
   ],
   "source": [
    "miVariable"
   ]
  },
  {
   "cell_type": "code",
   "execution_count": 3,
   "metadata": {},
   "outputs": [
    {
     "name": "stdout",
     "output_type": "stream",
     "text": [
      "[1] 10\n"
     ]
    }
   ],
   "source": [
    "print(miVariable)"
   ]
  },
  {
   "cell_type": "markdown",
   "metadata": {},
   "source": [
    "#### Comentarios\n",
    "\n",
    "Los comentarios, necesarios cuando los códigos son muy grandes, en R se escriben colocando una almohadilla *#* al principio del texto.\n",
    "\n",
    "Lo que va detrás no se ejecuta"
   ]
  },
  {
   "cell_type": "code",
   "execution_count": 4,
   "metadata": {},
   "outputs": [],
   "source": [
    "# Esto es un comentario"
   ]
  },
  {
   "cell_type": "markdown",
   "metadata": {},
   "source": [
    "#### Otras operaciones iniciales\n",
    "\n",
    "También podemos hacer cálculos directos sobre las variables o sobre la línea de comandos:"
   ]
  },
  {
   "cell_type": "code",
   "execution_count": 5,
   "metadata": {},
   "outputs": [
    {
     "name": "stdout",
     "output_type": "stream",
     "text": [
      "[1] 20\n"
     ]
    }
   ],
   "source": [
    "miVariable <- miVariable*2\n",
    "print(miVariable)"
   ]
  },
  {
   "cell_type": "code",
   "execution_count": 6,
   "metadata": {},
   "outputs": [
    {
     "name": "stdout",
     "output_type": "stream",
     "text": [
      "[1] 5\n"
     ]
    }
   ],
   "source": [
    "miVariable <- miVariable/4\n",
    "print(miVariable)"
   ]
  },
  {
   "cell_type": "markdown",
   "metadata": {},
   "source": [
    "## Tipos de datos en R\n",
    "\n",
    "Todas las cosas que manipula R se llaman objetos. En general, éstos se construyen a partir de objetos más simples. De esta manera, se llega a los objetosmás simples que son de cinco clases a las que se denomina atómicas y que son las siguientes:\n",
    "\n",
    "- numeric (números reales)\n",
    "- integer (números enteros)\n",
    "- complex (números complejos)\n",
    "- character (cadenas de caracteres)\n",
    "- logical (lógicos o booleanos, que sólo toman los valores True o False)\n",
    "\n",
    "\n",
    "### Datos numéricos\n",
    "\n",
    "Son los más importantes en un lenguaje como R tan vinculado con la estadística y el tratamiento de la información.\n",
    "\n",
    "Como vemos en la lista anterior, hay tres tipos: numeric, integer y complex\n"
   ]
  },
  {
   "cell_type": "code",
   "execution_count": 7,
   "metadata": {},
   "outputs": [
    {
     "name": "stdout",
     "output_type": "stream",
     "text": [
      "[1] 2\n"
     ]
    }
   ],
   "source": [
    "x <- 2 # Se asigna el valor 2 a x\n",
    "print(x) # Se imprime el valor de x"
   ]
  },
  {
   "cell_type": "code",
   "execution_count": 8,
   "metadata": {},
   "outputs": [
    {
     "data": {
      "text/html": [
       "'numeric'"
      ],
      "text/latex": [
       "'numeric'"
      ],
      "text/markdown": [
       "'numeric'"
      ],
      "text/plain": [
       "[1] \"numeric\""
      ]
     },
     "metadata": {},
     "output_type": "display_data"
    }
   ],
   "source": [
    "class(x) # Muestra cuál es la clase de x"
   ]
  },
  {
   "cell_type": "code",
   "execution_count": 9,
   "metadata": {},
   "outputs": [
    {
     "name": "stdout",
     "output_type": "stream",
     "text": [
      "[1] 3\n"
     ]
    }
   ],
   "source": [
    "x <- 6/2 # Se asigna el valor de la operación dividir 6/2 a x\n",
    "print(x)"
   ]
  },
  {
   "cell_type": "code",
   "execution_count": 10,
   "metadata": {},
   "outputs": [
    {
     "data": {
      "text/html": [
       "'numeric'"
      ],
      "text/latex": [
       "'numeric'"
      ],
      "text/markdown": [
       "'numeric'"
      ],
      "text/plain": [
       "[1] \"numeric\""
      ]
     },
     "metadata": {},
     "output_type": "display_data"
    }
   ],
   "source": [
    "class(x)"
   ]
  },
  {
   "cell_type": "markdown",
   "metadata": {},
   "source": [
    "A pesar de que no tenemos decimales, sigue diciendo que es un numeric, un valor real (doble, de coma flotante)\n",
    " \n",
    "Para decirle implícitamente que el número es integer, se pone una L al final de la definición."
   ]
  },
  {
   "cell_type": "code",
   "execution_count": 11,
   "metadata": {},
   "outputs": [
    {
     "name": "stdout",
     "output_type": "stream",
     "text": [
      "[1] 23\n"
     ]
    }
   ],
   "source": [
    "x <- 23L; print(x)"
   ]
  },
  {
   "cell_type": "code",
   "execution_count": 12,
   "metadata": {},
   "outputs": [
    {
     "data": {
      "text/html": [
       "'integer'"
      ],
      "text/latex": [
       "'integer'"
      ],
      "text/markdown": [
       "'integer'"
      ],
      "text/plain": [
       "[1] \"integer\""
      ]
     },
     "metadata": {},
     "output_type": "display_data"
    }
   ],
   "source": [
    "class(x)"
   ]
  },
  {
   "cell_type": "markdown",
   "metadata": {},
   "source": [
    "Si queremos que el resultado de una operación acabe siendo de un tipo determinado, debemos englobarlo en un **as.**  seguido del tipo de dato que queramos:"
   ]
  },
  {
   "cell_type": "code",
   "execution_count": 13,
   "metadata": {},
   "outputs": [
    {
     "name": "stdout",
     "output_type": "stream",
     "text": [
      "[1] 3\n"
     ]
    },
    {
     "data": {
      "text/html": [
       "'integer'"
      ],
      "text/latex": [
       "'integer'"
      ],
      "text/markdown": [
       "'integer'"
      ],
      "text/plain": [
       "[1] \"integer\""
      ]
     },
     "metadata": {},
     "output_type": "display_data"
    }
   ],
   "source": [
    "x <- as.integer(6/2)\n",
    "print(x)\n",
    "class(x)"
   ]
  },
  {
   "cell_type": "markdown",
   "metadata": {},
   "source": [
    "Por su parte, los números complejos, complex en el lenguaje, tienen una sintaxis muy particular; misma que se tiene que emplear para indicar explícitamente que un número introducido corresponde a ese tipo:"
   ]
  },
  {
   "cell_type": "code",
   "execution_count": 14,
   "metadata": {},
   "outputs": [
    {
     "name": "stdout",
     "output_type": "stream",
     "text": [
      "[1] 21+2i\n",
      "[1] 21+2i\n",
      "[1] -1+0i\n",
      "[1] 0+1i\n"
     ]
    }
   ],
   "source": [
    "x <- 21 + 2i\n",
    "y <- 2i + 21 # El mismo valor que x\n",
    "z <- -1 + 0i # Corresponde a -1\n",
    "tt <- sqrt(z) # raíz cuadrada de -1\n",
    "print(x); print(y); print(z); print(tt)"
   ]
  },
  {
   "cell_type": "code",
   "execution_count": 15,
   "metadata": {},
   "outputs": [
    {
     "data": {
      "text/html": [
       "'complex'"
      ],
      "text/latex": [
       "'complex'"
      ],
      "text/markdown": [
       "'complex'"
      ],
      "text/plain": [
       "[1] \"complex\""
      ]
     },
     "metadata": {},
     "output_type": "display_data"
    }
   ],
   "source": [
    "class(tt)"
   ]
  },
  {
   "cell_type": "markdown",
   "metadata": {},
   "source": [
    "También, existe un valor numérico especial, Inf, que  representa el infinito y que puede resultar en algunas expresiones, por ejemplo:"
   ]
  },
  {
   "cell_type": "code",
   "execution_count": 16,
   "metadata": {},
   "outputs": [
    {
     "name": "stdout",
     "output_type": "stream",
     "text": [
      "[1] Inf\n"
     ]
    }
   ],
   "source": [
    "x <- 1/0 # División por cero\n",
    "print(x)"
   ]
  },
  {
   "cell_type": "code",
   "execution_count": 17,
   "metadata": {},
   "outputs": [
    {
     "name": "stdout",
     "output_type": "stream",
     "text": [
      "[1] 0\n"
     ]
    }
   ],
   "source": [
    "# Tambien dividir un número por Inf da cero:\n",
    "y <- 1/Inf\n",
    "print(y)"
   ]
  },
  {
   "cell_type": "markdown",
   "metadata": {},
   "source": [
    "Finalmente, algunas operaciones pueden resultar en algo que no es un número, esto se representa por el valor NaN:"
   ]
  },
  {
   "cell_type": "code",
   "execution_count": 18,
   "metadata": {},
   "outputs": [
    {
     "name": "stdout",
     "output_type": "stream",
     "text": [
      "[1] NaN\n"
     ]
    }
   ],
   "source": [
    "x <- 0/0\n",
    "print(x)"
   ]
  },
  {
   "cell_type": "markdown",
   "metadata": {},
   "source": [
    "### Vectores\n",
    "\n",
    "Pero estas clases atómicas, no se manejan de manera individual. En todos los ejemplos anteriores, R ha creado implícitamente un tipo de objeto llamado **VECTOR** y lo ha creado de longitud 1. Son esos vectores los que han sido asignados a nuestras variables (aunque no nos lo haya dicho)"
   ]
  },
  {
   "cell_type": "code",
   "execution_count": 19,
   "metadata": {},
   "outputs": [
    {
     "name": "stdout",
     "output_type": "stream",
     "text": [
      "[1] 2\n"
     ]
    }
   ],
   "source": [
    "x <- 2 # Se asigna el valor 2 a x\n",
    "print(x) # Se imprime el valor de x"
   ]
  },
  {
   "cell_type": "markdown",
   "metadata": {},
   "source": [
    "¿Cómo sabemos que es un vector?\n",
    "Pues estuvo siempre delante de nuestros ojos:\n",
    "El **[1]** que precede al valor, indica que se trata del primer elemento y único, en este caso, del vector que se muestra.\n",
    "\n",
    "Hay diversas maneras de crear vectores de otras longitudes, que, como se ha dicho antes, son secuencias de objetos de la misma clase atómica.\n",
    "\n",
    "La primer manera de crear vectores es a partir de los elementos individuales que compondrán el vector. Para esto se utiliza la función c()"
   ]
  },
  {
   "cell_type": "code",
   "execution_count": 20,
   "metadata": {},
   "outputs": [
    {
     "data": {
      "text/html": [
       "<ol class=list-inline>\n",
       "\t<li>4</li>\n",
       "\t<li>2</li>\n",
       "\t<li>-8</li>\n",
       "</ol>\n"
      ],
      "text/latex": [
       "\\begin{enumerate*}\n",
       "\\item 4\n",
       "\\item 2\n",
       "\\item -8\n",
       "\\end{enumerate*}\n"
      ],
      "text/markdown": [
       "1. 4\n",
       "2. 2\n",
       "3. -8\n",
       "\n",
       "\n"
      ],
      "text/plain": [
       "[1]  4  2 -8"
      ]
     },
     "metadata": {},
     "output_type": "display_data"
    }
   ],
   "source": [
    "c(4,2,-8) # Creación de un vector sin asignarlo a una variable"
   ]
  },
  {
   "cell_type": "code",
   "execution_count": 21,
   "metadata": {},
   "outputs": [
    {
     "name": "stdout",
     "output_type": "stream",
     "text": [
      "[1]  4  2 -8\n",
      "[1]  4  2 -8\n",
      "[1]  4  2 -8\n",
      "[1]  4  2 -8\n"
     ]
    }
   ],
   "source": [
    "## Distintas formas de asignar un vector a una variable\n",
    "u <- c(4,2,-8) # Usando el operador <-\n",
    "\n",
    "c(4, 2, -8) -> v # Usando el operador ->\n",
    "\n",
    "# Usando la función assign:\n",
    "assign(\"w\", c(4, 2, -8))\n",
    "# hay que tener cuidado con assign porque necesita que la variable se escriba entre comillas\n",
    "\n",
    "p = c(4, 2, -8) # Usando el operador =\n",
    "\n",
    "# Todo va a dar el mismo resultado\n",
    "print(u); print(v); print(w); print(p)"
   ]
  },
  {
   "cell_type": "markdown",
   "metadata": {},
   "source": [
    "#### Creando vectores a partir de datos de un fichero de texto\n",
    "\n",
    "Supongamos que un fichero llamado Numeros.txt tenemos esto:\n",
    "\n",
    "12 15.5 3.1\n",
    "-2.2 0 0.0007\n",
    "\n",
    "Pues si queremos crear un vector a partir de él:"
   ]
  },
  {
   "cell_type": "code",
   "execution_count": 24,
   "metadata": {},
   "outputs": [
    {
     "name": "stdout",
     "output_type": "stream",
     "text": [
      "[1] 12.0000 15.5000  3.1000 -2.2000  0.0000  0.0007\n"
     ]
    }
   ],
   "source": [
    "vec <- scan(\"Numeros.txt\")\n",
    "print(vec)"
   ]
  },
  {
   "cell_type": "code",
   "execution_count": 26,
   "metadata": {},
   "outputs": [
    {
     "ename": "ERROR",
     "evalue": "Error in scan(\"Numeros.txt\", integer()): scan() esperaba 'an integer', obtuvo '15.5'\n",
     "output_type": "error",
     "traceback": [
      "Error in scan(\"Numeros.txt\", integer()): scan() esperaba 'an integer', obtuvo '15.5'\nTraceback:\n",
      "1. scan(\"Numeros.txt\", integer())"
     ]
    }
   ],
   "source": [
    "vec <- scan(\"Numeros.txt\", integer())\n",
    "print(vec); class(vec) # El vector y su clase"
   ]
  },
  {
   "cell_type": "markdown",
   "metadata": {},
   "source": [
    "Como se ve, debemos tener claro qué cargamos antes de asumirlo como un tipo de dato determinado.\n",
    "\n",
    "Si ahora queremos hacer lo contrario, guardar un vector en un archivo:"
   ]
  },
  {
   "cell_type": "code",
   "execution_count": 27,
   "metadata": {},
   "outputs": [],
   "source": [
    "vv <- c(5, 6.6, -7.7)\n",
    "write(vv, \"OtroArchivo.txt\")"
   ]
  },
  {
   "cell_type": "code",
   "execution_count": 28,
   "metadata": {},
   "outputs": [
    {
     "name": "stdout",
     "output_type": "stream",
     "text": [
      "[1]  5.0  6.6 -7.7\n"
     ]
    }
   ],
   "source": [
    "# Ahora recuperemos el contenido del archivo\n",
    "v1 <- scan(\"OtroArchivo.txt\")\n",
    "print(v1)"
   ]
  },
  {
   "cell_type": "markdown",
   "metadata": {},
   "source": [
    "#### Creación de vectores a partir de secuencias y otros patrones\n",
    "\n",
    "Un vector, inicializado en ceros, o FALSE, y de longitud determinada, se puede crear con la función vector(). Es esta misma función la que permite crear vectores sin elementos."
   ]
  },
  {
   "cell_type": "code",
   "execution_count": 22,
   "metadata": {},
   "outputs": [
    {
     "name": "stdout",
     "output_type": "stream",
     "text": [
      "integer(0)\n"
     ]
    }
   ],
   "source": [
    "v <- vector(\"integer\", 0)\n",
    "print(v) # Un vector de enteros sin elementos"
   ]
  },
  {
   "cell_type": "code",
   "execution_count": 29,
   "metadata": {},
   "outputs": [
    {
     "data": {
      "text/html": [
       "<ol class=list-inline>\n",
       "\t<li>0</li>\n",
       "\t<li>0</li>\n",
       "\t<li>0</li>\n",
       "</ol>\n"
      ],
      "text/latex": [
       "\\begin{enumerate*}\n",
       "\\item 0\n",
       "\\item 0\n",
       "\\item 0\n",
       "\\end{enumerate*}\n"
      ],
      "text/markdown": [
       "1. 0\n",
       "2. 0\n",
       "3. 0\n",
       "\n",
       "\n"
      ],
      "text/plain": [
       "[1] 0 0 0"
      ]
     },
     "metadata": {},
     "output_type": "display_data"
    }
   ],
   "source": [
    "w <- vector(\"numeric\", 3)\n",
    "w # Un vector de tres ceros"
   ]
  },
  {
   "cell_type": "code",
   "execution_count": 30,
   "metadata": {},
   "outputs": [
    {
     "data": {
      "text/html": [
       "<ol class=list-inline>\n",
       "\t<li>FALSE</li>\n",
       "\t<li>FALSE</li>\n",
       "\t<li>FALSE</li>\n",
       "\t<li>FALSE</li>\n",
       "\t<li>FALSE</li>\n",
       "</ol>\n"
      ],
      "text/latex": [
       "\\begin{enumerate*}\n",
       "\\item FALSE\n",
       "\\item FALSE\n",
       "\\item FALSE\n",
       "\\item FALSE\n",
       "\\item FALSE\n",
       "\\end{enumerate*}\n"
      ],
      "text/markdown": [
       "1. FALSE\n",
       "2. FALSE\n",
       "3. FALSE\n",
       "4. FALSE\n",
       "5. FALSE\n",
       "\n",
       "\n"
      ],
      "text/plain": [
       "[1] FALSE FALSE FALSE FALSE FALSE"
      ]
     },
     "metadata": {},
     "output_type": "display_data"
    }
   ],
   "source": [
    "u <- vector(\"logical\", 5)\n",
    "u # Un vector de 5 FALSE"
   ]
  },
  {
   "cell_type": "markdown",
   "metadata": {},
   "source": [
    "El operador ’:’ permite generar un vector entero a partir de una secuencia creciente o decreciente de enteros, cuyos extremos se indican."
   ]
  },
  {
   "cell_type": "code",
   "execution_count": 31,
   "metadata": {},
   "outputs": [
    {
     "data": {
      "text/html": [
       "<ol class=list-inline>\n",
       "\t<li>1</li>\n",
       "\t<li>2</li>\n",
       "\t<li>3</li>\n",
       "</ol>\n"
      ],
      "text/latex": [
       "\\begin{enumerate*}\n",
       "\\item 1\n",
       "\\item 2\n",
       "\\item 3\n",
       "\\end{enumerate*}\n"
      ],
      "text/markdown": [
       "1. 1\n",
       "2. 2\n",
       "3. 3\n",
       "\n",
       "\n"
      ],
      "text/plain": [
       "[1] 1 2 3"
      ]
     },
     "metadata": {},
     "output_type": "display_data"
    }
   ],
   "source": [
    "1:3"
   ]
  },
  {
   "cell_type": "code",
   "execution_count": 32,
   "metadata": {},
   "outputs": [
    {
     "name": "stdout",
     "output_type": "stream",
     "text": [
      " [1] 40 39 38 37 36 35 34 33 32 31 30 29 28 27 26 25 24 23 22 21 20 19 18 17 16\n",
      "[26] 15 14 13\n"
     ]
    },
    {
     "data": {
      "text/html": [
       "'integer'"
      ],
      "text/latex": [
       "'integer'"
      ],
      "text/markdown": [
       "'integer'"
      ],
      "text/plain": [
       "[1] \"integer\""
      ]
     },
     "metadata": {},
     "output_type": "display_data"
    }
   ],
   "source": [
    "v <- 40:13\n",
    "print(v); class(v) # El vector y su clase"
   ]
  },
  {
   "cell_type": "code",
   "execution_count": 34,
   "metadata": {},
   "outputs": [
    {
     "name": "stdout",
     "output_type": "stream",
     "text": [
      "[1] 3.141593 4.141593 5.141593\n"
     ]
    },
    {
     "data": {
      "text/html": [
       "'numeric'"
      ],
      "text/latex": [
       "'numeric'"
      ],
      "text/markdown": [
       "'numeric'"
      ],
      "text/plain": [
       "[1] \"numeric\""
      ]
     },
     "metadata": {},
     "output_type": "display_data"
    }
   ],
   "source": [
    "# también pueden ser números no enteros\n",
    "v <- pi:6\n",
    "print(v); class(v) # El vector y su clase"
   ]
  },
  {
   "cell_type": "markdown",
   "metadata": {},
   "source": [
    "Ha intentado crear una secuencia. \n",
    "Sin embargo, es el operador seq() el que permite generar una mayor variedad de secuencias numéricas."
   ]
  },
  {
   "cell_type": "code",
   "execution_count": 36,
   "metadata": {},
   "outputs": [
    {
     "name": "stdout",
     "output_type": "stream",
     "text": [
      "[1]  5  7  9 11 13 15\n"
     ]
    },
    {
     "data": {
      "text/html": [
       "'numeric'"
      ],
      "text/latex": [
       "'numeric'"
      ],
      "text/markdown": [
       "'numeric'"
      ],
      "text/plain": [
       "[1] \"numeric\""
      ]
     },
     "metadata": {},
     "output_type": "display_data"
    }
   ],
   "source": [
    "v <- seq(from = 5, to = 15, by = 2)\n",
    "print(v) # secuencia desde 5 hasta 15 de 2 en 2\n",
    "class(v)"
   ]
  },
  {
   "cell_type": "code",
   "execution_count": 37,
   "metadata": {},
   "outputs": [
    {
     "name": "stdout",
     "output_type": "stream",
     "text": [
      "[1]  4  6  8 10 12 14 16 18\n"
     ]
    }
   ],
   "source": [
    "v <- seq(from = 4, by = 2, length.out = 8)\n",
    "print(v) # secuencia de 8 números iniciando desde 4 y de 2 en 2"
   ]
  },
  {
   "cell_type": "markdown",
   "metadata": {},
   "source": [
    "Algunas veces es necesario repetir una secuencia de números varias veces para generar un vector deseado. La función rep() sirve para ese propósito.\n",
    "Si, por ejemplo, quermos crear un vector con la repetición de la secuencia 4, 8, -3, cinco veces"
   ]
  },
  {
   "cell_type": "code",
   "execution_count": 38,
   "metadata": {},
   "outputs": [
    {
     "name": "stdout",
     "output_type": "stream",
     "text": [
      " [1]  4  8 -3  4  8 -3  4  8 -3  4  8 -3  4  8 -3\n"
     ]
    }
   ],
   "source": [
    "v <- c(4, 8, -3)\n",
    "w <- rep(v, times = 5)\n",
    "print(w)"
   ]
  },
  {
   "cell_type": "code",
   "execution_count": 39,
   "metadata": {},
   "outputs": [
    {
     "name": "stdout",
     "output_type": "stream",
     "text": [
      "[1] 3 4 5 5 4 3\n"
     ]
    }
   ],
   "source": [
    "# si queremos unir dos vectores (concatenar)\n",
    "u <- c(3, 4, 5)\n",
    "v <- c(5, 4, 3)\n",
    "w <- c(u, v)\n",
    "print(w) # La concatenación de u y v"
   ]
  },
  {
   "cell_type": "markdown",
   "metadata": {},
   "source": [
    "#### Acceder a los elementos de un vector\n",
    "Dentro de un vector, sus elementos se pueden identificar mediante un índice entero, que en el caso de este lenguaje empieza con el 1.\n"
   ]
  },
  {
   "cell_type": "code",
   "execution_count": 40,
   "metadata": {},
   "outputs": [
    {
     "data": {
      "text/html": [
       "182"
      ],
      "text/latex": [
       "182"
      ],
      "text/markdown": [
       "182"
      ],
      "text/plain": [
       "[1] 182"
      ]
     },
     "metadata": {},
     "output_type": "display_data"
    }
   ],
   "source": [
    "v <- c(8, 7, -3, 2, 182)\n",
    "v[5] # El quinto elemento"
   ]
  },
  {
   "cell_type": "code",
   "execution_count": 41,
   "metadata": {},
   "outputs": [
    {
     "name": "stdout",
     "output_type": "stream",
     "text": [
      "[1] 8\n",
      "[1] -3\n"
     ]
    }
   ],
   "source": [
    "print(v[1]); print(v[3])"
   ]
  },
  {
   "cell_type": "code",
   "execution_count": 42,
   "metadata": {},
   "outputs": [
    {
     "data": {
      "text/html": [
       "<ol class=list-inline>\n",
       "\t<li>-175</li>\n",
       "\t<li>7</li>\n",
       "\t<li>-3</li>\n",
       "\t<li>2</li>\n",
       "\t<li>182</li>\n",
       "</ol>\n"
      ],
      "text/latex": [
       "\\begin{enumerate*}\n",
       "\\item -175\n",
       "\\item 7\n",
       "\\item -3\n",
       "\\item 2\n",
       "\\item 182\n",
       "\\end{enumerate*}\n"
      ],
      "text/markdown": [
       "1. -175\n",
       "2. 7\n",
       "3. -3\n",
       "4. 2\n",
       "5. 182\n",
       "\n",
       "\n"
      ],
      "text/plain": [
       "[1] -175    7   -3    2  182"
      ]
     },
     "metadata": {},
     "output_type": "display_data"
    }
   ],
   "source": [
    "v[1] <- v[2] - v[5]\n",
    "v # Note que el resultado de la operación se ha guardado en v[1]"
   ]
  },
  {
   "cell_type": "code",
   "execution_count": 43,
   "metadata": {},
   "outputs": [
    {
     "data": {
      "text/html": [
       "<ol class=list-inline>\n",
       "\t<li>-175</li>\n",
       "\t<li>7</li>\n",
       "\t<li>-3</li>\n",
       "\t<li>2</li>\n",
       "\t<li>182</li>\n",
       "\t<li>&lt;NA&gt;</li>\n",
       "\t<li>&lt;NA&gt;</li>\n",
       "\t<li>213</li>\n",
       "</ol>\n"
      ],
      "text/latex": [
       "\\begin{enumerate*}\n",
       "\\item -175\n",
       "\\item 7\n",
       "\\item -3\n",
       "\\item 2\n",
       "\\item 182\n",
       "\\item <NA>\n",
       "\\item <NA>\n",
       "\\item 213\n",
       "\\end{enumerate*}\n"
      ],
      "text/markdown": [
       "1. -175\n",
       "2. 7\n",
       "3. -3\n",
       "4. 2\n",
       "5. 182\n",
       "6. &lt;NA&gt;\n",
       "7. &lt;NA&gt;\n",
       "8. 213\n",
       "\n",
       "\n"
      ],
      "text/plain": [
       "[1] -175    7   -3    2  182   NA   NA  213"
      ]
     },
     "metadata": {},
     "output_type": "display_data"
    }
   ],
   "source": [
    "# el vector v tiene 5 elementos. \n",
    "# Si se asigna un valor al elemento 8, el vector crecerá hasta esa longitud\n",
    "v[8] <- 213\n",
    "v # v tiene ahora 8 elementos con espacios vacios: NA"
   ]
  },
  {
   "cell_type": "markdown",
   "metadata": {},
   "source": [
    "Otra característica interesante de este lenguaje, es que permite dar nombre y acceder por medio de ese nombre a los elementos individuales de un vector.\n",
    "Supóngase por ejemplo que se tiene el registro de cantidades de ciertas frutas en un vector:"
   ]
  },
  {
   "cell_type": "code",
   "execution_count": 44,
   "metadata": {},
   "outputs": [
    {
     "data": {
      "text/html": [
       "<ol class=list-inline>\n",
       "\t<li>15</li>\n",
       "\t<li>100</li>\n",
       "\t<li>2</li>\n",
       "\t<li>30</li>\n",
       "</ol>\n"
      ],
      "text/latex": [
       "\\begin{enumerate*}\n",
       "\\item 15\n",
       "\\item 100\n",
       "\\item 2\n",
       "\\item 30\n",
       "\\end{enumerate*}\n"
      ],
      "text/markdown": [
       "1. 15\n",
       "2. 100\n",
       "3. 2\n",
       "4. 30\n",
       "\n",
       "\n"
      ],
      "text/plain": [
       "[1]  15 100   2  30"
      ]
     },
     "metadata": {},
     "output_type": "display_data"
    }
   ],
   "source": [
    "frutas <- c(15, 100, 2, 30)\n",
    "frutas"
   ]
  },
  {
   "cell_type": "code",
   "execution_count": 47,
   "metadata": {},
   "outputs": [
    {
     "name": "stdout",
     "output_type": "stream",
     "text": [
      "naranja    pera manzana   fresa \n",
      "     15     100       2      30 \n"
     ]
    }
   ],
   "source": [
    "# si queremos asociar esos valores con el nombre de la fruta\n",
    "names(frutas) <- c(\"naranja\", \"pera\", \"manzana\", \"fresa\")\n",
    "print(frutas)"
   ]
  },
  {
   "cell_type": "code",
   "execution_count": 49,
   "metadata": {},
   "outputs": [
    {
     "name": "stdout",
     "output_type": "stream",
     "text": [
      "naranja    pera manzana   fresa \n",
      "     15     100       2      30 \n"
     ]
    }
   ],
   "source": [
    "# otra forma de hace lo mismo\n",
    "frutas <- c(naranja = 15, pera = 100, manzana = 2, fresa = 30)\n",
    "print(frutas)"
   ]
  },
  {
   "cell_type": "code",
   "execution_count": 52,
   "metadata": {},
   "outputs": [
    {
     "data": {
      "text/html": [
       "<dl class=dl-horizontal>\n",
       "\t<dt>naranja</dt>\n",
       "\t\t<dd>15</dd>\n",
       "\t<dt>pera</dt>\n",
       "\t\t<dd>100</dd>\n",
       "\t<dt>manzana</dt>\n",
       "\t\t<dd>8</dd>\n",
       "\t<dt>fresa</dt>\n",
       "\t\t<dd>30</dd>\n",
       "</dl>\n"
      ],
      "text/latex": [
       "\\begin{description*}\n",
       "\\item[naranja] 15\n",
       "\\item[pera] 100\n",
       "\\item[manzana] 8\n",
       "\\item[fresa] 30\n",
       "\\end{description*}\n"
      ],
      "text/markdown": [
       "naranja\n",
       ":   15pera\n",
       ":   100manzana\n",
       ":   8fresa\n",
       ":   30\n",
       "\n"
      ],
      "text/plain": [
       "naranja    pera manzana   fresa \n",
       "     15     100       8      30 "
      ]
     },
     "metadata": {},
     "output_type": "display_data"
    }
   ],
   "source": [
    "# Ahora, se la puede llamar por su nombre\n",
    "frutas[\"manzana\"] <- 8\n",
    "frutas\n",
    "\n",
    "# Almacenar valores con un nombres es un concepto informático que se llama diccionario\n",
    "# o clave-valor"
   ]
  },
  {
   "cell_type": "markdown",
   "metadata": {},
   "source": [
    "#### Operaciones sencillas con vectores\n",
    "\n",
    "Todas las operaciones que podemos hacer con elementos simples, podemos hacerlas con vectores"
   ]
  },
  {
   "cell_type": "code",
   "execution_count": 53,
   "metadata": {},
   "outputs": [
    {
     "name": "stdout",
     "output_type": "stream",
     "text": [
      "[1] 5\n",
      "[1] -3  2\n",
      "[1]  4  3 12\n",
      "[1] 8 9 4\n"
     ]
    }
   ],
   "source": [
    "v <- 2 + 3 # Resulta en un vector de longitud 1\n",
    "print(v)\n",
    "v <- c(2, 3) - c(5, 1) # Resulta en un vector de longitud 2\n",
    "print(v)\n",
    "v <- c(2, 3, 4) * c(2, 1, 3) # Resulta en un vector de longitud 3\n",
    "print(v)\n",
    "v <- c(2, 3, 4)^(3:1) # Eleva a potencias 3,2,1\n",
    "print(v)"
   ]
  },
  {
   "cell_type": "code",
   "execution_count": 54,
   "metadata": {},
   "outputs": [
    {
     "name": "stdout",
     "output_type": "stream",
     "text": [
      " [1]  2  3  4  5  6  7  8  9 10 11 12 13 14 15 16 17 18 19 20 21 22 23 24 25 26\n",
      "[26] 27 28 29 30 31 32 33  4  5  6\n"
     ]
    },
    {
     "data": {
      "text/html": [
       "35"
      ],
      "text/latex": [
       "35"
      ],
      "text/markdown": [
       "35"
      ],
      "text/plain": [
       "[1] 35"
      ]
     },
     "metadata": {},
     "output_type": "display_data"
    }
   ],
   "source": [
    "u <- 2:33\n",
    "v <- c(4, 5, 6)\n",
    "w <- c(u, v)\n",
    "print(w)\n",
    "length(w)\n",
    "\n",
    "# la función length devuelve el número de elementos de un vector"
   ]
  },
  {
   "cell_type": "code",
   "execution_count": 55,
   "metadata": {},
   "outputs": [
    {
     "data": {
      "text/html": [
       "<ol class=list-inline>\n",
       "\t<li>TRUE</li>\n",
       "\t<li>TRUE</li>\n",
       "\t<li>TRUE</li>\n",
       "\t<li>TRUE</li>\n",
       "\t<li>TRUE</li>\n",
       "\t<li>TRUE</li>\n",
       "\t<li>TRUE</li>\n",
       "\t<li>TRUE</li>\n",
       "\t<li>TRUE</li>\n",
       "\t<li>FALSE</li>\n",
       "\t<li>FALSE</li>\n",
       "\t<li>FALSE</li>\n",
       "\t<li>FALSE</li>\n",
       "\t<li>FALSE</li>\n",
       "\t<li>FALSE</li>\n",
       "\t<li>FALSE</li>\n",
       "\t<li>FALSE</li>\n",
       "\t<li>FALSE</li>\n",
       "\t<li>FALSE</li>\n",
       "\t<li>FALSE</li>\n",
       "\t<li>FALSE</li>\n",
       "\t<li>FALSE</li>\n",
       "\t<li>FALSE</li>\n",
       "\t<li>FALSE</li>\n",
       "\t<li>FALSE</li>\n",
       "\t<li>FALSE</li>\n",
       "\t<li>FALSE</li>\n",
       "\t<li>FALSE</li>\n",
       "\t<li>FALSE</li>\n",
       "\t<li>FALSE</li>\n",
       "\t<li>FALSE</li>\n",
       "\t<li>FALSE</li>\n",
       "\t<li>TRUE</li>\n",
       "\t<li>TRUE</li>\n",
       "\t<li>TRUE</li>\n",
       "</ol>\n"
      ],
      "text/latex": [
       "\\begin{enumerate*}\n",
       "\\item TRUE\n",
       "\\item TRUE\n",
       "\\item TRUE\n",
       "\\item TRUE\n",
       "\\item TRUE\n",
       "\\item TRUE\n",
       "\\item TRUE\n",
       "\\item TRUE\n",
       "\\item TRUE\n",
       "\\item FALSE\n",
       "\\item FALSE\n",
       "\\item FALSE\n",
       "\\item FALSE\n",
       "\\item FALSE\n",
       "\\item FALSE\n",
       "\\item FALSE\n",
       "\\item FALSE\n",
       "\\item FALSE\n",
       "\\item FALSE\n",
       "\\item FALSE\n",
       "\\item FALSE\n",
       "\\item FALSE\n",
       "\\item FALSE\n",
       "\\item FALSE\n",
       "\\item FALSE\n",
       "\\item FALSE\n",
       "\\item FALSE\n",
       "\\item FALSE\n",
       "\\item FALSE\n",
       "\\item FALSE\n",
       "\\item FALSE\n",
       "\\item FALSE\n",
       "\\item TRUE\n",
       "\\item TRUE\n",
       "\\item TRUE\n",
       "\\end{enumerate*}\n"
      ],
      "text/markdown": [
       "1. TRUE\n",
       "2. TRUE\n",
       "3. TRUE\n",
       "4. TRUE\n",
       "5. TRUE\n",
       "6. TRUE\n",
       "7. TRUE\n",
       "8. TRUE\n",
       "9. TRUE\n",
       "10. FALSE\n",
       "11. FALSE\n",
       "12. FALSE\n",
       "13. FALSE\n",
       "14. FALSE\n",
       "15. FALSE\n",
       "16. FALSE\n",
       "17. FALSE\n",
       "18. FALSE\n",
       "19. FALSE\n",
       "20. FALSE\n",
       "21. FALSE\n",
       "22. FALSE\n",
       "23. FALSE\n",
       "24. FALSE\n",
       "25. FALSE\n",
       "26. FALSE\n",
       "27. FALSE\n",
       "28. FALSE\n",
       "29. FALSE\n",
       "30. FALSE\n",
       "31. FALSE\n",
       "32. FALSE\n",
       "33. TRUE\n",
       "34. TRUE\n",
       "35. TRUE\n",
       "\n",
       "\n"
      ],
      "text/plain": [
       " [1]  TRUE  TRUE  TRUE  TRUE  TRUE  TRUE  TRUE  TRUE  TRUE FALSE FALSE FALSE\n",
       "[13] FALSE FALSE FALSE FALSE FALSE FALSE FALSE FALSE FALSE FALSE FALSE FALSE\n",
       "[25] FALSE FALSE FALSE FALSE FALSE FALSE FALSE FALSE  TRUE  TRUE  TRUE"
      ]
     },
     "metadata": {},
     "output_type": "display_data"
    }
   ],
   "source": [
    "# ahora vamos a comprobar qué valores son menores o iguales que 10\n",
    "w<=10"
   ]
  },
  {
   "cell_type": "code",
   "execution_count": 56,
   "metadata": {},
   "outputs": [
    {
     "name": "stderr",
     "output_type": "stream",
     "text": [
      "Warning message in c(4, 5, 6, 7, 8, 9, 10) * c(1, 2):\n",
      "\"longitud de objeto mayor no es múltiplo de la longitud de uno menor\""
     ]
    }
   ],
   "source": [
    "v <- c(4, 5, 6, 7, 8, 9, 10) * c(1, 2)"
   ]
  },
  {
   "cell_type": "code",
   "execution_count": 57,
   "metadata": {},
   "outputs": [
    {
     "data": {
      "text/html": [
       "<ol class=list-inline>\n",
       "\t<li>4</li>\n",
       "\t<li>10</li>\n",
       "\t<li>6</li>\n",
       "\t<li>14</li>\n",
       "\t<li>8</li>\n",
       "\t<li>18</li>\n",
       "\t<li>10</li>\n",
       "</ol>\n"
      ],
      "text/latex": [
       "\\begin{enumerate*}\n",
       "\\item 4\n",
       "\\item 10\n",
       "\\item 6\n",
       "\\item 14\n",
       "\\item 8\n",
       "\\item 18\n",
       "\\item 10\n",
       "\\end{enumerate*}\n"
      ],
      "text/markdown": [
       "1. 4\n",
       "2. 10\n",
       "3. 6\n",
       "4. 14\n",
       "5. 8\n",
       "6. 18\n",
       "7. 10\n",
       "\n",
       "\n"
      ],
      "text/plain": [
       "[1]  4 10  6 14  8 18 10"
      ]
     },
     "metadata": {},
     "output_type": "display_data"
    }
   ],
   "source": [
    "v <- c(4, 5, 6, 7, 8, 9, 10) * c(1, 2, 1, 2, 1, 2, 1)\n",
    "v"
   ]
  },
  {
   "cell_type": "markdown",
   "metadata": {},
   "source": [
    "Si no queremos que nos muestre esos WARNINGS, porque a veces son más pesados que Seldon Cooper, pues:"
   ]
  },
  {
   "cell_type": "code",
   "execution_count": 59,
   "metadata": {},
   "outputs": [
    {
     "data": {
      "text/html": [
       "<ol class=list-inline>\n",
       "\t<li>4</li>\n",
       "\t<li>10</li>\n",
       "\t<li>6</li>\n",
       "\t<li>14</li>\n",
       "\t<li>8</li>\n",
       "\t<li>18</li>\n",
       "\t<li>10</li>\n",
       "</ol>\n"
      ],
      "text/latex": [
       "\\begin{enumerate*}\n",
       "\\item 4\n",
       "\\item 10\n",
       "\\item 6\n",
       "\\item 14\n",
       "\\item 8\n",
       "\\item 18\n",
       "\\item 10\n",
       "\\end{enumerate*}\n"
      ],
      "text/markdown": [
       "1. 4\n",
       "2. 10\n",
       "3. 6\n",
       "4. 14\n",
       "5. 8\n",
       "6. 18\n",
       "7. 10\n",
       "\n",
       "\n"
      ],
      "text/plain": [
       "[1]  4 10  6 14  8 18 10"
      ]
     },
     "metadata": {},
     "output_type": "display_data"
    }
   ],
   "source": [
    "options(warn = -1)\n",
    "v <- c(4, 5, 6, 7, 8, 9, 10) * c(1, 2)\n",
    "v"
   ]
  },
  {
   "cell_type": "code",
   "execution_count": 60,
   "metadata": {},
   "outputs": [
    {
     "data": {
      "text/html": [
       "<ol class=list-inline>\n",
       "\t<li>8</li>\n",
       "\t<li>18</li>\n",
       "\t<li>32</li>\n",
       "</ol>\n"
      ],
      "text/latex": [
       "\\begin{enumerate*}\n",
       "\\item 8\n",
       "\\item 18\n",
       "\\item 32\n",
       "\\end{enumerate*}\n"
      ],
      "text/markdown": [
       "1. 8\n",
       "2. 18\n",
       "3. 32\n",
       "\n",
       "\n"
      ],
      "text/plain": [
       "[1]  8 18 32"
      ]
     },
     "metadata": {},
     "output_type": "display_data"
    }
   ],
   "source": [
    "# Más operaciones vectoriales\n",
    "v <- c(2, -3, 4)\n",
    "w <- 2 * (v^2) # Dos veces el cuadrado de v\n",
    "w"
   ]
  },
  {
   "cell_type": "code",
   "execution_count": 62,
   "metadata": {},
   "outputs": [
    {
     "data": {
      "text/html": [
       "<ol class=list-inline>\n",
       "\t<li>3</li>\n",
       "\t<li>2.82842712474619</li>\n",
       "\t<li>5.56776436283002</li>\n",
       "</ol>\n"
      ],
      "text/latex": [
       "\\begin{enumerate*}\n",
       "\\item 3\n",
       "\\item 2.82842712474619\n",
       "\\item 5.56776436283002\n",
       "\\end{enumerate*}\n"
      ],
      "text/markdown": [
       "1. 3\n",
       "2. 2.82842712474619\n",
       "3. 5.56776436283002\n",
       "\n",
       "\n"
      ],
      "text/plain": [
       "[1] 3.000000 2.828427 5.567764"
      ]
     },
     "metadata": {},
     "output_type": "display_data"
    },
    {
     "data": {
      "text/html": [
       "<ol class=list-inline>\n",
       "\t<li>0.523598775598299</li>\n",
       "\t<li>0.785398163397448</li>\n",
       "\t<li>1.0471975511966</li>\n",
       "</ol>\n"
      ],
      "text/latex": [
       "\\begin{enumerate*}\n",
       "\\item 0.523598775598299\n",
       "\\item 0.785398163397448\n",
       "\\item 1.0471975511966\n",
       "\\end{enumerate*}\n"
      ],
      "text/markdown": [
       "1. 0.523598775598299\n",
       "2. 0.785398163397448\n",
       "3. 1.0471975511966\n",
       "\n",
       "\n"
      ],
      "text/plain": [
       "[1] 0.5235988 0.7853982 1.0471976"
      ]
     },
     "metadata": {},
     "output_type": "display_data"
    },
    {
     "data": {
      "text/html": [
       "<ol class=list-inline>\n",
       "\t<li>0.5</li>\n",
       "\t<li>0.707106781186547</li>\n",
       "\t<li>0.866025403784439</li>\n",
       "</ol>\n"
      ],
      "text/latex": [
       "\\begin{enumerate*}\n",
       "\\item 0.5\n",
       "\\item 0.707106781186547\n",
       "\\item 0.866025403784439\n",
       "\\end{enumerate*}\n"
      ],
      "text/markdown": [
       "1. 0.5\n",
       "2. 0.707106781186547\n",
       "3. 0.866025403784439\n",
       "\n",
       "\n"
      ],
      "text/plain": [
       "[1] 0.5000000 0.7071068 0.8660254"
      ]
     },
     "metadata": {},
     "output_type": "display_data"
    }
   ],
   "source": [
    "# Se desea la raíz cuadrada de los siguientes valores:\n",
    "v <- c(9, 8, 31)\n",
    "sqrt(v)\n",
    "\n",
    "# El sin de 30, 45 y 60 grados: Primero se hace la conversión\n",
    "# a radianes:\n",
    "angulos <- c(30, 45, 60) * (pi/180)\n",
    "angulos # En radianes\n",
    "\n",
    "senos <- sin(angulos)\n",
    "senos"
   ]
  },
  {
   "cell_type": "markdown",
   "metadata": {},
   "source": [
    "**Problema:\n",
    "De un edificio, a una altura de 15 m, se ha lanzado con un ángulo de 50 grados, un proyectil a una velocidad de 7 m/s. ¿Cuáles serán las alturas (coordenadas y) del proyectil a cada 0.5 m de distancia horizontal desde donde se lanzó y hasta los 11 m?\n",
    "Las ecuaciones que gobiernan este fenómeno son las siguientes:\n",
    "x = v0x*t + x0\n",
    "y = -1/2*gt^2 + v0y*t + y0**\n",
    "\n",
    "Aquí, g es la aceleración de la gravedad, el parámetro t se refiere al tiempo,y la velocidad está descompuesta en sus componentes: v0x y v0y.\n",
    "\n",
    "Ayuda: v0x y v0y se pueden calcular a partir de la velocidad inicial y el ángulo, usando las funciones trigonométricas sin() y cos(), y considerando que en R, los argumentos de esas funciones deben estar dados en radianes, y por tanto el ángulo debe convertirse a esa unidad."
   ]
  },
  {
   "cell_type": "code",
   "execution_count": 63,
   "metadata": {},
   "outputs": [
    {
     "data": {
      "text/html": [
       "4.49951326780578"
      ],
      "text/latex": [
       "4.49951326780578"
      ],
      "text/markdown": [
       "4.49951326780578"
      ],
      "text/plain": [
       "[1] 4.499513"
      ]
     },
     "metadata": {},
     "output_type": "display_data"
    },
    {
     "data": {
      "text/html": [
       "5.36231110183285"
      ],
      "text/latex": [
       "5.36231110183285"
      ],
      "text/markdown": [
       "5.36231110183285"
      ],
      "text/plain": [
       "[1] 5.362311"
      ]
     },
     "metadata": {},
     "output_type": "display_data"
    }
   ],
   "source": [
    "# Definimos unos datos iniciales\n",
    "g <- 9.81 # aceleración gravedad\n",
    "x0 <- 0 # x inicial\n",
    "y0 <- 15 # y inicial\n",
    "vi <- 7 # velocidad inicial\n",
    "alphaD <- 50 # ángulo-grados\n",
    "\n",
    "# y para encontrar las componentes de la velocidad:\n",
    "# Se convierte a radianes\n",
    "alpha <- (pi/180) * alphaD # angulo-radianes\n",
    "vox <- vi * cos(alpha) # componente x de velocidad inicial\n",
    "vox\n",
    "\n",
    "voy <- vi * sin(alpha) # componente y de velocidad inicial\n",
    "voy"
   ]
  },
  {
   "cell_type": "code",
   "execution_count": 65,
   "metadata": {},
   "outputs": [],
   "source": [
    "# ahora resolvemos el problema\n",
    "# desde 0 hasta 11 de 0.5 en 0.5:\n",
    "las.x <- seq(from = 0, to = 11, by = 0.5)\n",
    "\n",
    "# que tenga un . o un _ en una definición de una variable\n",
    "# lo único que le aporta es claridad."
   ]
  },
  {
   "cell_type": "code",
   "execution_count": 68,
   "metadata": {},
   "outputs": [
    {
     "name": "stdout",
     "output_type": "stream",
     "text": [
      "[1] \"Las x\"\n"
     ]
    },
    {
     "data": {
      "text/html": [
       "<ol class=list-inline>\n",
       "\t<li>0</li>\n",
       "\t<li>0.5</li>\n",
       "\t<li>1</li>\n",
       "\t<li>1.5</li>\n",
       "\t<li>2</li>\n",
       "\t<li>2.5</li>\n",
       "\t<li>3</li>\n",
       "\t<li>3.5</li>\n",
       "\t<li>4</li>\n",
       "\t<li>4.5</li>\n",
       "\t<li>5</li>\n",
       "\t<li>5.5</li>\n",
       "\t<li>6</li>\n",
       "\t<li>6.5</li>\n",
       "\t<li>7</li>\n",
       "\t<li>7.5</li>\n",
       "\t<li>8</li>\n",
       "\t<li>8.5</li>\n",
       "\t<li>9</li>\n",
       "\t<li>9.5</li>\n",
       "\t<li>10</li>\n",
       "\t<li>10.5</li>\n",
       "\t<li>11</li>\n",
       "</ol>\n"
      ],
      "text/latex": [
       "\\begin{enumerate*}\n",
       "\\item 0\n",
       "\\item 0.5\n",
       "\\item 1\n",
       "\\item 1.5\n",
       "\\item 2\n",
       "\\item 2.5\n",
       "\\item 3\n",
       "\\item 3.5\n",
       "\\item 4\n",
       "\\item 4.5\n",
       "\\item 5\n",
       "\\item 5.5\n",
       "\\item 6\n",
       "\\item 6.5\n",
       "\\item 7\n",
       "\\item 7.5\n",
       "\\item 8\n",
       "\\item 8.5\n",
       "\\item 9\n",
       "\\item 9.5\n",
       "\\item 10\n",
       "\\item 10.5\n",
       "\\item 11\n",
       "\\end{enumerate*}\n"
      ],
      "text/markdown": [
       "1. 0\n",
       "2. 0.5\n",
       "3. 1\n",
       "4. 1.5\n",
       "5. 2\n",
       "6. 2.5\n",
       "7. 3\n",
       "8. 3.5\n",
       "9. 4\n",
       "10. 4.5\n",
       "11. 5\n",
       "12. 5.5\n",
       "13. 6\n",
       "14. 6.5\n",
       "15. 7\n",
       "16. 7.5\n",
       "17. 8\n",
       "18. 8.5\n",
       "19. 9\n",
       "20. 9.5\n",
       "21. 10\n",
       "22. 10.5\n",
       "23. 11\n",
       "\n",
       "\n"
      ],
      "text/plain": [
       " [1]  0.0  0.5  1.0  1.5  2.0  2.5  3.0  3.5  4.0  4.5  5.0  5.5  6.0  6.5  7.0\n",
       "[16]  7.5  8.0  8.5  9.0  9.5 10.0 10.5 11.0"
      ]
     },
     "metadata": {},
     "output_type": "display_data"
    },
    {
     "name": "stdout",
     "output_type": "stream",
     "text": [
      "[1] \"Las y\"\n"
     ]
    },
    {
     "data": {
      "text/html": [
       "<ol class=list-inline>\n",
       "\t<li>15</li>\n",
       "\t<li>15.5353081389099</li>\n",
       "\t<li>15.9494789630455</li>\n",
       "\t<li>16.2425124724067</li>\n",
       "\t<li>16.4144086669935</li>\n",
       "\t<li>16.465167546806</li>\n",
       "\t<li>16.3947891118442</li>\n",
       "\t<li>16.2032733621079</li>\n",
       "\t<li>15.8906202975973</li>\n",
       "\t<li>15.4568299183124</li>\n",
       "\t<li>14.9019022242531</li>\n",
       "\t<li>14.2258372154194</li>\n",
       "\t<li>13.4286348918114</li>\n",
       "\t<li>12.510295253429</li>\n",
       "\t<li>11.4708183002723</li>\n",
       "\t<li>10.3102040323411</li>\n",
       "\t<li>9.02845244963568</li>\n",
       "\t<li>7.62556355215586</li>\n",
       "\t<li>6.10153733990168</li>\n",
       "\t<li>4.45637381287313</li>\n",
       "\t<li>2.69007297107023</li>\n",
       "\t<li>0.80263481449297</li>\n",
       "\t<li>-1.20594065685865</li>\n",
       "</ol>\n"
      ],
      "text/latex": [
       "\\begin{enumerate*}\n",
       "\\item 15\n",
       "\\item 15.5353081389099\n",
       "\\item 15.9494789630455\n",
       "\\item 16.2425124724067\n",
       "\\item 16.4144086669935\n",
       "\\item 16.465167546806\n",
       "\\item 16.3947891118442\n",
       "\\item 16.2032733621079\n",
       "\\item 15.8906202975973\n",
       "\\item 15.4568299183124\n",
       "\\item 14.9019022242531\n",
       "\\item 14.2258372154194\n",
       "\\item 13.4286348918114\n",
       "\\item 12.510295253429\n",
       "\\item 11.4708183002723\n",
       "\\item 10.3102040323411\n",
       "\\item 9.02845244963568\n",
       "\\item 7.62556355215586\n",
       "\\item 6.10153733990168\n",
       "\\item 4.45637381287313\n",
       "\\item 2.69007297107023\n",
       "\\item 0.80263481449297\n",
       "\\item -1.20594065685865\n",
       "\\end{enumerate*}\n"
      ],
      "text/markdown": [
       "1. 15\n",
       "2. 15.5353081389099\n",
       "3. 15.9494789630455\n",
       "4. 16.2425124724067\n",
       "5. 16.4144086669935\n",
       "6. 16.465167546806\n",
       "7. 16.3947891118442\n",
       "8. 16.2032733621079\n",
       "9. 15.8906202975973\n",
       "10. 15.4568299183124\n",
       "11. 14.9019022242531\n",
       "12. 14.2258372154194\n",
       "13. 13.4286348918114\n",
       "14. 12.510295253429\n",
       "15. 11.4708183002723\n",
       "16. 10.3102040323411\n",
       "17. 9.02845244963568\n",
       "18. 7.62556355215586\n",
       "19. 6.10153733990168\n",
       "20. 4.45637381287313\n",
       "21. 2.69007297107023\n",
       "22. 0.80263481449297\n",
       "23. -1.20594065685865\n",
       "\n",
       "\n"
      ],
      "text/plain": [
       " [1] 15.0000000 15.5353081 15.9494790 16.2425125 16.4144087 16.4651675\n",
       " [7] 16.3947891 16.2032734 15.8906203 15.4568299 14.9019022 14.2258372\n",
       "[13] 13.4286349 12.5102953 11.4708183 10.3102040  9.0284524  7.6255636\n",
       "[19]  6.1015373  4.4563738  2.6900730  0.8026348 -1.2059407"
      ]
     },
     "metadata": {},
     "output_type": "display_data"
    }
   ],
   "source": [
    "# aplicamos las funciones\n",
    "las.t <- (las.x - x0)/vox\n",
    "las.y <- -(g/2) * las.t^2 + voy * las.t + y0\n",
    "# Los resultados:\n",
    "print('Las x')\n",
    "las.x\n",
    "print('Las y')\n",
    "las.y"
   ]
  },
  {
   "cell_type": "markdown",
   "metadata": {},
   "source": [
    "### Matrices\n",
    "\n",
    "Una matriz es un vector con un atributo adicional: dim. Para el caso de las matrices, este atributo es un vector entero de dos elementos, a saber: el número de filas y el número de columnas que componen a la matriz.\n",
    "\n",
    "#### Construcción de matrices\n",
    "Si lo hacemos a partir de un vector:"
   ]
  },
  {
   "cell_type": "code",
   "execution_count": 77,
   "metadata": {},
   "outputs": [],
   "source": [
    "# supongamos que tenemos \n",
    "m <- 11:30 # Un vector con 20 números"
   ]
  },
  {
   "cell_type": "code",
   "execution_count": 78,
   "metadata": {},
   "outputs": [
    {
     "data": {
      "text/html": [
       "<table>\n",
       "<caption>A matrix: 4 × 5 of type int</caption>\n",
       "<tbody>\n",
       "\t<tr><td>11</td><td>15</td><td>19</td><td>23</td><td>27</td></tr>\n",
       "\t<tr><td>12</td><td>16</td><td>20</td><td>24</td><td>28</td></tr>\n",
       "\t<tr><td>13</td><td>17</td><td>21</td><td>25</td><td>29</td></tr>\n",
       "\t<tr><td>14</td><td>18</td><td>22</td><td>26</td><td>30</td></tr>\n",
       "</tbody>\n",
       "</table>\n"
      ],
      "text/latex": [
       "A matrix: 4 × 5 of type int\n",
       "\\begin{tabular}{lllll}\n",
       "\t 11 & 15 & 19 & 23 & 27\\\\\n",
       "\t 12 & 16 & 20 & 24 & 28\\\\\n",
       "\t 13 & 17 & 21 & 25 & 29\\\\\n",
       "\t 14 & 18 & 22 & 26 & 30\\\\\n",
       "\\end{tabular}\n"
      ],
      "text/markdown": [
       "\n",
       "A matrix: 4 × 5 of type int\n",
       "\n",
       "| 11 | 15 | 19 | 23 | 27 |\n",
       "| 12 | 16 | 20 | 24 | 28 |\n",
       "| 13 | 17 | 21 | 25 | 29 |\n",
       "| 14 | 18 | 22 | 26 | 30 |\n",
       "\n"
      ],
      "text/plain": [
       "     [,1] [,2] [,3] [,4] [,5]\n",
       "[1,] 11   15   19   23   27  \n",
       "[2,] 12   16   20   24   28  \n",
       "[3,] 13   17   21   25   29  \n",
       "[4,] 14   18   22   26   30  "
      ]
     },
     "metadata": {},
     "output_type": "display_data"
    }
   ],
   "source": [
    "# Para convertirla en matriz simplemente se especifica el\n",
    "# atributo dim\n",
    "dim(m) <- c(4, 5) # 4 filas y 5 columnas\n",
    "m"
   ]
  },
  {
   "cell_type": "code",
   "execution_count": 79,
   "metadata": {},
   "outputs": [
    {
     "data": {
      "text/html": [
       "'matrix'"
      ],
      "text/latex": [
       "'matrix'"
      ],
      "text/markdown": [
       "'matrix'"
      ],
      "text/plain": [
       "[1] \"matrix\""
      ]
     },
     "metadata": {},
     "output_type": "display_data"
    }
   ],
   "source": [
    "class(m)"
   ]
  },
  {
   "cell_type": "code",
   "execution_count": 80,
   "metadata": {},
   "outputs": [
    {
     "data": {
      "text/html": [
       "<table>\n",
       "<caption>A matrix: 5 × 4 of type int</caption>\n",
       "<tbody>\n",
       "\t<tr><td>11</td><td>16</td><td>21</td><td>26</td></tr>\n",
       "\t<tr><td>12</td><td>17</td><td>22</td><td>27</td></tr>\n",
       "\t<tr><td>13</td><td>18</td><td>23</td><td>28</td></tr>\n",
       "\t<tr><td>14</td><td>19</td><td>24</td><td>29</td></tr>\n",
       "\t<tr><td>15</td><td>20</td><td>25</td><td>30</td></tr>\n",
       "</tbody>\n",
       "</table>\n"
      ],
      "text/latex": [
       "A matrix: 5 × 4 of type int\n",
       "\\begin{tabular}{llll}\n",
       "\t 11 & 16 & 21 & 26\\\\\n",
       "\t 12 & 17 & 22 & 27\\\\\n",
       "\t 13 & 18 & 23 & 28\\\\\n",
       "\t 14 & 19 & 24 & 29\\\\\n",
       "\t 15 & 20 & 25 & 30\\\\\n",
       "\\end{tabular}\n"
      ],
      "text/markdown": [
       "\n",
       "A matrix: 5 × 4 of type int\n",
       "\n",
       "| 11 | 16 | 21 | 26 |\n",
       "| 12 | 17 | 22 | 27 |\n",
       "| 13 | 18 | 23 | 28 |\n",
       "| 14 | 19 | 24 | 29 |\n",
       "| 15 | 20 | 25 | 30 |\n",
       "\n"
      ],
      "text/plain": [
       "     [,1] [,2] [,3] [,4]\n",
       "[1,] 11   16   21   26  \n",
       "[2,] 12   17   22   27  \n",
       "[3,] 13   18   23   28  \n",
       "[4,] 14   19   24   29  \n",
       "[5,] 15   20   25   30  "
      ]
     },
     "metadata": {},
     "output_type": "display_data"
    }
   ],
   "source": [
    "# se puede cambiar en cualquier momento la dimensión\n",
    "dim(m) <- c(5, 4) # ahora 5 renglones y 4 columnas\n",
    "m"
   ]
  },
  {
   "cell_type": "code",
   "execution_count": 81,
   "metadata": {},
   "outputs": [
    {
     "data": {
      "text/html": [
       "18"
      ],
      "text/latex": [
       "18"
      ],
      "text/markdown": [
       "18"
      ],
      "text/plain": [
       "[1] 18"
      ]
     },
     "metadata": {},
     "output_type": "display_data"
    },
    {
     "data": {
      "text/html": [
       "18"
      ],
      "text/latex": [
       "18"
      ],
      "text/markdown": [
       "18"
      ],
      "text/plain": [
       "[1] 18"
      ]
     },
     "metadata": {},
     "output_type": "display_data"
    }
   ],
   "source": [
    "# para mostrar el valor de un elemento de la matriz\n",
    "m[3, 2]\n",
    "# y ahora con un solo índice, va bajando por columnas\n",
    "m[8]"
   ]
  },
  {
   "cell_type": "markdown",
   "metadata": {},
   "source": [
    "Una ventaja del lenguaje es que permite hacer referencia a una columna o a una fila de la matriz, como si se tratara de un sólo objeto, o sea como un vector. Para ello, se omite alguno de los dos índices en la expresión de acceso a la matriz, como se muestra más adelante. En el ejemplo que se viene examinando, esos vectores estarían compuestos por números enteros, aunque los\n",
    "componentes de una matriz pueden ser también reales (numeric) o complejos (complex)."
   ]
  },
  {
   "cell_type": "code",
   "execution_count": 82,
   "metadata": {},
   "outputs": [
    {
     "data": {
      "text/html": [
       "<ol class=list-inline>\n",
       "\t<li>13</li>\n",
       "\t<li>18</li>\n",
       "\t<li>23</li>\n",
       "\t<li>28</li>\n",
       "</ol>\n"
      ],
      "text/latex": [
       "\\begin{enumerate*}\n",
       "\\item 13\n",
       "\\item 18\n",
       "\\item 23\n",
       "\\item 28\n",
       "\\end{enumerate*}\n"
      ],
      "text/markdown": [
       "1. 13\n",
       "2. 18\n",
       "3. 23\n",
       "4. 28\n",
       "\n",
       "\n"
      ],
      "text/plain": [
       "[1] 13 18 23 28"
      ]
     },
     "metadata": {},
     "output_type": "display_data"
    }
   ],
   "source": [
    "# El renglón 3 y la columna 2 de la matriz:\n",
    "m[3, ]"
   ]
  },
  {
   "cell_type": "code",
   "execution_count": 83,
   "metadata": {},
   "outputs": [
    {
     "data": {
      "text/html": [
       "<ol class=list-inline>\n",
       "\t<li>16</li>\n",
       "\t<li>17</li>\n",
       "\t<li>18</li>\n",
       "\t<li>19</li>\n",
       "\t<li>20</li>\n",
       "</ol>\n"
      ],
      "text/latex": [
       "\\begin{enumerate*}\n",
       "\\item 16\n",
       "\\item 17\n",
       "\\item 18\n",
       "\\item 19\n",
       "\\item 20\n",
       "\\end{enumerate*}\n"
      ],
      "text/markdown": [
       "1. 16\n",
       "2. 17\n",
       "3. 18\n",
       "4. 19\n",
       "5. 20\n",
       "\n",
       "\n"
      ],
      "text/plain": [
       "[1] 16 17 18 19 20"
      ]
     },
     "metadata": {},
     "output_type": "display_data"
    }
   ],
   "source": [
    "m[, 2]"
   ]
  },
  {
   "cell_type": "code",
   "execution_count": 84,
   "metadata": {},
   "outputs": [
    {
     "data": {
      "text/html": [
       "'integer'"
      ],
      "text/latex": [
       "'integer'"
      ],
      "text/markdown": [
       "'integer'"
      ],
      "text/plain": [
       "[1] \"integer\""
      ]
     },
     "metadata": {},
     "output_type": "display_data"
    }
   ],
   "source": [
    "# La clase las columnas o renglones:\n",
    "class(m[3, ])"
   ]
  },
  {
   "cell_type": "markdown",
   "metadata": {},
   "source": [
    "Las matrices también se pueden crear de manera flexible por medio de la función primitiva matrix(), que permite alterar la secuencia por defecto de la creación de la matriz; esto es, ahora, si se quiere, se puede crear la matriz por filas en vez de columnas:"
   ]
  },
  {
   "cell_type": "code",
   "execution_count": 85,
   "metadata": {},
   "outputs": [
    {
     "data": {
      "text/html": [
       "<table>\n",
       "<caption>A matrix: 5 × 4 of type int</caption>\n",
       "<tbody>\n",
       "\t<tr><td>11</td><td>12</td><td>13</td><td>14</td></tr>\n",
       "\t<tr><td>15</td><td>16</td><td>17</td><td>18</td></tr>\n",
       "\t<tr><td>19</td><td>20</td><td>21</td><td>22</td></tr>\n",
       "\t<tr><td>23</td><td>24</td><td>25</td><td>26</td></tr>\n",
       "\t<tr><td>27</td><td>28</td><td>29</td><td>30</td></tr>\n",
       "</tbody>\n",
       "</table>\n"
      ],
      "text/latex": [
       "A matrix: 5 × 4 of type int\n",
       "\\begin{tabular}{llll}\n",
       "\t 11 & 12 & 13 & 14\\\\\n",
       "\t 15 & 16 & 17 & 18\\\\\n",
       "\t 19 & 20 & 21 & 22\\\\\n",
       "\t 23 & 24 & 25 & 26\\\\\n",
       "\t 27 & 28 & 29 & 30\\\\\n",
       "\\end{tabular}\n"
      ],
      "text/markdown": [
       "\n",
       "A matrix: 5 × 4 of type int\n",
       "\n",
       "| 11 | 12 | 13 | 14 |\n",
       "| 15 | 16 | 17 | 18 |\n",
       "| 19 | 20 | 21 | 22 |\n",
       "| 23 | 24 | 25 | 26 |\n",
       "| 27 | 28 | 29 | 30 |\n",
       "\n"
      ],
      "text/plain": [
       "     [,1] [,2] [,3] [,4]\n",
       "[1,] 11   12   13   14  \n",
       "[2,] 15   16   17   18  \n",
       "[3,] 19   20   21   22  \n",
       "[4,] 23   24   25   26  \n",
       "[5,] 27   28   29   30  "
      ]
     },
     "metadata": {},
     "output_type": "display_data"
    }
   ],
   "source": [
    "(m <- matrix(11:30, nrow = 5, ncol = 4, byrow = TRUE))"
   ]
  },
  {
   "cell_type": "code",
   "execution_count": 86,
   "metadata": {},
   "outputs": [],
   "source": [
    "# además, a las filas y las columnas de una matriz se les pueden\n",
    "# asignar nombres, que pueden ser después consultados o usados como índices:\n",
    "rownames(m) <- c(\"uno\", \"dos\", \"tres\", \"cuatro\", \"cinco\")\n",
    "colnames(m) <- c(\"UNO\", \"DOS\", \"TRES\", \"CUATRO\")"
   ]
  },
  {
   "cell_type": "code",
   "execution_count": 87,
   "metadata": {},
   "outputs": [
    {
     "name": "stdout",
     "output_type": "stream",
     "text": [
      "       UNO DOS TRES CUATRO\n",
      "uno     11  12   13     14\n",
      "dos     15  16   17     18\n",
      "tres    19  20   21     22\n",
      "cuatro  23  24   25     26\n",
      "cinco   27  28   29     30\n"
     ]
    }
   ],
   "source": [
    "print(m)"
   ]
  },
  {
   "cell_type": "code",
   "execution_count": 88,
   "metadata": {},
   "outputs": [
    {
     "data": {
      "text/html": [
       "<ol class=list-inline>\n",
       "\t<li>'UNO'</li>\n",
       "\t<li>'DOS'</li>\n",
       "\t<li>'TRES'</li>\n",
       "\t<li>'CUATRO'</li>\n",
       "</ol>\n"
      ],
      "text/latex": [
       "\\begin{enumerate*}\n",
       "\\item 'UNO'\n",
       "\\item 'DOS'\n",
       "\\item 'TRES'\n",
       "\\item 'CUATRO'\n",
       "\\end{enumerate*}\n"
      ],
      "text/markdown": [
       "1. 'UNO'\n",
       "2. 'DOS'\n",
       "3. 'TRES'\n",
       "4. 'CUATRO'\n",
       "\n",
       "\n"
      ],
      "text/plain": [
       "[1] \"UNO\"    \"DOS\"    \"TRES\"   \"CUATRO\""
      ]
     },
     "metadata": {},
     "output_type": "display_data"
    }
   ],
   "source": [
    "# Consulta de los nombres de las columnas\n",
    "colnames(m)"
   ]
  },
  {
   "cell_type": "code",
   "execution_count": 89,
   "metadata": {},
   "outputs": [
    {
     "data": {
      "text/html": [
       "<dl class=dl-horizontal>\n",
       "\t<dt>uno</dt>\n",
       "\t\t<dd>12</dd>\n",
       "\t<dt>dos</dt>\n",
       "\t\t<dd>16</dd>\n",
       "\t<dt>tres</dt>\n",
       "\t\t<dd>20</dd>\n",
       "\t<dt>cuatro</dt>\n",
       "\t\t<dd>24</dd>\n",
       "\t<dt>cinco</dt>\n",
       "\t\t<dd>28</dd>\n",
       "</dl>\n"
      ],
      "text/latex": [
       "\\begin{description*}\n",
       "\\item[uno] 12\n",
       "\\item[dos] 16\n",
       "\\item[tres] 20\n",
       "\\item[cuatro] 24\n",
       "\\item[cinco] 28\n",
       "\\end{description*}\n"
      ],
      "text/markdown": [
       "uno\n",
       ":   12dos\n",
       ":   16tres\n",
       ":   20cuatro\n",
       ":   24cinco\n",
       ":   28\n",
       "\n"
      ],
      "text/plain": [
       "   uno    dos   tres cuatro  cinco \n",
       "    12     16     20     24     28 "
      ]
     },
     "metadata": {},
     "output_type": "display_data"
    }
   ],
   "source": [
    "# Una columna:\n",
    "m[, \"DOS\"]"
   ]
  },
  {
   "cell_type": "markdown",
   "metadata": {},
   "source": [
    "Las funciones rbind() y cbind(), son otras que se pueden utilizar para construir matrices, dando, ya sea las filas  individuales o las columnas individuales, respectivamente."
   ]
  },
  {
   "cell_type": "code",
   "execution_count": 90,
   "metadata": {},
   "outputs": [
    {
     "data": {
      "text/html": [
       "<table>\n",
       "<caption>A matrix: 2 × 3 of type dbl</caption>\n",
       "<tbody>\n",
       "\t<tr><td>1.5</td><td> 3.2</td><td>-5.5</td></tr>\n",
       "\t<tr><td>0.0</td><td>-1.1</td><td>60.0</td></tr>\n",
       "</tbody>\n",
       "</table>\n"
      ],
      "text/latex": [
       "A matrix: 2 × 3 of type dbl\n",
       "\\begin{tabular}{lll}\n",
       "\t 1.5 &  3.2 & -5.5\\\\\n",
       "\t 0.0 & -1.1 & 60.0\\\\\n",
       "\\end{tabular}\n"
      ],
      "text/markdown": [
       "\n",
       "A matrix: 2 × 3 of type dbl\n",
       "\n",
       "| 1.5 |  3.2 | -5.5 |\n",
       "| 0.0 | -1.1 | 60.0 |\n",
       "\n"
      ],
      "text/plain": [
       "     [,1] [,2] [,3]\n",
       "[1,] 1.5   3.2 -5.5\n",
       "[2,] 0.0  -1.1 60.0"
      ]
     },
     "metadata": {},
     "output_type": "display_data"
    }
   ],
   "source": [
    "m1 <- rbind(c(1.5, 3.2, -5.5), c(0, -1.1, 60))\n",
    "m1"
   ]
  },
  {
   "cell_type": "code",
   "execution_count": 91,
   "metadata": {},
   "outputs": [
    {
     "data": {
      "text/html": [
       "'numeric'"
      ],
      "text/latex": [
       "'numeric'"
      ],
      "text/markdown": [
       "'numeric'"
      ],
      "text/plain": [
       "[1] \"numeric\""
      ]
     },
     "metadata": {},
     "output_type": "display_data"
    }
   ],
   "source": [
    "class(m1[1, ]) # ahora compuesta de números reales"
   ]
  },
  {
   "cell_type": "code",
   "execution_count": 92,
   "metadata": {},
   "outputs": [
    {
     "data": {
      "text/html": [
       "<table>\n",
       "<caption>A matrix: 3 × 2 of type dbl</caption>\n",
       "<tbody>\n",
       "\t<tr><td> 1.5</td><td> 0.0</td></tr>\n",
       "\t<tr><td> 3.2</td><td>-1.1</td></tr>\n",
       "\t<tr><td>-5.5</td><td>60.0</td></tr>\n",
       "</tbody>\n",
       "</table>\n"
      ],
      "text/latex": [
       "A matrix: 3 × 2 of type dbl\n",
       "\\begin{tabular}{ll}\n",
       "\t  1.5 &  0.0\\\\\n",
       "\t  3.2 & -1.1\\\\\n",
       "\t -5.5 & 60.0\\\\\n",
       "\\end{tabular}\n"
      ],
      "text/markdown": [
       "\n",
       "A matrix: 3 × 2 of type dbl\n",
       "\n",
       "|  1.5 |  0.0 |\n",
       "|  3.2 | -1.1 |\n",
       "| -5.5 | 60.0 |\n",
       "\n"
      ],
      "text/plain": [
       "     [,1] [,2]\n",
       "[1,]  1.5  0.0\n",
       "[2,]  3.2 -1.1\n",
       "[3,] -5.5 60.0"
      ]
     },
     "metadata": {},
     "output_type": "display_data"
    }
   ],
   "source": [
    "(m2 <- cbind(c(1.5, 3.2, -5.5), c(0, -1.1, 60)))"
   ]
  },
  {
   "cell_type": "markdown",
   "metadata": {},
   "source": [
    "#### Acceso a los elementos individuales de una matriz\n",
    "Para ello se emplea el operador **[ ]**. Supongamos que en la matriz m, del ejemplo anterior se quiere tener acceso al elemento que se encuentra en la fila 2 y en la columna 1 de la matriz\n"
   ]
  },
  {
   "cell_type": "code",
   "execution_count": 93,
   "metadata": {},
   "outputs": [
    {
     "data": {
      "text/html": [
       "15"
      ],
      "text/latex": [
       "15"
      ],
      "text/markdown": [
       "15"
      ],
      "text/plain": [
       "[1] 15"
      ]
     },
     "metadata": {},
     "output_type": "display_data"
    }
   ],
   "source": [
    "m[2, 1]"
   ]
  },
  {
   "cell_type": "code",
   "execution_count": 94,
   "metadata": {},
   "outputs": [
    {
     "data": {
      "text/html": [
       "15"
      ],
      "text/latex": [
       "15"
      ],
      "text/markdown": [
       "15"
      ],
      "text/plain": [
       "[1] 15"
      ]
     },
     "metadata": {},
     "output_type": "display_data"
    }
   ],
   "source": [
    "# Y también se pueden utilizar los nombres de fila y columna, si es que\n",
    "# la matriz los tiene:\n",
    "m[\"dos\", \"UNO\"]"
   ]
  },
  {
   "cell_type": "markdown",
   "metadata": {},
   "source": [
    "#### Operaciones sencillas con matrices\n",
    "Todas las operaciones aritméticas válidas para vectores, son validas para las matrices, siempre y cuando, las matrices que se operan tengan las mismas dimensiones y se apliquen elemento a elemento, esto es, la operación se aplica entre cada columna, con su correspondiente, como si fueran vectores."
   ]
  },
  {
   "cell_type": "code",
   "execution_count": 97,
   "metadata": {},
   "outputs": [
    {
     "data": {
      "text/html": [
       "<table>\n",
       "<caption>A matrix: 5 × 3 of type int</caption>\n",
       "<tbody>\n",
       "\t<tr><td>1</td><td> 6</td><td>11</td></tr>\n",
       "\t<tr><td>2</td><td> 7</td><td>12</td></tr>\n",
       "\t<tr><td>3</td><td> 8</td><td>13</td></tr>\n",
       "\t<tr><td>4</td><td> 9</td><td>14</td></tr>\n",
       "\t<tr><td>5</td><td>10</td><td>15</td></tr>\n",
       "</tbody>\n",
       "</table>\n"
      ],
      "text/latex": [
       "A matrix: 5 × 3 of type int\n",
       "\\begin{tabular}{lll}\n",
       "\t 1 &  6 & 11\\\\\n",
       "\t 2 &  7 & 12\\\\\n",
       "\t 3 &  8 & 13\\\\\n",
       "\t 4 &  9 & 14\\\\\n",
       "\t 5 & 10 & 15\\\\\n",
       "\\end{tabular}\n"
      ],
      "text/markdown": [
       "\n",
       "A matrix: 5 × 3 of type int\n",
       "\n",
       "| 1 |  6 | 11 |\n",
       "| 2 |  7 | 12 |\n",
       "| 3 |  8 | 13 |\n",
       "| 4 |  9 | 14 |\n",
       "| 5 | 10 | 15 |\n",
       "\n"
      ],
      "text/plain": [
       "     [,1] [,2] [,3]\n",
       "[1,] 1     6   11  \n",
       "[2,] 2     7   12  \n",
       "[3,] 3     8   13  \n",
       "[4,] 4     9   14  \n",
       "[5,] 5    10   15  "
      ]
     },
     "metadata": {},
     "output_type": "display_data"
    }
   ],
   "source": [
    "# definimos las matrices\n",
    "(m <- matrix(1:15, nrow = 5, ncol = 3))"
   ]
  },
  {
   "cell_type": "code",
   "execution_count": 98,
   "metadata": {},
   "outputs": [
    {
     "data": {
      "text/html": [
       "<table>\n",
       "<caption>A matrix: 5 × 3 of type dbl</caption>\n",
       "<tbody>\n",
       "\t<tr><td>1</td><td>2</td><td>3</td></tr>\n",
       "\t<tr><td>3</td><td>2</td><td>1</td></tr>\n",
       "\t<tr><td>1</td><td>1</td><td>1</td></tr>\n",
       "\t<tr><td>2</td><td>2</td><td>2</td></tr>\n",
       "\t<tr><td>3</td><td>3</td><td>3</td></tr>\n",
       "</tbody>\n",
       "</table>\n"
      ],
      "text/latex": [
       "A matrix: 5 × 3 of type dbl\n",
       "\\begin{tabular}{lll}\n",
       "\t 1 & 2 & 3\\\\\n",
       "\t 3 & 2 & 1\\\\\n",
       "\t 1 & 1 & 1\\\\\n",
       "\t 2 & 2 & 2\\\\\n",
       "\t 3 & 3 & 3\\\\\n",
       "\\end{tabular}\n"
      ],
      "text/markdown": [
       "\n",
       "A matrix: 5 × 3 of type dbl\n",
       "\n",
       "| 1 | 2 | 3 |\n",
       "| 3 | 2 | 1 |\n",
       "| 1 | 1 | 1 |\n",
       "| 2 | 2 | 2 |\n",
       "| 3 | 3 | 3 |\n",
       "\n"
      ],
      "text/plain": [
       "     [,1] [,2] [,3]\n",
       "[1,] 1    2    3   \n",
       "[2,] 3    2    1   \n",
       "[3,] 1    1    1   \n",
       "[4,] 2    2    2   \n",
       "[5,] 3    3    3   "
      ]
     },
     "metadata": {},
     "output_type": "display_data"
    }
   ],
   "source": [
    "(mm <- rbind(1:3, 3:1, c(1, 1, 1), c(2, 2, 2), c(3, 3, 3)))"
   ]
  },
  {
   "cell_type": "code",
   "execution_count": 99,
   "metadata": {},
   "outputs": [
    {
     "data": {
      "text/html": [
       "<table>\n",
       "<caption>A matrix: 5 × 3 of type dbl</caption>\n",
       "<tbody>\n",
       "\t<tr><td> 1</td><td>12</td><td>33</td></tr>\n",
       "\t<tr><td> 6</td><td>14</td><td>12</td></tr>\n",
       "\t<tr><td> 3</td><td> 8</td><td>13</td></tr>\n",
       "\t<tr><td> 8</td><td>18</td><td>28</td></tr>\n",
       "\t<tr><td>15</td><td>30</td><td>45</td></tr>\n",
       "</tbody>\n",
       "</table>\n"
      ],
      "text/latex": [
       "A matrix: 5 × 3 of type dbl\n",
       "\\begin{tabular}{lll}\n",
       "\t  1 & 12 & 33\\\\\n",
       "\t  6 & 14 & 12\\\\\n",
       "\t  3 &  8 & 13\\\\\n",
       "\t  8 & 18 & 28\\\\\n",
       "\t 15 & 30 & 45\\\\\n",
       "\\end{tabular}\n"
      ],
      "text/markdown": [
       "\n",
       "A matrix: 5 × 3 of type dbl\n",
       "\n",
       "|  1 | 12 | 33 |\n",
       "|  6 | 14 | 12 |\n",
       "|  3 |  8 | 13 |\n",
       "|  8 | 18 | 28 |\n",
       "| 15 | 30 | 45 |\n",
       "\n"
      ],
      "text/plain": [
       "     [,1] [,2] [,3]\n",
       "[1,]  1   12   33  \n",
       "[2,]  6   14   12  \n",
       "[3,]  3    8   13  \n",
       "[4,]  8   18   28  \n",
       "[5,] 15   30   45  "
      ]
     },
     "metadata": {},
     "output_type": "display_data"
    }
   ],
   "source": [
    "# comenzamos a operar\n",
    "\n",
    "m * mm"
   ]
  },
  {
   "cell_type": "code",
   "execution_count": 100,
   "metadata": {},
   "outputs": [
    {
     "data": {
      "text/html": [
       "<table>\n",
       "<caption>A matrix: 3 × 2 of type int</caption>\n",
       "<tbody>\n",
       "\t<tr><td>1</td><td>4</td></tr>\n",
       "\t<tr><td>2</td><td>5</td></tr>\n",
       "\t<tr><td>3</td><td>6</td></tr>\n",
       "</tbody>\n",
       "</table>\n"
      ],
      "text/latex": [
       "A matrix: 3 × 2 of type int\n",
       "\\begin{tabular}{ll}\n",
       "\t 1 & 4\\\\\n",
       "\t 2 & 5\\\\\n",
       "\t 3 & 6\\\\\n",
       "\\end{tabular}\n"
      ],
      "text/markdown": [
       "\n",
       "A matrix: 3 × 2 of type int\n",
       "\n",
       "| 1 | 4 |\n",
       "| 2 | 5 |\n",
       "| 3 | 6 |\n",
       "\n"
      ],
      "text/plain": [
       "     [,1] [,2]\n",
       "[1,] 1    4   \n",
       "[2,] 2    5   \n",
       "[3,] 3    6   "
      ]
     },
     "metadata": {},
     "output_type": "display_data"
    }
   ],
   "source": [
    "(A <- matrix(1:6, 3, 2))"
   ]
  },
  {
   "cell_type": "code",
   "execution_count": 101,
   "metadata": {},
   "outputs": [
    {
     "data": {
      "text/html": [
       "<table>\n",
       "<caption>A matrix: 2 × 3 of type int</caption>\n",
       "<tbody>\n",
       "\t<tr><td> 7</td><td> 8</td><td> 9</td></tr>\n",
       "\t<tr><td>10</td><td>11</td><td>12</td></tr>\n",
       "</tbody>\n",
       "</table>\n"
      ],
      "text/latex": [
       "A matrix: 2 × 3 of type int\n",
       "\\begin{tabular}{lll}\n",
       "\t  7 &  8 &  9\\\\\n",
       "\t 10 & 11 & 12\\\\\n",
       "\\end{tabular}\n"
      ],
      "text/markdown": [
       "\n",
       "A matrix: 2 × 3 of type int\n",
       "\n",
       "|  7 |  8 |  9 |\n",
       "| 10 | 11 | 12 |\n",
       "\n"
      ],
      "text/plain": [
       "     [,1] [,2] [,3]\n",
       "[1,]  7    8    9  \n",
       "[2,] 10   11   12  "
      ]
     },
     "metadata": {},
     "output_type": "display_data"
    }
   ],
   "source": [
    "(B <- rbind(7:9, 10:12))"
   ]
  },
  {
   "cell_type": "markdown",
   "metadata": {},
   "source": [
    "Otra operación muy utilizada e implementada en R como una función, t(), es la traspuesta de una matriz. Esta es una operación en la que las filas se cambian a columnas y viceversa."
   ]
  },
  {
   "cell_type": "code",
   "execution_count": 102,
   "metadata": {},
   "outputs": [
    {
     "data": {
      "text/html": [
       "<table>\n",
       "<caption>A matrix: 3 × 2 of type int</caption>\n",
       "<tbody>\n",
       "\t<tr><td>1</td><td>4</td></tr>\n",
       "\t<tr><td>2</td><td>5</td></tr>\n",
       "\t<tr><td>3</td><td>6</td></tr>\n",
       "</tbody>\n",
       "</table>\n"
      ],
      "text/latex": [
       "A matrix: 3 × 2 of type int\n",
       "\\begin{tabular}{ll}\n",
       "\t 1 & 4\\\\\n",
       "\t 2 & 5\\\\\n",
       "\t 3 & 6\\\\\n",
       "\\end{tabular}\n"
      ],
      "text/markdown": [
       "\n",
       "A matrix: 3 × 2 of type int\n",
       "\n",
       "| 1 | 4 |\n",
       "| 2 | 5 |\n",
       "| 3 | 6 |\n",
       "\n"
      ],
      "text/plain": [
       "     [,1] [,2]\n",
       "[1,] 1    4   \n",
       "[2,] 2    5   \n",
       "[3,] 3    6   "
      ]
     },
     "metadata": {},
     "output_type": "display_data"
    }
   ],
   "source": [
    "# Se usa la misma matriz A del ejemplo anterior:\n",
    "A"
   ]
  },
  {
   "cell_type": "code",
   "execution_count": 103,
   "metadata": {},
   "outputs": [
    {
     "data": {
      "text/html": [
       "<table>\n",
       "<caption>A matrix: 2 × 3 of type int</caption>\n",
       "<tbody>\n",
       "\t<tr><td>1</td><td>2</td><td>3</td></tr>\n",
       "\t<tr><td>4</td><td>5</td><td>6</td></tr>\n",
       "</tbody>\n",
       "</table>\n"
      ],
      "text/latex": [
       "A matrix: 2 × 3 of type int\n",
       "\\begin{tabular}{lll}\n",
       "\t 1 & 2 & 3\\\\\n",
       "\t 4 & 5 & 6\\\\\n",
       "\\end{tabular}\n"
      ],
      "text/markdown": [
       "\n",
       "A matrix: 2 × 3 of type int\n",
       "\n",
       "| 1 | 2 | 3 |\n",
       "| 4 | 5 | 6 |\n",
       "\n"
      ],
      "text/plain": [
       "     [,1] [,2] [,3]\n",
       "[1,] 1    2    3   \n",
       "[2,] 4    5    6   "
      ]
     },
     "metadata": {},
     "output_type": "display_data"
    }
   ],
   "source": [
    "t(A)"
   ]
  },
  {
   "cell_type": "markdown",
   "metadata": {},
   "source": [
    "## Factores y vectores de caracteres\n",
    "Los caracteres, o más apropiadamente, las cadenas de caracteres, se utilizan para nombrar cosas u objetos del mundo. Igual que en el caso de los números, en R la clase character no se refiere a una cadena de caracteres aislada sino a un vector que contiene cero o más cadenas de caracteres. De este modo podríamos tener por ejemplo, una lista (o vector) con los nombres de personas, y otra,\n",
    "paralela a la primera, con sus meses de nacimiento:"
   ]
  },
  {
   "cell_type": "code",
   "execution_count": 104,
   "metadata": {},
   "outputs": [
    {
     "data": {
      "text/html": [
       "<ol class=list-inline>\n",
       "\t<li>'Hugo'</li>\n",
       "\t<li>'Paco'</li>\n",
       "\t<li>'Luis'</li>\n",
       "\t<li>'Petra'</li>\n",
       "\t<li>'Maria'</li>\n",
       "\t<li>'Fulano'</li>\n",
       "\t<li>'Sutano'</li>\n",
       "\t<li>'Perengano'</li>\n",
       "\t<li>'Metano'</li>\n",
       "\t<li>'Etano'</li>\n",
       "\t<li>'Propano'</li>\n",
       "</ol>\n"
      ],
      "text/latex": [
       "\\begin{enumerate*}\n",
       "\\item 'Hugo'\n",
       "\\item 'Paco'\n",
       "\\item 'Luis'\n",
       "\\item 'Petra'\n",
       "\\item 'Maria'\n",
       "\\item 'Fulano'\n",
       "\\item 'Sutano'\n",
       "\\item 'Perengano'\n",
       "\\item 'Metano'\n",
       "\\item 'Etano'\n",
       "\\item 'Propano'\n",
       "\\end{enumerate*}\n"
      ],
      "text/markdown": [
       "1. 'Hugo'\n",
       "2. 'Paco'\n",
       "3. 'Luis'\n",
       "4. 'Petra'\n",
       "5. 'Maria'\n",
       "6. 'Fulano'\n",
       "7. 'Sutano'\n",
       "8. 'Perengano'\n",
       "9. 'Metano'\n",
       "10. 'Etano'\n",
       "11. 'Propano'\n",
       "\n",
       "\n"
      ],
      "text/plain": [
       " [1] \"Hugo\"      \"Paco\"      \"Luis\"      \"Petra\"     \"Maria\"     \"Fulano\"   \n",
       " [7] \"Sutano\"    \"Perengano\" \"Metano\"    \"Etano\"     \"Propano\"  "
      ]
     },
     "metadata": {},
     "output_type": "display_data"
    }
   ],
   "source": [
    "persona <- c(\"Hugo\", \"Paco\", \"Luis\", \"Petra\", \"Maria\", \"Fulano\",\n",
    "\"Sutano\", \"Perengano\", \"Metano\", \"Etano\", \"Propano\")\n",
    "mes.nacimiento <- c(\"Dic\", \"Feb\", \"Oct\", \"Mar\", \"Feb\", \"Nov\",\n",
    "\"Abr\", \"Dic\", \"Feb\", \"Oct\", \"Dic\")\n",
    "persona\n"
   ]
  },
  {
   "cell_type": "code",
   "execution_count": 105,
   "metadata": {},
   "outputs": [
    {
     "data": {
      "text/html": [
       "<ol class=list-inline>\n",
       "\t<li>'Dic'</li>\n",
       "\t<li>'Feb'</li>\n",
       "\t<li>'Oct'</li>\n",
       "\t<li>'Mar'</li>\n",
       "\t<li>'Feb'</li>\n",
       "\t<li>'Nov'</li>\n",
       "\t<li>'Abr'</li>\n",
       "\t<li>'Dic'</li>\n",
       "\t<li>'Feb'</li>\n",
       "\t<li>'Oct'</li>\n",
       "\t<li>'Dic'</li>\n",
       "</ol>\n"
      ],
      "text/latex": [
       "\\begin{enumerate*}\n",
       "\\item 'Dic'\n",
       "\\item 'Feb'\n",
       "\\item 'Oct'\n",
       "\\item 'Mar'\n",
       "\\item 'Feb'\n",
       "\\item 'Nov'\n",
       "\\item 'Abr'\n",
       "\\item 'Dic'\n",
       "\\item 'Feb'\n",
       "\\item 'Oct'\n",
       "\\item 'Dic'\n",
       "\\end{enumerate*}\n"
      ],
      "text/markdown": [
       "1. 'Dic'\n",
       "2. 'Feb'\n",
       "3. 'Oct'\n",
       "4. 'Mar'\n",
       "5. 'Feb'\n",
       "6. 'Nov'\n",
       "7. 'Abr'\n",
       "8. 'Dic'\n",
       "9. 'Feb'\n",
       "10. 'Oct'\n",
       "11. 'Dic'\n",
       "\n",
       "\n"
      ],
      "text/plain": [
       " [1] \"Dic\" \"Feb\" \"Oct\" \"Mar\" \"Feb\" \"Nov\" \"Abr\" \"Dic\" \"Feb\" \"Oct\" \"Dic\""
      ]
     },
     "metadata": {},
     "output_type": "display_data"
    }
   ],
   "source": [
    "mes.nacimiento"
   ]
  },
  {
   "cell_type": "code",
   "execution_count": 106,
   "metadata": {},
   "outputs": [
    {
     "name": "stdout",
     "output_type": "stream",
     "text": [
      "[1] \"Sutano\"\n",
      "[1] \"Abr\"\n"
     ]
    }
   ],
   "source": [
    "print(persona[7]); print(mes.nacimiento[7])"
   ]
  },
  {
   "cell_type": "code",
   "execution_count": 107,
   "metadata": {},
   "outputs": [
    {
     "name": "stdout",
     "output_type": "stream",
     "text": [
      "[1] \"Sutano\" \"Abr\"   \n"
     ]
    }
   ],
   "source": [
    "print( c(persona[7], mes.nacimiento[7]) )"
   ]
  },
  {
   "cell_type": "markdown",
   "metadata": {},
   "source": [
    "Los dos vectores anteriores pueden considerarse como una estructura de información,a la que se puede someter a algún tipo de procesamiento estadístico.\n",
    "\n",
    "El lenguaje tiene muchas herramientas para ese propósito. Considérese, porejemplo, el problema de determinar la frecuencia de aparición de ciertos meses en el vector mes.nacimiento. En este caso, el lenguaje provee de una clase que facilita este tipo de análisis, a saber: la clase factor. Para entender esta clase, procedamos primeramente a transformar el vector mes.nacimiento a un\n",
    "factor, mediante la función de conversión as.factor(), como sigue:"
   ]
  },
  {
   "cell_type": "code",
   "execution_count": 108,
   "metadata": {},
   "outputs": [
    {
     "data": {
      "text/html": [
       "<ol class=list-inline>\n",
       "\t<li>Dic</li>\n",
       "\t<li>Feb</li>\n",
       "\t<li>Oct</li>\n",
       "\t<li>Mar</li>\n",
       "\t<li>Feb</li>\n",
       "\t<li>Nov</li>\n",
       "\t<li>Abr</li>\n",
       "\t<li>Dic</li>\n",
       "\t<li>Feb</li>\n",
       "\t<li>Oct</li>\n",
       "\t<li>Dic</li>\n",
       "</ol>\n",
       "\n",
       "<details>\n",
       "\t<summary style=display:list-item;cursor:pointer>\n",
       "\t\t<strong>Levels</strong>:\n",
       "\t</summary>\n",
       "\t<ol class=list-inline>\n",
       "\t\t<li>'Abr'</li>\n",
       "\t\t<li>'Dic'</li>\n",
       "\t\t<li>'Feb'</li>\n",
       "\t\t<li>'Mar'</li>\n",
       "\t\t<li>'Nov'</li>\n",
       "\t\t<li>'Oct'</li>\n",
       "\t</ol>\n",
       "</details>"
      ],
      "text/latex": [
       "\\begin{enumerate*}\n",
       "\\item Dic\n",
       "\\item Feb\n",
       "\\item Oct\n",
       "\\item Mar\n",
       "\\item Feb\n",
       "\\item Nov\n",
       "\\item Abr\n",
       "\\item Dic\n",
       "\\item Feb\n",
       "\\item Oct\n",
       "\\item Dic\n",
       "\\end{enumerate*}\n",
       "\n",
       "\\emph{Levels}: \\begin{enumerate*}\n",
       "\\item 'Abr'\n",
       "\\item 'Dic'\n",
       "\\item 'Feb'\n",
       "\\item 'Mar'\n",
       "\\item 'Nov'\n",
       "\\item 'Oct'\n",
       "\\end{enumerate*}\n"
      ],
      "text/markdown": [
       "1. Dic\n",
       "2. Feb\n",
       "3. Oct\n",
       "4. Mar\n",
       "5. Feb\n",
       "6. Nov\n",
       "7. Abr\n",
       "8. Dic\n",
       "9. Feb\n",
       "10. Oct\n",
       "11. Dic\n",
       "\n",
       "\n",
       "\n",
       "**Levels**: 1. 'Abr'\n",
       "2. 'Dic'\n",
       "3. 'Feb'\n",
       "4. 'Mar'\n",
       "5. 'Nov'\n",
       "6. 'Oct'\n",
       "\n",
       "\n"
      ],
      "text/plain": [
       " [1] Dic Feb Oct Mar Feb Nov Abr Dic Feb Oct Dic\n",
       "Levels: Abr Dic Feb Mar Nov Oct"
      ]
     },
     "metadata": {},
     "output_type": "display_data"
    }
   ],
   "source": [
    "Fmes.nacimiento <- as.factor(mes.nacimiento)\n",
    "Fmes.nacimiento"
   ]
  },
  {
   "cell_type": "code",
   "execution_count": 109,
   "metadata": {},
   "outputs": [
    {
     "data": {
      "text/html": [
       "'Sutano nacio en el mes de Abr'"
      ],
      "text/latex": [
       "'Sutano nacio en el mes de Abr'"
      ],
      "text/markdown": [
       "'Sutano nacio en el mes de Abr'"
      ],
      "text/plain": [
       "[1] \"Sutano nacio en el mes de Abr\""
      ]
     },
     "metadata": {},
     "output_type": "display_data"
    }
   ],
   "source": [
    "# y generamos la impresión ahora con el factor:\n",
    "paste(persona[7], \"nacio en el mes de\", Fmes.nacimiento[7])"
   ]
  },
  {
   "cell_type": "markdown",
   "metadata": {},
   "source": [
    "Si se compara la impresión del factor Fmes.nacimiento con la del vector mes.nacimiento, se podría pensar que “no ha pasado mucho”. De hecho, la impresión bonita con la función paste(), ha resultado igual. Sin embargo, el\n",
    "factor exhibe una estructura adicional denominada Levels, en la que se han registrado e identificado los elementos del vector sin repetición; esto es, los nombres únicos de los meses, en este caso. La estructura interna de esta clase se puede descubrir:"
   ]
  },
  {
   "cell_type": "code",
   "execution_count": 110,
   "metadata": {},
   "outputs": [
    {
     "data": {
      "text/html": [
       "<ol class=list-inline>\n",
       "\t<li>2</li>\n",
       "\t<li>3</li>\n",
       "\t<li>6</li>\n",
       "\t<li>4</li>\n",
       "\t<li>3</li>\n",
       "\t<li>5</li>\n",
       "\t<li>1</li>\n",
       "\t<li>2</li>\n",
       "\t<li>3</li>\n",
       "\t<li>6</li>\n",
       "\t<li>2</li>\n",
       "</ol>\n"
      ],
      "text/latex": [
       "\\begin{enumerate*}\n",
       "\\item 2\n",
       "\\item 3\n",
       "\\item 6\n",
       "\\item 4\n",
       "\\item 3\n",
       "\\item 5\n",
       "\\item 1\n",
       "\\item 2\n",
       "\\item 3\n",
       "\\item 6\n",
       "\\item 2\n",
       "\\end{enumerate*}\n"
      ],
      "text/markdown": [
       "1. 2\n",
       "2. 3\n",
       "3. 6\n",
       "4. 4\n",
       "5. 3\n",
       "6. 5\n",
       "7. 1\n",
       "8. 2\n",
       "9. 3\n",
       "10. 6\n",
       "11. 2\n",
       "\n",
       "\n"
      ],
      "text/plain": [
       " [1] 2 3 6 4 3 5 1 2 3 6 2\n",
       "attr(,\"levels\")\n",
       "[1] \"Abr\" \"Dic\" \"Feb\" \"Mar\" \"Nov\" \"Oct\""
      ]
     },
     "metadata": {},
     "output_type": "display_data"
    }
   ],
   "source": [
    "unclass(Fmes.nacimiento)"
   ]
  },
  {
   "cell_type": "markdown",
   "metadata": {},
   "source": [
    "La función table() toma típicamente como argumento un factor y regresa como resultado justamente la frecuencia de aparición de los niveles en el vector de índices"
   ]
  },
  {
   "cell_type": "code",
   "execution_count": 111,
   "metadata": {},
   "outputs": [
    {
     "data": {
      "text/plain": [
       "Fmes.nacimiento\n",
       "Abr Dic Feb Mar Nov Oct \n",
       "  1   3   3   1   1   2 "
      ]
     },
     "metadata": {},
     "output_type": "display_data"
    }
   ],
   "source": [
    "table(Fmes.nacimiento)"
   ]
  },
  {
   "cell_type": "code",
   "execution_count": 112,
   "metadata": {},
   "outputs": [
    {
     "data": {
      "text/html": [
       "<ol class=list-inline>\n",
       "\t<li>Dic</li>\n",
       "\t<li>Feb</li>\n",
       "\t<li>Oct</li>\n",
       "\t<li>Mar</li>\n",
       "\t<li>Feb</li>\n",
       "\t<li>Nov</li>\n",
       "\t<li>Abr</li>\n",
       "\t<li>Dic</li>\n",
       "\t<li>Feb</li>\n",
       "\t<li>Oct</li>\n",
       "\t<li>Dic</li>\n",
       "</ol>\n",
       "\n",
       "<details>\n",
       "\t<summary style=display:list-item;cursor:pointer>\n",
       "\t\t<strong>Levels</strong>:\n",
       "\t</summary>\n",
       "\t<ol class=list-inline>\n",
       "\t\t<li>'Ene'</li>\n",
       "\t\t<li>'Feb'</li>\n",
       "\t\t<li>'Mar'</li>\n",
       "\t\t<li>'Abr'</li>\n",
       "\t\t<li>'May'</li>\n",
       "\t\t<li>'Jun'</li>\n",
       "\t\t<li>'Jul'</li>\n",
       "\t\t<li>'Ago'</li>\n",
       "\t\t<li>'Sep'</li>\n",
       "\t\t<li>'Oct'</li>\n",
       "\t\t<li>'Nov'</li>\n",
       "\t\t<li>'Dic'</li>\n",
       "\t</ol>\n",
       "</details>"
      ],
      "text/latex": [
       "\\begin{enumerate*}\n",
       "\\item Dic\n",
       "\\item Feb\n",
       "\\item Oct\n",
       "\\item Mar\n",
       "\\item Feb\n",
       "\\item Nov\n",
       "\\item Abr\n",
       "\\item Dic\n",
       "\\item Feb\n",
       "\\item Oct\n",
       "\\item Dic\n",
       "\\end{enumerate*}\n",
       "\n",
       "\\emph{Levels}: \\begin{enumerate*}\n",
       "\\item 'Ene'\n",
       "\\item 'Feb'\n",
       "\\item 'Mar'\n",
       "\\item 'Abr'\n",
       "\\item 'May'\n",
       "\\item 'Jun'\n",
       "\\item 'Jul'\n",
       "\\item 'Ago'\n",
       "\\item 'Sep'\n",
       "\\item 'Oct'\n",
       "\\item 'Nov'\n",
       "\\item 'Dic'\n",
       "\\end{enumerate*}\n"
      ],
      "text/markdown": [
       "1. Dic\n",
       "2. Feb\n",
       "3. Oct\n",
       "4. Mar\n",
       "5. Feb\n",
       "6. Nov\n",
       "7. Abr\n",
       "8. Dic\n",
       "9. Feb\n",
       "10. Oct\n",
       "11. Dic\n",
       "\n",
       "\n",
       "\n",
       "**Levels**: 1. 'Ene'\n",
       "2. 'Feb'\n",
       "3. 'Mar'\n",
       "4. 'Abr'\n",
       "5. 'May'\n",
       "6. 'Jun'\n",
       "7. 'Jul'\n",
       "8. 'Ago'\n",
       "9. 'Sep'\n",
       "10. 'Oct'\n",
       "11. 'Nov'\n",
       "12. 'Dic'\n",
       "\n",
       "\n"
      ],
      "text/plain": [
       " [1] Dic Feb Oct Mar Feb Nov Abr Dic Feb Oct Dic\n",
       "Levels: Ene Feb Mar Abr May Jun Jul Ago Sep Oct Nov Dic"
      ]
     },
     "metadata": {},
     "output_type": "display_data"
    }
   ],
   "source": [
    "meses <- c(\"Ene\",\"Feb\",\"Mar\",\"Abr\",\"May\",\"Jun\",\"Jul\",\"Ago\",\n",
    "\"Sep\",\"Oct\",\"Nov\",\"Dic\")\n",
    "# Se incluyen meses que no están el el vector original\n",
    "FFmes.nacimiento <- factor(mes.nacimiento, levels=meses)\n",
    "FFmes.nacimiento"
   ]
  },
  {
   "cell_type": "code",
   "execution_count": 113,
   "metadata": {},
   "outputs": [
    {
     "data": {
      "text/plain": [
       "FFmes.nacimiento\n",
       "Ene Feb Mar Abr May Jun Jul Ago Sep Oct Nov Dic \n",
       "  0   3   1   1   0   0   0   0   0   2   1   3 "
      ]
     },
     "metadata": {},
     "output_type": "display_data"
    }
   ],
   "source": [
    "# Ahora la tabla de frecuencias es:\n",
    "table(FFmes.nacimiento)"
   ]
  },
  {
   "cell_type": "markdown",
   "metadata": {},
   "source": [
    "#### Acceso a los elementos de un factor"
   ]
  },
  {
   "cell_type": "code",
   "execution_count": 114,
   "metadata": {},
   "outputs": [
    {
     "data": {
      "text/html": [
       "Oct\n",
       "<details>\n",
       "\t<summary style=display:list-item;cursor:pointer>\n",
       "\t\t<strong>Levels</strong>:\n",
       "\t</summary>\n",
       "\t<ol class=list-inline>\n",
       "\t\t<li>'Abr'</li>\n",
       "\t\t<li>'Dic'</li>\n",
       "\t\t<li>'Feb'</li>\n",
       "\t\t<li>'Mar'</li>\n",
       "\t\t<li>'Nov'</li>\n",
       "\t\t<li>'Oct'</li>\n",
       "\t</ol>\n",
       "</details>"
      ],
      "text/latex": [
       "Oct\n",
       "\\emph{Levels}: \\begin{enumerate*}\n",
       "\\item 'Abr'\n",
       "\\item 'Dic'\n",
       "\\item 'Feb'\n",
       "\\item 'Mar'\n",
       "\\item 'Nov'\n",
       "\\item 'Oct'\n",
       "\\end{enumerate*}\n"
      ],
      "text/markdown": [
       "Oct\n",
       "**Levels**: 1. 'Abr'\n",
       "2. 'Dic'\n",
       "3. 'Feb'\n",
       "4. 'Mar'\n",
       "5. 'Nov'\n",
       "6. 'Oct'\n",
       "\n",
       "\n"
      ],
      "text/plain": [
       "[1] Oct\n",
       "Levels: Abr Dic Feb Mar Nov Oct"
      ]
     },
     "metadata": {},
     "output_type": "display_data"
    }
   ],
   "source": [
    "# Un elemento individual del factor:\n",
    "Fmes.nacimiento[10]"
   ]
  },
  {
   "cell_type": "code",
   "execution_count": 115,
   "metadata": {},
   "outputs": [
    {
     "data": {
      "text/html": [
       "'Feb'"
      ],
      "text/latex": [
       "'Feb'"
      ],
      "text/markdown": [
       "'Feb'"
      ],
      "text/plain": [
       "[1] \"Feb\""
      ]
     },
     "metadata": {},
     "output_type": "display_data"
    }
   ],
   "source": [
    "# Un elemento individual de los niveles:\n",
    "levels(Fmes.nacimiento)[3]"
   ]
  },
  {
   "cell_type": "code",
   "execution_count": 116,
   "metadata": {},
   "outputs": [
    {
     "data": {
      "text/html": [
       "<ol class=list-inline>\n",
       "\t<li>Dic</li>\n",
       "\t<li>febrero</li>\n",
       "\t<li>Oct</li>\n",
       "\t<li>Mar</li>\n",
       "\t<li>febrero</li>\n",
       "\t<li>Nov</li>\n",
       "\t<li>Abr</li>\n",
       "\t<li>Dic</li>\n",
       "\t<li>febrero</li>\n",
       "\t<li>Oct</li>\n",
       "\t<li>Dic</li>\n",
       "</ol>\n",
       "\n",
       "<details>\n",
       "\t<summary style=display:list-item;cursor:pointer>\n",
       "\t\t<strong>Levels</strong>:\n",
       "\t</summary>\n",
       "\t<ol class=list-inline>\n",
       "\t\t<li>'Abr'</li>\n",
       "\t\t<li>'Dic'</li>\n",
       "\t\t<li>'febrero'</li>\n",
       "\t\t<li>'Mar'</li>\n",
       "\t\t<li>'Nov'</li>\n",
       "\t\t<li>'Oct'</li>\n",
       "\t</ol>\n",
       "</details>"
      ],
      "text/latex": [
       "\\begin{enumerate*}\n",
       "\\item Dic\n",
       "\\item febrero\n",
       "\\item Oct\n",
       "\\item Mar\n",
       "\\item febrero\n",
       "\\item Nov\n",
       "\\item Abr\n",
       "\\item Dic\n",
       "\\item febrero\n",
       "\\item Oct\n",
       "\\item Dic\n",
       "\\end{enumerate*}\n",
       "\n",
       "\\emph{Levels}: \\begin{enumerate*}\n",
       "\\item 'Abr'\n",
       "\\item 'Dic'\n",
       "\\item 'febrero'\n",
       "\\item 'Mar'\n",
       "\\item 'Nov'\n",
       "\\item 'Oct'\n",
       "\\end{enumerate*}\n"
      ],
      "text/markdown": [
       "1. Dic\n",
       "2. febrero\n",
       "3. Oct\n",
       "4. Mar\n",
       "5. febrero\n",
       "6. Nov\n",
       "7. Abr\n",
       "8. Dic\n",
       "9. febrero\n",
       "10. Oct\n",
       "11. Dic\n",
       "\n",
       "\n",
       "\n",
       "**Levels**: 1. 'Abr'\n",
       "2. 'Dic'\n",
       "3. 'febrero'\n",
       "4. 'Mar'\n",
       "5. 'Nov'\n",
       "6. 'Oct'\n",
       "\n",
       "\n"
      ],
      "text/plain": [
       " [1] Dic     febrero Oct     Mar     febrero Nov     Abr     Dic     febrero\n",
       "[10] Oct     Dic    \n",
       "Levels: Abr Dic febrero Mar Nov Oct"
      ]
     },
     "metadata": {},
     "output_type": "display_data"
    }
   ],
   "source": [
    "# Incluso es posible modificar todos o algunos de los niveles del factor. Por ejemplo:\n",
    "levels(Fmes.nacimiento)[3] <- \"febrero\"\n",
    "Fmes.nacimiento"
   ]
  },
  {
   "cell_type": "markdown",
   "metadata": {},
   "source": [
    "Una lista, de la clase list, es una clase de datos que puede contener cero o más elementos, cada uno de los cuales puede ser de una clase distinta."
   ]
  },
  {
   "cell_type": "code",
   "execution_count": 1,
   "metadata": {},
   "outputs": [
    {
     "data": {
      "text/html": [
       "<ol>\n",
       "\t<li>'Maria'</li>\n",
       "\t<li>'Juan'</li>\n",
       "\t<li>10</li>\n",
       "\t<li><ol class=list-inline>\n",
       "\t<li>'Hugo'</li>\n",
       "\t<li>'Petra'</li>\n",
       "</ol>\n",
       "</li>\n",
       "\t<li><ol class=list-inline>\n",
       "\t<li>8</li>\n",
       "\t<li>6</li>\n",
       "</ol>\n",
       "</li>\n",
       "</ol>\n"
      ],
      "text/latex": [
       "\\begin{enumerate}\n",
       "\\item 'Maria'\n",
       "\\item 'Juan'\n",
       "\\item 10\n",
       "\\item \\begin{enumerate*}\n",
       "\\item 'Hugo'\n",
       "\\item 'Petra'\n",
       "\\end{enumerate*}\n",
       "\n",
       "\\item \\begin{enumerate*}\n",
       "\\item 8\n",
       "\\item 6\n",
       "\\end{enumerate*}\n",
       "\n",
       "\\end{enumerate}\n"
      ],
      "text/markdown": [
       "1. 'Maria'\n",
       "2. 'Juan'\n",
       "3. 10\n",
       "4. 1. 'Hugo'\n",
       "2. 'Petra'\n",
       "\n",
       "\n",
       "\n",
       "5. 1. 8\n",
       "2. 6\n",
       "\n",
       "\n",
       "\n",
       "\n",
       "\n"
      ],
      "text/plain": [
       "[[1]]\n",
       "[1] \"Maria\"\n",
       "\n",
       "[[2]]\n",
       "[1] \"Juan\"\n",
       "\n",
       "[[3]]\n",
       "[1] 10\n",
       "\n",
       "[[4]]\n",
       "[1] \"Hugo\"  \"Petra\"\n",
       "\n",
       "[[5]]\n",
       "[1] 8 6\n"
      ]
     },
     "metadata": {},
     "output_type": "display_data"
    }
   ],
   "source": [
    "familia <- list(\"Maria\", \"Juan\", 10, c(\"Hugo\", \"Petra\"), c(8,\n",
    "6))\n",
    "familia"
   ]
  },
  {
   "cell_type": "code",
   "execution_count": 2,
   "metadata": {},
   "outputs": [
    {
     "data": {
      "text/html": [
       "<dl>\n",
       "\t<dt>$madre</dt>\n",
       "\t\t<dd>'Maria'</dd>\n",
       "\t<dt>$padre</dt>\n",
       "\t\t<dd>'Juan'</dd>\n",
       "\t<dt>$casados</dt>\n",
       "\t\t<dd>10</dd>\n",
       "\t<dt>$hijos</dt>\n",
       "\t\t<dd><ol class=list-inline>\n",
       "\t<li>'Hugo'</li>\n",
       "\t<li>'Petra'</li>\n",
       "</ol>\n",
       "</dd>\n",
       "\t<dt>$edades</dt>\n",
       "\t\t<dd><ol class=list-inline>\n",
       "\t<li>8</li>\n",
       "\t<li>6</li>\n",
       "</ol>\n",
       "</dd>\n",
       "</dl>\n"
      ],
      "text/latex": [
       "\\begin{description}\n",
       "\\item[\\$madre] 'Maria'\n",
       "\\item[\\$padre] 'Juan'\n",
       "\\item[\\$casados] 10\n",
       "\\item[\\$hijos] \\begin{enumerate*}\n",
       "\\item 'Hugo'\n",
       "\\item 'Petra'\n",
       "\\end{enumerate*}\n",
       "\n",
       "\\item[\\$edades] \\begin{enumerate*}\n",
       "\\item 8\n",
       "\\item 6\n",
       "\\end{enumerate*}\n",
       "\n",
       "\\end{description}\n"
      ],
      "text/markdown": [
       "$madre\n",
       ":   'Maria'\n",
       "$padre\n",
       ":   'Juan'\n",
       "$casados\n",
       ":   10\n",
       "$hijos\n",
       ":   1. 'Hugo'\n",
       "2. 'Petra'\n",
       "\n",
       "\n",
       "\n",
       "$edades\n",
       ":   1. 8\n",
       "2. 6\n",
       "\n",
       "\n",
       "\n",
       "\n",
       "\n"
      ],
      "text/plain": [
       "$madre\n",
       "[1] \"Maria\"\n",
       "\n",
       "$padre\n",
       "[1] \"Juan\"\n",
       "\n",
       "$casados\n",
       "[1] 10\n",
       "\n",
       "$hijos\n",
       "[1] \"Hugo\"  \"Petra\"\n",
       "\n",
       "$edades\n",
       "[1] 8 6\n"
      ]
     },
     "metadata": {},
     "output_type": "display_data"
    }
   ],
   "source": [
    "# los elementos de una lista pueden ser nombrados\n",
    "familia <- list(madre=\"Maria\", padre=\"Juan\", casados=10,\n",
    "hijos=c(\"Hugo\", \"Petra\"), edades=c(8, 6))\n",
    "familia"
   ]
  },
  {
   "cell_type": "markdown",
   "metadata": {},
   "source": [
    "#### Acceso a los elementos individuales de una lista\n",
    "Al igual que en el caso de los vectores, las listas no serían de mucha utilidad sin la posibilidad de tener acceso a sus elementos individuales. El lenguaje,provee de este acceso mediante tres operadores, a saber: [ ], [[ ]], y $."
   ]
  },
  {
   "cell_type": "code",
   "execution_count": 3,
   "metadata": {},
   "outputs": [
    {
     "data": {
      "text/html": [
       "'Maria'"
      ],
      "text/latex": [
       "'Maria'"
      ],
      "text/markdown": [
       "'Maria'"
      ],
      "text/plain": [
       "[1] \"Maria\""
      ]
     },
     "metadata": {},
     "output_type": "display_data"
    },
    {
     "data": {
      "text/html": [
       "'Maria'"
      ],
      "text/latex": [
       "'Maria'"
      ],
      "text/markdown": [
       "'Maria'"
      ],
      "text/plain": [
       "[1] \"Maria\""
      ]
     },
     "metadata": {},
     "output_type": "display_data"
    },
    {
     "data": {
      "text/html": [
       "'Juan Pedro'"
      ],
      "text/latex": [
       "'Juan Pedro'"
      ],
      "text/markdown": [
       "'Juan Pedro'"
      ],
      "text/plain": [
       "[1] \"Juan Pedro\""
      ]
     },
     "metadata": {},
     "output_type": "display_data"
    }
   ],
   "source": [
    "# Acceso de lectura\n",
    "familia$madre\n",
    "\n",
    "familia[[\"madre\"]]\n",
    "\n",
    "# Acceso de escritura\n",
    "familia[[\"padre\"]] <- \"Juan Pedro\"\n",
    "familia$padre # para checar el nuevo valor"
   ]
  },
  {
   "cell_type": "code",
   "execution_count": 4,
   "metadata": {},
   "outputs": [
    {
     "data": {
      "text/html": [
       "'Maria Candelaria'"
      ],
      "text/latex": [
       "'Maria Candelaria'"
      ],
      "text/markdown": [
       "'Maria Candelaria'"
      ],
      "text/plain": [
       "[1] \"Maria Candelaria\""
      ]
     },
     "metadata": {},
     "output_type": "display_data"
    },
    {
     "data": {
      "text/html": [
       "'Maria Candelaria'"
      ],
      "text/latex": [
       "'Maria Candelaria'"
      ],
      "text/markdown": [
       "'Maria Candelaria'"
      ],
      "text/plain": [
       "[1] \"Maria Candelaria\""
      ]
     },
     "metadata": {},
     "output_type": "display_data"
    }
   ],
   "source": [
    "familia$\"madre\" <- \"Maria Candelaria\"\n",
    "mm <- \"madre\"\n",
    "familia[[mm]]\n",
    "\n",
    "familia[[ paste(\"ma\", \"dre\", sep=\"\") ]]"
   ]
  },
  {
   "cell_type": "markdown",
   "metadata": {},
   "source": [
    "## Data Frames\n",
    "Un data frame3 es una lista, cuyos componentes pueden ser vectores, matrices o factores, con la única salvedad de que las longitudes, o número de renglones, en el caso de matrices, deben coincidir en todos los componentes.\n",
    "La apariencia de un data frame es la de una tabla y una forma de crearlos es mediante la función data.frame() ."
   ]
  },
  {
   "cell_type": "code",
   "execution_count": 5,
   "metadata": {},
   "outputs": [
    {
     "data": {
      "text/html": [
       "<table>\n",
       "<caption>A matrix: 3 × 2 of type int</caption>\n",
       "<thead>\n",
       "\t<tr><th scope=col>ord</th><th scope=col>edad</th></tr>\n",
       "</thead>\n",
       "<tbody>\n",
       "\t<tr><td>1</td><td>30</td></tr>\n",
       "\t<tr><td>2</td><td>26</td></tr>\n",
       "\t<tr><td>3</td><td> 9</td></tr>\n",
       "</tbody>\n",
       "</table>\n"
      ],
      "text/latex": [
       "A matrix: 3 × 2 of type int\n",
       "\\begin{tabular}{ll}\n",
       " ord & edad\\\\\n",
       "\\hline\n",
       "\t 1 & 30\\\\\n",
       "\t 2 & 26\\\\\n",
       "\t 3 &  9\\\\\n",
       "\\end{tabular}\n"
      ],
      "text/markdown": [
       "\n",
       "A matrix: 3 × 2 of type int\n",
       "\n",
       "| ord | edad |\n",
       "|---|---|\n",
       "| 1 | 30 |\n",
       "| 2 | 26 |\n",
       "| 3 |  9 |\n",
       "\n"
      ],
      "text/plain": [
       "     ord edad\n",
       "[1,] 1   30  \n",
       "[2,] 2   26  \n",
       "[3,] 3    9  "
      ]
     },
     "metadata": {},
     "output_type": "display_data"
    }
   ],
   "source": [
    "(m <- cbind(ord=1:3, edad=c(30L, 26L, 9L)) )"
   ]
  },
  {
   "cell_type": "code",
   "execution_count": 6,
   "metadata": {},
   "outputs": [
    {
     "data": {
      "text/html": [
       "<ol class=list-inline>\n",
       "\t<li>1.8</li>\n",
       "\t<li>1.72</li>\n",
       "\t<li>1.05</li>\n",
       "</ol>\n"
      ],
      "text/latex": [
       "\\begin{enumerate*}\n",
       "\\item 1.8\n",
       "\\item 1.72\n",
       "\\item 1.05\n",
       "\\end{enumerate*}\n"
      ],
      "text/markdown": [
       "1. 1.8\n",
       "2. 1.72\n",
       "3. 1.05\n",
       "\n",
       "\n"
      ],
      "text/plain": [
       "[1] 1.80 1.72 1.05"
      ]
     },
     "metadata": {},
     "output_type": "display_data"
    }
   ],
   "source": [
    "(v <- c(1.80, 1.72, 1.05) )"
   ]
  },
  {
   "cell_type": "code",
   "execution_count": 7,
   "metadata": {},
   "outputs": [],
   "source": [
    "ff <- data.frame(familia=c(\"Padre\", \"Madre\", \"Hijo\"),\n",
    "m, estatura=v)"
   ]
  },
  {
   "cell_type": "code",
   "execution_count": 9,
   "metadata": {},
   "outputs": [
    {
     "data": {
      "text/html": [
       "<table>\n",
       "<caption>A data.frame: 5 × 6</caption>\n",
       "<thead>\n",
       "\t<tr><th></th><th scope=col>Precio</th><th scope=col>Piso</th><th scope=col>Area</th><th scope=col>Cuartos</th><th scope=col>Edad</th><th scope=col>Calentador</th></tr>\n",
       "\t<tr><th></th><th scope=col>&lt;dbl&gt;</th><th scope=col>&lt;dbl&gt;</th><th scope=col>&lt;int&gt;</th><th scope=col>&lt;int&gt;</th><th scope=col>&lt;dbl&gt;</th><th scope=col>&lt;fct&gt;</th></tr>\n",
       "</thead>\n",
       "<tbody>\n",
       "\t<tr><th scope=row>01</th><td>52.00</td><td>111</td><td> 830</td><td>5</td><td>6.2</td><td>no</td></tr>\n",
       "\t<tr><th scope=row>02</th><td>54.75</td><td>128</td><td> 710</td><td>5</td><td>7.5</td><td>no</td></tr>\n",
       "\t<tr><th scope=row>03</th><td>57.50</td><td>101</td><td>1000</td><td>5</td><td>4.2</td><td>no</td></tr>\n",
       "\t<tr><th scope=row>04</th><td>57.50</td><td>131</td><td> 690</td><td>6</td><td>8.8</td><td>no</td></tr>\n",
       "\t<tr><th scope=row>05</th><td>59.75</td><td> 93</td><td> 900</td><td>5</td><td>1.9</td><td>si</td></tr>\n",
       "</tbody>\n",
       "</table>\n"
      ],
      "text/latex": [
       "A data.frame: 5 × 6\n",
       "\\begin{tabular}{r|llllll}\n",
       "  & Precio & Piso & Area & Cuartos & Edad & Calentador\\\\\n",
       "  & <dbl> & <dbl> & <int> & <int> & <dbl> & <fct>\\\\\n",
       "\\hline\n",
       "\t01 & 52.00 & 111 &  830 & 5 & 6.2 & no\\\\\n",
       "\t02 & 54.75 & 128 &  710 & 5 & 7.5 & no\\\\\n",
       "\t03 & 57.50 & 101 & 1000 & 5 & 4.2 & no\\\\\n",
       "\t04 & 57.50 & 131 &  690 & 6 & 8.8 & no\\\\\n",
       "\t05 & 59.75 &  93 &  900 & 5 & 1.9 & si\\\\\n",
       "\\end{tabular}\n"
      ],
      "text/markdown": [
       "\n",
       "A data.frame: 5 × 6\n",
       "\n",
       "| <!--/--> | Precio &lt;dbl&gt; | Piso &lt;dbl&gt; | Area &lt;int&gt; | Cuartos &lt;int&gt; | Edad &lt;dbl&gt; | Calentador &lt;fct&gt; |\n",
       "|---|---|---|---|---|---|---|\n",
       "| 01 | 52.00 | 111 |  830 | 5 | 6.2 | no |\n",
       "| 02 | 54.75 | 128 |  710 | 5 | 7.5 | no |\n",
       "| 03 | 57.50 | 101 | 1000 | 5 | 4.2 | no |\n",
       "| 04 | 57.50 | 131 |  690 | 6 | 8.8 | no |\n",
       "| 05 | 59.75 |  93 |  900 | 5 | 1.9 | si |\n",
       "\n"
      ],
      "text/plain": [
       "   Precio Piso Area Cuartos Edad Calentador\n",
       "01 52.00  111   830 5       6.2  no        \n",
       "02 54.75  128   710 5       7.5  no        \n",
       "03 57.50  101  1000 5       4.2  no        \n",
       "04 57.50  131   690 6       8.8  no        \n",
       "05 59.75   93   900 5       1.9  si        "
      ]
     },
     "metadata": {},
     "output_type": "display_data"
    }
   ],
   "source": [
    "mi.tabla <- read.table(\"Rtext.txt\")\n",
    "mi.tabla"
   ]
  },
  {
   "cell_type": "code",
   "execution_count": 10,
   "metadata": {},
   "outputs": [
    {
     "data": {
      "text/html": [
       "<ol class=list-inline>\n",
       "\t<li>'Precio'</li>\n",
       "\t<li>'Piso'</li>\n",
       "\t<li>'Area'</li>\n",
       "\t<li>'Cuartos'</li>\n",
       "\t<li>'Edad'</li>\n",
       "\t<li>'Calentador'</li>\n",
       "</ol>\n"
      ],
      "text/latex": [
       "\\begin{enumerate*}\n",
       "\\item 'Precio'\n",
       "\\item 'Piso'\n",
       "\\item 'Area'\n",
       "\\item 'Cuartos'\n",
       "\\item 'Edad'\n",
       "\\item 'Calentador'\n",
       "\\end{enumerate*}\n"
      ],
      "text/markdown": [
       "1. 'Precio'\n",
       "2. 'Piso'\n",
       "3. 'Area'\n",
       "4. 'Cuartos'\n",
       "5. 'Edad'\n",
       "6. 'Calentador'\n",
       "\n",
       "\n"
      ],
      "text/plain": [
       "[1] \"Precio\"     \"Piso\"       \"Area\"       \"Cuartos\"    \"Edad\"      \n",
       "[6] \"Calentador\""
      ]
     },
     "metadata": {},
     "output_type": "display_data"
    }
   ],
   "source": [
    "colnames(mi.tabla)"
   ]
  },
  {
   "cell_type": "code",
   "execution_count": 11,
   "metadata": {},
   "outputs": [
    {
     "data": {
      "text/html": [
       "<ol class=list-inline>\n",
       "\t<li>'01'</li>\n",
       "\t<li>'02'</li>\n",
       "\t<li>'03'</li>\n",
       "\t<li>'04'</li>\n",
       "\t<li>'05'</li>\n",
       "</ol>\n"
      ],
      "text/latex": [
       "\\begin{enumerate*}\n",
       "\\item '01'\n",
       "\\item '02'\n",
       "\\item '03'\n",
       "\\item '04'\n",
       "\\item '05'\n",
       "\\end{enumerate*}\n"
      ],
      "text/markdown": [
       "1. '01'\n",
       "2. '02'\n",
       "3. '03'\n",
       "4. '04'\n",
       "5. '05'\n",
       "\n",
       "\n"
      ],
      "text/plain": [
       "[1] \"01\" \"02\" \"03\" \"04\" \"05\""
      ]
     },
     "metadata": {},
     "output_type": "display_data"
    }
   ],
   "source": [
    "rownames(mi.tabla)"
   ]
  },
  {
   "cell_type": "code",
   "execution_count": 12,
   "metadata": {},
   "outputs": [
    {
     "data": {
      "text/html": [
       "<ol class=list-inline>\n",
       "\t<li>111</li>\n",
       "\t<li>128</li>\n",
       "\t<li>101</li>\n",
       "\t<li>131</li>\n",
       "\t<li>93</li>\n",
       "</ol>\n"
      ],
      "text/latex": [
       "\\begin{enumerate*}\n",
       "\\item 111\n",
       "\\item 128\n",
       "\\item 101\n",
       "\\item 131\n",
       "\\item 93\n",
       "\\end{enumerate*}\n"
      ],
      "text/markdown": [
       "1. 111\n",
       "2. 128\n",
       "3. 101\n",
       "4. 131\n",
       "5. 93\n",
       "\n",
       "\n"
      ],
      "text/plain": [
       "[1] 111 128 101 131  93"
      ]
     },
     "metadata": {},
     "output_type": "display_data"
    }
   ],
   "source": [
    "mi.tabla$Piso"
   ]
  },
  {
   "cell_type": "code",
   "execution_count": 13,
   "metadata": {},
   "outputs": [
    {
     "data": {
      "text/html": [
       "<ol class=list-inline>\n",
       "\t<li>111</li>\n",
       "\t<li>128</li>\n",
       "\t<li>101</li>\n",
       "\t<li>131</li>\n",
       "\t<li>93</li>\n",
       "</ol>\n"
      ],
      "text/latex": [
       "\\begin{enumerate*}\n",
       "\\item 111\n",
       "\\item 128\n",
       "\\item 101\n",
       "\\item 131\n",
       "\\item 93\n",
       "\\end{enumerate*}\n"
      ],
      "text/markdown": [
       "1. 111\n",
       "2. 128\n",
       "3. 101\n",
       "4. 131\n",
       "5. 93\n",
       "\n",
       "\n"
      ],
      "text/plain": [
       "[1] 111 128 101 131  93"
      ]
     },
     "metadata": {},
     "output_type": "display_data"
    }
   ],
   "source": [
    "mi.tabla[[2]]"
   ]
  },
  {
   "cell_type": "code",
   "execution_count": 14,
   "metadata": {},
   "outputs": [
    {
     "data": {
      "text/html": [
       "<table>\n",
       "<caption>A data.frame: 5 × 1</caption>\n",
       "<thead>\n",
       "\t<tr><th></th><th scope=col>Piso</th></tr>\n",
       "\t<tr><th></th><th scope=col>&lt;dbl&gt;</th></tr>\n",
       "</thead>\n",
       "<tbody>\n",
       "\t<tr><th scope=row>01</th><td>111</td></tr>\n",
       "\t<tr><th scope=row>02</th><td>128</td></tr>\n",
       "\t<tr><th scope=row>03</th><td>101</td></tr>\n",
       "\t<tr><th scope=row>04</th><td>131</td></tr>\n",
       "\t<tr><th scope=row>05</th><td> 93</td></tr>\n",
       "</tbody>\n",
       "</table>\n"
      ],
      "text/latex": [
       "A data.frame: 5 × 1\n",
       "\\begin{tabular}{r|l}\n",
       "  & Piso\\\\\n",
       "  & <dbl>\\\\\n",
       "\\hline\n",
       "\t01 & 111\\\\\n",
       "\t02 & 128\\\\\n",
       "\t03 & 101\\\\\n",
       "\t04 & 131\\\\\n",
       "\t05 &  93\\\\\n",
       "\\end{tabular}\n"
      ],
      "text/markdown": [
       "\n",
       "A data.frame: 5 × 1\n",
       "\n",
       "| <!--/--> | Piso &lt;dbl&gt; |\n",
       "|---|---|\n",
       "| 01 | 111 |\n",
       "| 02 | 128 |\n",
       "| 03 | 101 |\n",
       "| 04 | 131 |\n",
       "| 05 |  93 |\n",
       "\n"
      ],
      "text/plain": [
       "   Piso\n",
       "01 111 \n",
       "02 128 \n",
       "03 101 \n",
       "04 131 \n",
       "05  93 "
      ]
     },
     "metadata": {},
     "output_type": "display_data"
    }
   ],
   "source": [
    "mi.tabla[2]"
   ]
  },
  {
   "cell_type": "markdown",
   "metadata": {},
   "source": [
    "En el último caso, los datos se despliegan junto con el nombre de la columna y cada uno de los nombres de los renglones. Ello se debe a que en realidad, el operador [] extrae una rebanada del dato o variable sobre la cuál opera, un data frame en este caso, y que podríamos denominarlo como un sub-data frame aquí; esto es, se trata otra vez de un data frame pero más chiquito que el original"
   ]
  },
  {
   "cell_type": "code",
   "execution_count": 15,
   "metadata": {},
   "outputs": [
    {
     "data": {
      "text/html": [
       "101"
      ],
      "text/latex": [
       "101"
      ],
      "text/markdown": [
       "101"
      ],
      "text/plain": [
       "[1] 101"
      ]
     },
     "metadata": {},
     "output_type": "display_data"
    }
   ],
   "source": [
    "mi.tabla[3, 2]"
   ]
  },
  {
   "cell_type": "code",
   "execution_count": 16,
   "metadata": {},
   "outputs": [
    {
     "data": {
      "text/html": [
       "<table>\n",
       "<caption>A data.frame: 5 × 6</caption>\n",
       "<thead>\n",
       "\t<tr><th></th><th scope=col>Precio</th><th scope=col>Piso</th><th scope=col>Area</th><th scope=col>Cuartos</th><th scope=col>Edad</th><th scope=col>Calentador</th></tr>\n",
       "\t<tr><th></th><th scope=col>&lt;dbl&gt;</th><th scope=col>&lt;dbl&gt;</th><th scope=col>&lt;int&gt;</th><th scope=col>&lt;int&gt;</th><th scope=col>&lt;dbl&gt;</th><th scope=col>&lt;fct&gt;</th></tr>\n",
       "</thead>\n",
       "<tbody>\n",
       "\t<tr><th scope=row>01</th><td>52.00</td><td>111</td><td> 830</td><td>5</td><td>6.2</td><td>no</td></tr>\n",
       "\t<tr><th scope=row>02</th><td>54.75</td><td>128</td><td> 710</td><td>5</td><td>7.5</td><td>no</td></tr>\n",
       "\t<tr><th scope=row>03</th><td>57.50</td><td>106</td><td>1000</td><td>5</td><td>4.2</td><td>no</td></tr>\n",
       "\t<tr><th scope=row>04</th><td>57.50</td><td>131</td><td> 690</td><td>6</td><td>8.8</td><td>no</td></tr>\n",
       "\t<tr><th scope=row>05</th><td>59.75</td><td> 93</td><td> 900</td><td>5</td><td>1.9</td><td>si</td></tr>\n",
       "</tbody>\n",
       "</table>\n"
      ],
      "text/latex": [
       "A data.frame: 5 × 6\n",
       "\\begin{tabular}{r|llllll}\n",
       "  & Precio & Piso & Area & Cuartos & Edad & Calentador\\\\\n",
       "  & <dbl> & <dbl> & <int> & <int> & <dbl> & <fct>\\\\\n",
       "\\hline\n",
       "\t01 & 52.00 & 111 &  830 & 5 & 6.2 & no\\\\\n",
       "\t02 & 54.75 & 128 &  710 & 5 & 7.5 & no\\\\\n",
       "\t03 & 57.50 & 106 & 1000 & 5 & 4.2 & no\\\\\n",
       "\t04 & 57.50 & 131 &  690 & 6 & 8.8 & no\\\\\n",
       "\t05 & 59.75 &  93 &  900 & 5 & 1.9 & si\\\\\n",
       "\\end{tabular}\n"
      ],
      "text/markdown": [
       "\n",
       "A data.frame: 5 × 6\n",
       "\n",
       "| <!--/--> | Precio &lt;dbl&gt; | Piso &lt;dbl&gt; | Area &lt;int&gt; | Cuartos &lt;int&gt; | Edad &lt;dbl&gt; | Calentador &lt;fct&gt; |\n",
       "|---|---|---|---|---|---|---|\n",
       "| 01 | 52.00 | 111 |  830 | 5 | 6.2 | no |\n",
       "| 02 | 54.75 | 128 |  710 | 5 | 7.5 | no |\n",
       "| 03 | 57.50 | 106 | 1000 | 5 | 4.2 | no |\n",
       "| 04 | 57.50 | 131 |  690 | 6 | 8.8 | no |\n",
       "| 05 | 59.75 |  93 |  900 | 5 | 1.9 | si |\n",
       "\n"
      ],
      "text/plain": [
       "   Precio Piso Area Cuartos Edad Calentador\n",
       "01 52.00  111   830 5       6.2  no        \n",
       "02 54.75  128   710 5       7.5  no        \n",
       "03 57.50  106  1000 5       4.2  no        \n",
       "04 57.50  131   690 6       8.8  no        \n",
       "05 59.75   93   900 5       1.9  si        "
      ]
     },
     "metadata": {},
     "output_type": "display_data"
    }
   ],
   "source": [
    "# modificamos el elemento con:\n",
    "mi.tabla[3, 2] <- 106\n",
    "mi.tabla"
   ]
  },
  {
   "cell_type": "markdown",
   "metadata": {},
   "source": [
    "Otra característica importante de los data frames es que, salvo que se indique otra cosa, las columnas de tipo character se convierten automáticamente a\n",
    "tipo factor:"
   ]
  },
  {
   "cell_type": "code",
   "execution_count": 17,
   "metadata": {},
   "outputs": [
    {
     "data": {
      "text/html": [
       "<ol class=list-inline>\n",
       "\t<li>no</li>\n",
       "\t<li>no</li>\n",
       "\t<li>no</li>\n",
       "\t<li>no</li>\n",
       "\t<li>si</li>\n",
       "</ol>\n",
       "\n",
       "<details>\n",
       "\t<summary style=display:list-item;cursor:pointer>\n",
       "\t\t<strong>Levels</strong>:\n",
       "\t</summary>\n",
       "\t<ol class=list-inline>\n",
       "\t\t<li>'no'</li>\n",
       "\t\t<li>'si'</li>\n",
       "\t</ol>\n",
       "</details>"
      ],
      "text/latex": [
       "\\begin{enumerate*}\n",
       "\\item no\n",
       "\\item no\n",
       "\\item no\n",
       "\\item no\n",
       "\\item si\n",
       "\\end{enumerate*}\n",
       "\n",
       "\\emph{Levels}: \\begin{enumerate*}\n",
       "\\item 'no'\n",
       "\\item 'si'\n",
       "\\end{enumerate*}\n"
      ],
      "text/markdown": [
       "1. no\n",
       "2. no\n",
       "3. no\n",
       "4. no\n",
       "5. si\n",
       "\n",
       "\n",
       "\n",
       "**Levels**: 1. 'no'\n",
       "2. 'si'\n",
       "\n",
       "\n"
      ],
      "text/plain": [
       "[1] no no no no si\n",
       "Levels: no si"
      ]
     },
     "metadata": {},
     "output_type": "display_data"
    }
   ],
   "source": [
    "mi.tabla$Calentador"
   ]
  },
  {
   "cell_type": "code",
   "execution_count": 18,
   "metadata": {},
   "outputs": [
    {
     "data": {
      "text/html": [
       "'factor'"
      ],
      "text/latex": [
       "'factor'"
      ],
      "text/markdown": [
       "'factor'"
      ],
      "text/plain": [
       "[1] \"factor\""
      ]
     },
     "metadata": {},
     "output_type": "display_data"
    }
   ],
   "source": [
    "class(mi.tabla$Calentador)"
   ]
  },
  {
   "cell_type": "code",
   "execution_count": 19,
   "metadata": {},
   "outputs": [
    {
     "data": {
      "text/html": [
       "<table>\n",
       "<caption>A data.frame: 5 × 7</caption>\n",
       "<thead>\n",
       "\t<tr><th></th><th scope=col>Precio</th><th scope=col>Piso</th><th scope=col>Area</th><th scope=col>Cuartos</th><th scope=col>Edad</th><th scope=col>Calentador</th><th scope=col>Total</th></tr>\n",
       "\t<tr><th></th><th scope=col>&lt;dbl&gt;</th><th scope=col>&lt;dbl&gt;</th><th scope=col>&lt;int&gt;</th><th scope=col>&lt;int&gt;</th><th scope=col>&lt;dbl&gt;</th><th scope=col>&lt;fct&gt;</th><th scope=col>&lt;dbl&gt;</th></tr>\n",
       "</thead>\n",
       "<tbody>\n",
       "\t<tr><th scope=row>01</th><td>52.00</td><td>111</td><td> 830</td><td>5</td><td>6.2</td><td>no</td><td>43160.0</td></tr>\n",
       "\t<tr><th scope=row>02</th><td>54.75</td><td>128</td><td> 710</td><td>5</td><td>7.5</td><td>no</td><td>38872.5</td></tr>\n",
       "\t<tr><th scope=row>03</th><td>57.50</td><td>106</td><td>1000</td><td>5</td><td>4.2</td><td>no</td><td>57500.0</td></tr>\n",
       "\t<tr><th scope=row>04</th><td>57.50</td><td>131</td><td> 690</td><td>6</td><td>8.8</td><td>no</td><td>39675.0</td></tr>\n",
       "\t<tr><th scope=row>05</th><td>59.75</td><td> 93</td><td> 900</td><td>5</td><td>1.9</td><td>si</td><td>53775.0</td></tr>\n",
       "</tbody>\n",
       "</table>\n"
      ],
      "text/latex": [
       "A data.frame: 5 × 7\n",
       "\\begin{tabular}{r|lllllll}\n",
       "  & Precio & Piso & Area & Cuartos & Edad & Calentador & Total\\\\\n",
       "  & <dbl> & <dbl> & <int> & <int> & <dbl> & <fct> & <dbl>\\\\\n",
       "\\hline\n",
       "\t01 & 52.00 & 111 &  830 & 5 & 6.2 & no & 43160.0\\\\\n",
       "\t02 & 54.75 & 128 &  710 & 5 & 7.5 & no & 38872.5\\\\\n",
       "\t03 & 57.50 & 106 & 1000 & 5 & 4.2 & no & 57500.0\\\\\n",
       "\t04 & 57.50 & 131 &  690 & 6 & 8.8 & no & 39675.0\\\\\n",
       "\t05 & 59.75 &  93 &  900 & 5 & 1.9 & si & 53775.0\\\\\n",
       "\\end{tabular}\n"
      ],
      "text/markdown": [
       "\n",
       "A data.frame: 5 × 7\n",
       "\n",
       "| <!--/--> | Precio &lt;dbl&gt; | Piso &lt;dbl&gt; | Area &lt;int&gt; | Cuartos &lt;int&gt; | Edad &lt;dbl&gt; | Calentador &lt;fct&gt; | Total &lt;dbl&gt; |\n",
       "|---|---|---|---|---|---|---|---|\n",
       "| 01 | 52.00 | 111 |  830 | 5 | 6.2 | no | 43160.0 |\n",
       "| 02 | 54.75 | 128 |  710 | 5 | 7.5 | no | 38872.5 |\n",
       "| 03 | 57.50 | 106 | 1000 | 5 | 4.2 | no | 57500.0 |\n",
       "| 04 | 57.50 | 131 |  690 | 6 | 8.8 | no | 39675.0 |\n",
       "| 05 | 59.75 |  93 |  900 | 5 | 1.9 | si | 53775.0 |\n",
       "\n"
      ],
      "text/plain": [
       "   Precio Piso Area Cuartos Edad Calentador Total  \n",
       "01 52.00  111   830 5       6.2  no         43160.0\n",
       "02 54.75  128   710 5       7.5  no         38872.5\n",
       "03 57.50  106  1000 5       4.2  no         57500.0\n",
       "04 57.50  131   690 6       8.8  no         39675.0\n",
       "05 59.75   93   900 5       1.9  si         53775.0"
      ]
     },
     "metadata": {},
     "output_type": "display_data"
    }
   ],
   "source": [
    "mi.tabla$Total <- mi.tabla$Precio * mi.tabla$Area\n",
    "mi.tabla"
   ]
  },
  {
   "cell_type": "markdown",
   "metadata": {},
   "source": [
    "## Funciones en R\n",
    "A diferencia de otros lenguajes de programación procedurales, como C, Java, y PHP, en R las funciones constituyen una clase. \n",
    "\n",
    "Por ejemplo, los objetos de esa clase pueden ser asignados a variables; podría darse el caso, incluso, de armar una lista cuyos elementos fueran funciones.\n",
    "Aunque la escritura de funciones es parte de la programación que se verá más adelante, se indicará aquí la forma de crear funciones como una herramienta\n",
    "para agrupar varias operaciones.\n",
    "La sintaxis para la creación de una función es como sigue:\n",
    "\n",
    "\n",
    "variable <- function(arg_1, arg_2, ..., arg_n) expresion"
   ]
  },
  {
   "cell_type": "code",
   "execution_count": 20,
   "metadata": {},
   "outputs": [
    {
     "data": {
      "text/html": [
       "'function'"
      ],
      "text/latex": [
       "'function'"
      ],
      "text/markdown": [
       "'function'"
      ],
      "text/plain": [
       "[1] \"function\""
      ]
     },
     "metadata": {},
     "output_type": "display_data"
    }
   ],
   "source": [
    "hipotenusa <- function(x, y) {\n",
    "sqrt(x^2 + y^2)\n",
    "}\n",
    "class(hipotenusa)"
   ]
  },
  {
   "cell_type": "code",
   "execution_count": 21,
   "metadata": {},
   "outputs": [],
   "source": [
    "hipotenusa <- function(x, y) {\n",
    "return(sqrt(x^2 + y^2))\n",
    "}"
   ]
  },
  {
   "cell_type": "code",
   "execution_count": 22,
   "metadata": {},
   "outputs": [
    {
     "data": {
      "text/html": [
       "5"
      ],
      "text/latex": [
       "5"
      ],
      "text/markdown": [
       "5"
      ],
      "text/plain": [
       "[1] 5"
      ]
     },
     "metadata": {},
     "output_type": "display_data"
    }
   ],
   "source": [
    "# Para utilizar esta función lo hacemos con:\n",
    "hipotenusa(3, 4)"
   ]
  },
  {
   "cell_type": "code",
   "execution_count": 23,
   "metadata": {},
   "outputs": [
    {
     "data": {
      "text/html": [
       "5"
      ],
      "text/latex": [
       "5"
      ],
      "text/markdown": [
       "5"
      ],
      "text/plain": [
       "[1] 5"
      ]
     },
     "metadata": {},
     "output_type": "display_data"
    }
   ],
   "source": [
    "hipotenusa(y = 4, x = 3)"
   ]
  },
  {
   "cell_type": "markdown",
   "metadata": {},
   "source": [
    "Otra característica es que las funciones, en su definición, pueden tener valores asignados por defecto o en ausencia cuando es llamada la función:"
   ]
  },
  {
   "cell_type": "code",
   "execution_count": 24,
   "metadata": {},
   "outputs": [
    {
     "data": {
      "text/html": [
       "5"
      ],
      "text/latex": [
       "5"
      ],
      "text/markdown": [
       "5"
      ],
      "text/plain": [
       "[1] 5"
      ]
     },
     "metadata": {},
     "output_type": "display_data"
    }
   ],
   "source": [
    "hipotenusa <- function(x=3, y=4) { # valores por ausencia\n",
    "return( sqrt( x^2 + y^2 ) )\n",
    "}\n",
    "# Llamamos a la función con argumentos \"ausentes\"\n",
    "hipotenusa()"
   ]
  },
  {
   "cell_type": "code",
   "execution_count": 25,
   "metadata": {},
   "outputs": [],
   "source": [
    "ff <- function(r) {\n",
    "return(PI * r^2)\n",
    "}"
   ]
  },
  {
   "cell_type": "markdown",
   "metadata": {},
   "source": [
    "## Coerción\n",
    "La coerción es obligar a un dato que sea de otro tipo:"
   ]
  },
  {
   "cell_type": "code",
   "execution_count": 26,
   "metadata": {},
   "outputs": [
    {
     "data": {
      "text/html": [
       "1.03"
      ],
      "text/latex": [
       "1.03"
      ],
      "text/markdown": [
       "1.03"
      ],
      "text/plain": [
       "[1] 1.03"
      ]
     },
     "metadata": {},
     "output_type": "display_data"
    },
    {
     "data": {
      "text/html": [
       "1"
      ],
      "text/latex": [
       "1"
      ],
      "text/markdown": [
       "1"
      ],
      "text/plain": [
       "[1] 1"
      ]
     },
     "metadata": {},
     "output_type": "display_data"
    },
    {
     "data": {
      "text/html": [
       "1+0i"
      ],
      "text/latex": [
       "1+0i"
      ],
      "text/markdown": [
       "1+0i"
      ],
      "text/plain": [
       "[1] 1+0i"
      ]
     },
     "metadata": {},
     "output_type": "display_data"
    },
    {
     "data": {
      "text/html": [
       "'character'"
      ],
      "text/latex": [
       "'character'"
      ],
      "text/markdown": [
       "'character'"
      ],
      "text/plain": [
       "[1] \"character\""
      ]
     },
     "metadata": {},
     "output_type": "display_data"
    },
    {
     "data": {
      "text/html": [
       "<ol class=list-inline>\n",
       "\t<li>1000</li>\n",
       "\t<li>2013.1</li>\n",
       "\t<li>0</li>\n",
       "</ol>\n"
      ],
      "text/latex": [
       "\\begin{enumerate*}\n",
       "\\item 1000\n",
       "\\item 2013.1\n",
       "\\item 0\n",
       "\\end{enumerate*}\n"
      ],
      "text/markdown": [
       "1. 1000\n",
       "2. 2013.1\n",
       "3. 0\n",
       "\n",
       "\n"
      ],
      "text/plain": [
       "[1] 1000.0 2013.1    0.0"
      ]
     },
     "metadata": {},
     "output_type": "display_data"
    },
    {
     "data": {
      "text/html": [
       "'numeric'"
      ],
      "text/latex": [
       "'numeric'"
      ],
      "text/markdown": [
       "'numeric'"
      ],
      "text/plain": [
       "[1] \"numeric\""
      ]
     },
     "metadata": {},
     "output_type": "display_data"
    },
    {
     "data": {
      "text/html": [
       "<ol class=list-inline>\n",
       "\t<li>TRUE</li>\n",
       "\t<li>TRUE</li>\n",
       "\t<li>FALSE</li>\n",
       "</ol>\n"
      ],
      "text/latex": [
       "\\begin{enumerate*}\n",
       "\\item TRUE\n",
       "\\item TRUE\n",
       "\\item FALSE\n",
       "\\end{enumerate*}\n"
      ],
      "text/markdown": [
       "1. TRUE\n",
       "2. TRUE\n",
       "3. FALSE\n",
       "\n",
       "\n"
      ],
      "text/plain": [
       "[1]  TRUE  TRUE FALSE"
      ]
     },
     "metadata": {},
     "output_type": "display_data"
    }
   ],
   "source": [
    "x <- 1.03\n",
    "x\n",
    "\n",
    "y <- as.integer(x) # conversión a entero\n",
    "y\n",
    "\n",
    "z <- as.complex(y) # conversión a complejo\n",
    "z\n",
    "\n",
    "a <- c(\"1000\", \"2013.1\", \"0\")\n",
    "class(a)\n",
    "\n",
    "b <- as.numeric(a) # conversión de character a otro tipo\n",
    "b\n",
    "\n",
    "class(b)\n",
    "\n",
    "c <- as.logical(b) # conversión a lógico\n",
    "# 0 es FALSE y distinto de 0 es TRUE\n",
    "c\n",
    "## [1] TRUE TRUE FALSE"
   ]
  },
  {
   "cell_type": "markdown",
   "metadata": {},
   "source": [
    "También, puede haber conversiones entre clases de datos más estructuradas.\n",
    "\n",
    "Una inmediata es la conversión de una matriz a un data frame:"
   ]
  },
  {
   "cell_type": "code",
   "execution_count": 27,
   "metadata": {},
   "outputs": [
    {
     "data": {
      "text/html": [
       "<table>\n",
       "<caption>A matrix: 5 × 4 of type int</caption>\n",
       "<tbody>\n",
       "\t<tr><td>1</td><td> 6</td><td>11</td><td>16</td></tr>\n",
       "\t<tr><td>2</td><td> 7</td><td>12</td><td>17</td></tr>\n",
       "\t<tr><td>3</td><td> 8</td><td>13</td><td>18</td></tr>\n",
       "\t<tr><td>4</td><td> 9</td><td>14</td><td>19</td></tr>\n",
       "\t<tr><td>5</td><td>10</td><td>15</td><td>20</td></tr>\n",
       "</tbody>\n",
       "</table>\n"
      ],
      "text/latex": [
       "A matrix: 5 × 4 of type int\n",
       "\\begin{tabular}{llll}\n",
       "\t 1 &  6 & 11 & 16\\\\\n",
       "\t 2 &  7 & 12 & 17\\\\\n",
       "\t 3 &  8 & 13 & 18\\\\\n",
       "\t 4 &  9 & 14 & 19\\\\\n",
       "\t 5 & 10 & 15 & 20\\\\\n",
       "\\end{tabular}\n"
      ],
      "text/markdown": [
       "\n",
       "A matrix: 5 × 4 of type int\n",
       "\n",
       "| 1 |  6 | 11 | 16 |\n",
       "| 2 |  7 | 12 | 17 |\n",
       "| 3 |  8 | 13 | 18 |\n",
       "| 4 |  9 | 14 | 19 |\n",
       "| 5 | 10 | 15 | 20 |\n",
       "\n"
      ],
      "text/plain": [
       "     [,1] [,2] [,3] [,4]\n",
       "[1,] 1     6   11   16  \n",
       "[2,] 2     7   12   17  \n",
       "[3,] 3     8   13   18  \n",
       "[4,] 4     9   14   19  \n",
       "[5,] 5    10   15   20  "
      ]
     },
     "metadata": {},
     "output_type": "display_data"
    }
   ],
   "source": [
    "(m <- matrix(1:20, nrow = 5, ncol = 4))"
   ]
  },
  {
   "cell_type": "code",
   "execution_count": 28,
   "metadata": {},
   "outputs": [
    {
     "data": {
      "text/html": [
       "<table>\n",
       "<caption>A data.frame: 5 × 4</caption>\n",
       "<thead>\n",
       "\t<tr><th scope=col>V1</th><th scope=col>V2</th><th scope=col>V3</th><th scope=col>V4</th></tr>\n",
       "\t<tr><th scope=col>&lt;int&gt;</th><th scope=col>&lt;int&gt;</th><th scope=col>&lt;int&gt;</th><th scope=col>&lt;int&gt;</th></tr>\n",
       "</thead>\n",
       "<tbody>\n",
       "\t<tr><td>1</td><td> 6</td><td>11</td><td>16</td></tr>\n",
       "\t<tr><td>2</td><td> 7</td><td>12</td><td>17</td></tr>\n",
       "\t<tr><td>3</td><td> 8</td><td>13</td><td>18</td></tr>\n",
       "\t<tr><td>4</td><td> 9</td><td>14</td><td>19</td></tr>\n",
       "\t<tr><td>5</td><td>10</td><td>15</td><td>20</td></tr>\n",
       "</tbody>\n",
       "</table>\n"
      ],
      "text/latex": [
       "A data.frame: 5 × 4\n",
       "\\begin{tabular}{r|llll}\n",
       " V1 & V2 & V3 & V4\\\\\n",
       " <int> & <int> & <int> & <int>\\\\\n",
       "\\hline\n",
       "\t 1 &  6 & 11 & 16\\\\\n",
       "\t 2 &  7 & 12 & 17\\\\\n",
       "\t 3 &  8 & 13 & 18\\\\\n",
       "\t 4 &  9 & 14 & 19\\\\\n",
       "\t 5 & 10 & 15 & 20\\\\\n",
       "\\end{tabular}\n"
      ],
      "text/markdown": [
       "\n",
       "A data.frame: 5 × 4\n",
       "\n",
       "| V1 &lt;int&gt; | V2 &lt;int&gt; | V3 &lt;int&gt; | V4 &lt;int&gt; |\n",
       "|---|---|---|---|\n",
       "| 1 |  6 | 11 | 16 |\n",
       "| 2 |  7 | 12 | 17 |\n",
       "| 3 |  8 | 13 | 18 |\n",
       "| 4 |  9 | 14 | 19 |\n",
       "| 5 | 10 | 15 | 20 |\n",
       "\n"
      ],
      "text/plain": [
       "  V1 V2 V3 V4\n",
       "1 1   6 11 16\n",
       "2 2   7 12 17\n",
       "3 3   8 13 18\n",
       "4 4   9 14 19\n",
       "5 5  10 15 20"
      ]
     },
     "metadata": {},
     "output_type": "display_data"
    }
   ],
   "source": [
    "ff <- as.data.frame(m)\n",
    "ff"
   ]
  },
  {
   "cell_type": "code",
   "execution_count": null,
   "metadata": {},
   "outputs": [],
   "source": []
  }
 ],
 "metadata": {
  "kernelspec": {
   "display_name": "R",
   "language": "R",
   "name": "ir"
  },
  "language_info": {
   "codemirror_mode": "r",
   "file_extension": ".r",
   "mimetype": "text/x-r-source",
   "name": "R",
   "pygments_lexer": "r",
   "version": "3.6.0"
  }
 },
 "nbformat": 4,
 "nbformat_minor": 2
}
