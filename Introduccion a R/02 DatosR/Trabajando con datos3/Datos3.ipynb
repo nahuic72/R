{
 "cells": [
  {
   "cell_type": "markdown",
   "metadata": {
    "collapsed": true,
    "deletable": true,
    "editable": true
   },
   "source": [
    "## Analizando datos\n",
    "\n",
    "En el análisis de datos, la mayor parte del tiempo se gasta en la `limpieza de datos`, es decir,  filtrar y transformar los datos originales en una forma que sea más fácil de analizar. El proceso de filtrado y transformación también se denomina manipulación de datos.  Asumiendo directamente que los datos están listos para el análisis, aplicaremos algunos modelos sencillos y fijar un modelo con datos, cómo interactuar con modelos fijados y cómo aplicar un modelo fijado\n",
    "para hacer predicciones."
   ]
  },
  {
   "cell_type": "markdown",
   "metadata": {
    "collapsed": true,
    "deletable": true,
    "editable": true
   },
   "source": [
    "### Fijando un modelo lineal\n",
    "\n",
    "El modelo más simple en R es el modelo lineal, es decir, utilizamos una función lineal para describir la relación entre dos variables aleatorias bajo un cierto conjunto de suposiciones. En el siguiente ejemplo, crearemos una función lineal que asigna `x` a `3 + 2*x`. Entonces generamos un vector numérico aleatorio normalmente distribuido `x` y generamos `y` por `f(x)` más algún [ruido](https://en.wikipedia.org/wiki/Statistical_noise) independiente:"
   ]
  },
  {
   "cell_type": "code",
   "execution_count": 1,
   "metadata": {
    "collapsed": true,
    "deletable": true,
    "editable": true
   },
   "outputs": [],
   "source": [
    "f <- function(x) 3 + 2 * x\n",
    "x <- rnorm(1000)\n",
    "y <- f(x) + 0.5 * rnorm(1000)"
   ]
  },
  {
   "cell_type": "markdown",
   "metadata": {
    "deletable": true,
    "editable": true
   },
   "source": [
    "Si no sabemos cómo se genera `y` por `x`, podemos utilizar un modelo lineal para recuperar esa relación, es decir, recuperar el coeficiente de la función lineal.  El siguiente código usa `lm()` para ajustar `x` e `y` con un modelo lineal. Debes notar  que la fórmula `y ~ x` es una representación accesible para decir, que la regresión lineal está entre la variable dependiente `y`  con  un único regresor  `x`:"
   ]
  },
  {
   "cell_type": "code",
   "execution_count": 2,
   "metadata": {
    "collapsed": false,
    "deletable": true,
    "editable": true
   },
   "outputs": [],
   "source": [
    "help(lm)"
   ]
  },
  {
   "cell_type": "code",
   "execution_count": 3,
   "metadata": {
    "collapsed": false,
    "deletable": true,
    "editable": true
   },
   "outputs": [
    {
     "data": {
      "text/plain": [
       "\n",
       "Call:\n",
       "lm(formula = y ~ x)\n",
       "\n",
       "Coefficients:\n",
       "(Intercept)            x  \n",
       "      2.993        2.015  \n"
      ]
     },
     "metadata": {},
     "output_type": "display_data"
    }
   ],
   "source": [
    "modelo1 <- lm(y ~ x)\n",
    "modelo1"
   ]
  },
  {
   "cell_type": "markdown",
   "metadata": {
    "deletable": true,
    "editable": true
   },
   "source": [
    "Los coeficientes verdaderos son `3`(intercepto) y `2` (pendiente) y con los datos de la muestra `x` e `y`, el modelo ajustado tiene coeficientes `2.973` (intercepto) y `2.004`(pendiente), que son bastante cercanos a los coeficientes verdaderos. \n",
    "\n",
    "Almacenamos el modelo en el `modelo1`. Para acceder a los coeficientes del modelo, podemos utilizar el siguiente código:"
   ]
  },
  {
   "cell_type": "code",
   "execution_count": 4,
   "metadata": {
    "collapsed": false,
    "deletable": true,
    "editable": true
   },
   "outputs": [
    {
     "data": {
      "text/html": [
       "<dl class=dl-horizontal>\n",
       "\t<dt>(Intercept)</dt>\n",
       "\t\t<dd>2.9930865803193</dd>\n",
       "\t<dt>x</dt>\n",
       "\t\t<dd>2.01503856073296</dd>\n",
       "</dl>\n"
      ],
      "text/latex": [
       "\\begin{description*}\n",
       "\\item[(Intercept)] 2.9930865803193\n",
       "\\item[x] 2.01503856073296\n",
       "\\end{description*}\n"
      ],
      "text/markdown": [
       "(Intercept)\n",
       ":   2.9930865803193x\n",
       ":   2.01503856073296\n",
       "\n"
      ],
      "text/plain": [
       "(Intercept)           x \n",
       "   2.993087    2.015039 "
      ]
     },
     "metadata": {},
     "output_type": "display_data"
    }
   ],
   "source": [
    "coef(modelo1)"
   ]
  },
  {
   "cell_type": "markdown",
   "metadata": {
    "deletable": true,
    "editable": true
   },
   "source": [
    "Alternativamente, podemos usar los coeficientes `modelo1$`, ya que `modelo1` es esencialmente una lista."
   ]
  },
  {
   "cell_type": "markdown",
   "metadata": {
    "deletable": true,
    "editable": true
   },
   "source": [
    "Podemos llamar a `summary()` para saber más sobre las propiedades estadísticas del modelo lineal:"
   ]
  },
  {
   "cell_type": "code",
   "execution_count": 5,
   "metadata": {
    "collapsed": false,
    "deletable": true,
    "editable": true
   },
   "outputs": [
    {
     "data": {
      "text/plain": [
       "\n",
       "Call:\n",
       "lm(formula = y ~ x)\n",
       "\n",
       "Residuals:\n",
       "     Min       1Q   Median       3Q      Max \n",
       "-1.49442 -0.30351 -0.00307  0.33884  1.54417 \n",
       "\n",
       "Coefficients:\n",
       "            Estimate Std. Error t value Pr(>|t|)    \n",
       "(Intercept)  2.99309    0.01556   192.4   <2e-16 ***\n",
       "x            2.01504    0.01569   128.4   <2e-16 ***\n",
       "---\n",
       "Signif. codes:  0 ‘***’ 0.001 ‘**’ 0.01 ‘*’ 0.05 ‘.’ 0.1 ‘ ’ 1\n",
       "\n",
       "Residual standard error: 0.4916 on 998 degrees of freedom\n",
       "Multiple R-squared:  0.9429,\tAdjusted R-squared:  0.9429 \n",
       "F-statistic: 1.649e+04 on 1 and 998 DF,  p-value: < 2.2e-16\n"
      ]
     },
     "metadata": {},
     "output_type": "display_data"
    }
   ],
   "source": [
    "summary(modelo1)"
   ]
  },
  {
   "cell_type": "markdown",
   "metadata": {
    "deletable": true,
    "editable": true
   },
   "source": [
    "La siguiente gráfica coloca los datos y el modelo ajustado juntos:"
   ]
  },
  {
   "cell_type": "code",
   "execution_count": 6,
   "metadata": {
    "collapsed": false,
    "deletable": true,
    "editable": true
   },
   "outputs": [
    {
     "data": {
      "image/png": "[encoded data removed]",
      "text/plain": [
       "Plot with title “Regresión lineal simple”"
      ]
     },
     "metadata": {},
     "output_type": "display_data"
    }
   ],
   "source": [
    "plot(x, y, main = \"Regresión lineal simple\")\n",
    "abline(coef(modelo1), col = \"blue\")"
   ]
  },
  {
   "cell_type": "markdown",
   "metadata": {
    "deletable": true,
    "editable": true
   },
   "source": [
    "En el código anterior, suministramos directamente un vector numérico de dos elementos de los coeficientes estimados  de la regresión a `abline()`, por lo que dibuja la línea de regresión como se supone. \n",
    "\n",
    "Entonces, podemos llamar a `predict()`, para usar el modelo ajustado y hacer predicciones. Para predecir `y` con errores estándar, cuando `x =-1` e `x= 0.5`, podemos ejecutar el siguiente código:"
   ]
  },
  {
   "cell_type": "code",
   "execution_count": 7,
   "metadata": {
    "collapsed": false,
    "deletable": true,
    "editable": true
   },
   "outputs": [
    {
     "data": {
      "text/html": [
       "<dl>\n",
       "\t<dt>$fit</dt>\n",
       "\t\t<dd><dl class=dl-horizontal>\n",
       "\t<dt>1</dt>\n",
       "\t\t<dd>0.978048019586346</dd>\n",
       "\t<dt>2</dt>\n",
       "\t\t<dd>4.00060586068578</dd>\n",
       "</dl>\n",
       "</dd>\n",
       "\t<dt>$se.fit</dt>\n",
       "\t\t<dd><dl class=dl-horizontal>\n",
       "\t<dt>1</dt>\n",
       "\t\t<dd>0.0224695074849128</dd>\n",
       "\t<dt>2</dt>\n",
       "\t\t<dd>0.0171822624250547</dd>\n",
       "</dl>\n",
       "</dd>\n",
       "\t<dt>$df</dt>\n",
       "\t\t<dd>998</dd>\n",
       "\t<dt>$residual.scale</dt>\n",
       "\t\t<dd>0.491635620880741</dd>\n",
       "</dl>\n"
      ],
      "text/latex": [
       "\\begin{description}\n",
       "\\item[\\$fit] \\begin{description*}\n",
       "\\item[1] 0.978048019586346\n",
       "\\item[2] 4.00060586068578\n",
       "\\end{description*}\n",
       "\n",
       "\\item[\\$se.fit] \\begin{description*}\n",
       "\\item[1] 0.0224695074849128\n",
       "\\item[2] 0.0171822624250547\n",
       "\\end{description*}\n",
       "\n",
       "\\item[\\$df] 998\n",
       "\\item[\\$residual.scale] 0.491635620880741\n",
       "\\end{description}\n"
      ],
      "text/markdown": [
       "$fit\n",
       ":   1\n",
       ":   0.9780480195863462\n",
       ":   4.00060586068578\n",
       "\n",
       "\n",
       "$se.fit\n",
       ":   1\n",
       ":   0.02246950748491282\n",
       ":   0.0171822624250547\n",
       "\n",
       "\n",
       "$df\n",
       ":   998\n",
       "$residual.scale\n",
       ":   0.491635620880741\n",
       "\n",
       "\n"
      ],
      "text/plain": [
       "$fit\n",
       "       1        2 \n",
       "0.978048 4.000606 \n",
       "\n",
       "$se.fit\n",
       "         1          2 \n",
       "0.02246951 0.01718226 \n",
       "\n",
       "$df\n",
       "[1] 998\n",
       "\n",
       "$residual.scale\n",
       "[1] 0.4916356\n"
      ]
     },
     "metadata": {},
     "output_type": "display_data"
    }
   ],
   "source": [
    "predict(modelo1, list(x = c(-1, 0.5)), se.fit = TRUE)"
   ]
  },
  {
   "cell_type": "markdown",
   "metadata": {
    "deletable": true,
    "editable": true
   },
   "source": [
    "El resultado de la predicción es una lista de valores de `y` (`$ fit`), los errores estándar de los valores ajustados (`$ se.fit`), los grados de libertad (`$df`) y `$ residual.scale`."
   ]
  },
  {
   "cell_type": "markdown",
   "metadata": {
    "deletable": true,
    "editable": true
   },
   "source": [
    "Si tenemos el archivo  `Notas.txt`,  donde cada línea contiene los datos de un estudiante, que consisten en el promedio de prácticas,el examen final y el promedio de las tareas. Podría ser interesante ver qué tan bien las calificaciones de  las prácticas  y el promedio de las tareas,  predicen la calificación del estudiante en el examen final.\n",
    "\n",
    "Primero leemos  el archivo de datos:\n"
   ]
  },
  {
   "cell_type": "code",
   "execution_count": 8,
   "metadata": {
    "collapsed": true,
    "deletable": true,
    "editable": true
   },
   "outputs": [],
   "source": [
    "examenNotas <- read.table(\"Notas.txt\")"
   ]
  },
  {
   "cell_type": "markdown",
   "metadata": {
    "deletable": true,
    "editable": true
   },
   "source": [
    "Este archivo no incluye una línea de encabezado que nombre las variables en cada registro de estudiante, por lo que especificamos header = FALSE en la llamada a la función. Este es un ejemplo de  argumento predeterminado. En realidad, el valor por defecto del argumento `header` es `FALSE`  (lo que se puede comprobar consultando la ayuda en línea de R para `read.table()`), por lo que no necesitamos especificar esta configuración, pero es más claro si lo hacemos.\n",
    "\n",
    "Nuestros datos están ahora en `examenNotas`, que es un objeto `R` de clase `data.frame`."
   ]
  },
  {
   "cell_type": "code",
   "execution_count": 9,
   "metadata": {
    "collapsed": false,
    "deletable": true,
    "editable": true
   },
   "outputs": [
    {
     "data": {
      "text/html": [
       "'data.frame'"
      ],
      "text/latex": [
       "'data.frame'"
      ],
      "text/markdown": [
       "'data.frame'"
      ],
      "text/plain": [
       "[1] \"data.frame\""
      ]
     },
     "metadata": {},
     "output_type": "display_data"
    }
   ],
   "source": [
    "class(examenNotas)"
   ]
  },
  {
   "cell_type": "markdown",
   "metadata": {
    "deletable": true,
    "editable": true
   },
   "source": [
    "Sólo para comprobar que el archivo se ha leído correctamente, echemos un vistazo a las primeras filas:"
   ]
  },
  {
   "cell_type": "code",
   "execution_count": 10,
   "metadata": {
    "collapsed": false,
    "deletable": true,
    "editable": true
   },
   "outputs": [
    {
     "data": {
      "text/html": [
       "<table>\n",
       "<thead><tr><th scope=col>V1</th><th scope=col>V2</th><th scope=col>V3</th></tr></thead>\n",
       "<tbody>\n",
       "\t<tr><td>2.0</td><td>4.0</td><td>4  </td></tr>\n",
       "\t<tr><td>1.7</td><td>2.7</td><td>4  </td></tr>\n",
       "\t<tr><td>1.3</td><td>3.3</td><td>4  </td></tr>\n",
       "\t<tr><td>3.3</td><td>3.3</td><td>4  </td></tr>\n",
       "\t<tr><td>0.0</td><td>3.3</td><td>4  </td></tr>\n",
       "\t<tr><td>3.0</td><td>3.7</td><td>4  </td></tr>\n",
       "</tbody>\n",
       "</table>\n"
      ],
      "text/latex": [
       "\\begin{tabular}{r|lll}\n",
       " V1 & V2 & V3\\\\\n",
       "\\hline\n",
       "\t 2.0 & 4.0 & 4  \\\\\n",
       "\t 1.7 & 2.7 & 4  \\\\\n",
       "\t 1.3 & 3.3 & 4  \\\\\n",
       "\t 3.3 & 3.3 & 4  \\\\\n",
       "\t 0.0 & 3.3 & 4  \\\\\n",
       "\t 3.0 & 3.7 & 4  \\\\\n",
       "\\end{tabular}\n"
      ],
      "text/markdown": [
       "\n",
       "V1 | V2 | V3 | \n",
       "|---|---|---|---|---|---|\n",
       "| 2.0 | 4.0 | 4   | \n",
       "| 1.7 | 2.7 | 4   | \n",
       "| 1.3 | 3.3 | 4   | \n",
       "| 3.3 | 3.3 | 4   | \n",
       "| 0.0 | 3.3 | 4   | \n",
       "| 3.0 | 3.7 | 4   | \n",
       "\n",
       "\n"
      ],
      "text/plain": [
       "  V1  V2  V3\n",
       "1 2.0 4.0 4 \n",
       "2 1.7 2.7 4 \n",
       "3 1.3 3.3 4 \n",
       "4 3.3 3.3 4 \n",
       "5 0.0 3.3 4 \n",
       "6 3.0 3.7 4 "
      ]
     },
     "metadata": {},
     "output_type": "display_data"
    }
   ],
   "source": [
    "head(examenNotas)"
   ]
  },
  {
   "cell_type": "markdown",
   "metadata": {
    "deletable": true,
    "editable": true
   },
   "source": [
    "Al no tener un encabezado para los datos, `R` nombró las columnas `V1`, `V2` y `V3`. Los números de fila aparecen a la izquierda. Siempre es mejor tener un encabezado en nuestro archivo de datos, con nombres significativos como `Exam1` por ejemplo.\n",
    "\n",
    "Vamos a tratar de predecir la puntuación del `examen2` (dada en la segunda columna de `examenNotas`) desde el `examen1` (primera columna):\n",
    "\n",
    "```\n",
    "\n",
    "lma <- lm(examenNotas[,2] ~ examenNotas[,1])\n",
    "```\n"
   ]
  },
  {
   "cell_type": "code",
   "execution_count": 11,
   "metadata": {
    "collapsed": false,
    "deletable": true,
    "editable": true
   },
   "outputs": [],
   "source": [
    "help(lm)"
   ]
  },
  {
   "cell_type": "markdown",
   "metadata": {
    "deletable": true,
    "editable": true
   },
   "source": [
    "La función `lm()` (para  modelo lineal) indica a `R` que se ajuste a esta ecuación de predicción:  `examen2 = b0 + b1 examen1`\n",
    " \n",
    "\n",
    "Aquí, `b_0` y `b1` son constantes a estimar a partir de nuestros datos. En otras palabras, estamos ajustando una línea recta a los pares `(examen1, examen2)` en nuestros datos. Esto se hace a través de un método clásico de mínimos cuadrados. \n",
    "\n",
    "Ten en cuenta que las puntuaciones del `examen1`, que se almacenan en la primera columna de nuestro data frame, se denominan colectivamente `examenNotas[, 1]`. La omisión del primer subíndice (el número de fila) significa que nos estamos refiriendo a una columna entera del data frame. Las puntuaciones del `examen2` se referencia de manera similar. Así, nuestra llamada a `lm()` predice la segunda columna de `examenNotas` desde la primera."
   ]
  },
  {
   "cell_type": "code",
   "execution_count": 12,
   "metadata": {
    "collapsed": true,
    "deletable": true,
    "editable": true
   },
   "outputs": [],
   "source": [
    "lma <- lm(examenNotas$V2 ~ examenNotas$V1)"
   ]
  },
  {
   "cell_type": "markdown",
   "metadata": {
    "deletable": true,
    "editable": true
   },
   "source": [
    "Recordando que un data frame es sólo una lista cuyos elementos son vectores. Aquí, las columnas son los componentes `V1`, `V2` y `V3` de la lista.\n",
    "\n",
    "Los resultados devueltos por `lm()` están ahora en un objeto que hemos almacenado en la variable `lma`. Es una instancia  de la clase `lm`. Podemos enumerar sus componentes con la función `attributes()`:"
   ]
  },
  {
   "cell_type": "code",
   "execution_count": 13,
   "metadata": {
    "collapsed": false,
    "deletable": true,
    "editable": true
   },
   "outputs": [
    {
     "data": {
      "text/html": [
       "<dl>\n",
       "\t<dt>$names</dt>\n",
       "\t\t<dd><ol class=list-inline>\n",
       "\t<li>'coefficients'</li>\n",
       "\t<li>'residuals'</li>\n",
       "\t<li>'effects'</li>\n",
       "\t<li>'rank'</li>\n",
       "\t<li>'fitted.values'</li>\n",
       "\t<li>'assign'</li>\n",
       "\t<li>'qr'</li>\n",
       "\t<li>'df.residual'</li>\n",
       "\t<li>'xlevels'</li>\n",
       "\t<li>'call'</li>\n",
       "\t<li>'terms'</li>\n",
       "\t<li>'model'</li>\n",
       "</ol>\n",
       "</dd>\n",
       "\t<dt>$class</dt>\n",
       "\t\t<dd>'lm'</dd>\n",
       "</dl>\n"
      ],
      "text/latex": [
       "\\begin{description}\n",
       "\\item[\\$names] \\begin{enumerate*}\n",
       "\\item 'coefficients'\n",
       "\\item 'residuals'\n",
       "\\item 'effects'\n",
       "\\item 'rank'\n",
       "\\item 'fitted.values'\n",
       "\\item 'assign'\n",
       "\\item 'qr'\n",
       "\\item 'df.residual'\n",
       "\\item 'xlevels'\n",
       "\\item 'call'\n",
       "\\item 'terms'\n",
       "\\item 'model'\n",
       "\\end{enumerate*}\n",
       "\n",
       "\\item[\\$class] 'lm'\n",
       "\\end{description}\n"
      ],
      "text/markdown": [
       "$names\n",
       ":   1. 'coefficients'\n",
       "2. 'residuals'\n",
       "3. 'effects'\n",
       "4. 'rank'\n",
       "5. 'fitted.values'\n",
       "6. 'assign'\n",
       "7. 'qr'\n",
       "8. 'df.residual'\n",
       "9. 'xlevels'\n",
       "10. 'call'\n",
       "11. 'terms'\n",
       "12. 'model'\n",
       "\n",
       "\n",
       "\n",
       "$class\n",
       ":   'lm'\n",
       "\n",
       "\n"
      ],
      "text/plain": [
       "$names\n",
       " [1] \"coefficients\"  \"residuals\"     \"effects\"       \"rank\"         \n",
       " [5] \"fitted.values\" \"assign\"        \"qr\"            \"df.residual\"  \n",
       " [9] \"xlevels\"       \"call\"          \"terms\"         \"model\"        \n",
       "\n",
       "$class\n",
       "[1] \"lm\"\n"
      ]
     },
     "metadata": {},
     "output_type": "display_data"
    }
   ],
   "source": [
    "attributes(lma)"
   ]
  },
  {
   "cell_type": "markdown",
   "metadata": {
    "deletable": true,
    "editable": true
   },
   "source": [
    "Como de costumbre, se puede obtener una descripción más detallada a través de la llamada a `str(lma)`. Los valores estimados de `b0` y `b1`, se almacenan en `lma$coefficients`. \n"
   ]
  },
  {
   "cell_type": "code",
   "execution_count": 14,
   "metadata": {
    "collapsed": false,
    "deletable": true,
    "editable": true
   },
   "outputs": [
    {
     "name": "stdout",
     "output_type": "stream",
     "text": [
      "List of 12\n",
      " $ coefficients : Named num [1:2] 3.088 0.158\n",
      "  ..- attr(*, \"names\")= chr [1:2] \"(Intercept)\" \"examenNotas$V1\"\n",
      " $ residuals    : Named num [1:33] 0.59529 -0.65723 0.00607 -0.31046 0.21182 ...\n",
      "  ..- attr(*, \"names\")= chr [1:33] \"1\" \"2\" \"3\" \"4\" ...\n",
      " $ effects      : Named num [1:33] -20.1234 1.2975 0.0193 -0.4624 0.3324 ...\n",
      "  ..- attr(*, \"names\")= chr [1:33] \"(Intercept)\" \"examenNotas$V1\" \"\" \"\" ...\n",
      " $ rank         : int 2\n",
      " $ fitted.values: Named num [1:33] 3.4 3.36 3.29 3.61 3.09 ...\n",
      "  ..- attr(*, \"names\")= chr [1:33] \"1\" \"2\" \"3\" \"4\" ...\n",
      " $ assign       : int [1:2] 0 1\n",
      " $ qr           :List of 5\n",
      "  ..$ qr   : num [1:33, 1:2] -5.745 0.174 0.174 0.174 0.174 ...\n",
      "  .. ..- attr(*, \"dimnames\")=List of 2\n",
      "  .. .. ..$ : chr [1:33] \"1\" \"2\" \"3\" \"4\" ...\n",
      "  .. .. ..$ : chr [1:2] \"(Intercept)\" \"examenNotas$V1\"\n",
      "  .. ..- attr(*, \"assign\")= int [1:2] 0 1\n",
      "  ..$ qraux: num [1:2] 1.17 1.1\n",
      "  ..$ pivot: int [1:2] 1 2\n",
      "  ..$ tol  : num 1e-07\n",
      "  ..$ rank : int 2\n",
      "  ..- attr(*, \"class\")= chr \"qr\"\n",
      " $ df.residual  : int 31\n",
      " $ xlevels      : Named list()\n",
      " $ call         : language lm(formula = examenNotas$V2 ~ examenNotas$V1)\n",
      " $ terms        :Classes 'terms', 'formula'  language examenNotas$V2 ~ examenNotas$V1\n",
      "  .. ..- attr(*, \"variables\")= language list(examenNotas$V2, examenNotas$V1)\n",
      "  .. ..- attr(*, \"factors\")= int [1:2, 1] 0 1\n",
      "  .. .. ..- attr(*, \"dimnames\")=List of 2\n",
      "  .. .. .. ..$ : chr [1:2] \"examenNotas$V2\" \"examenNotas$V1\"\n",
      "  .. .. .. ..$ : chr \"examenNotas$V1\"\n",
      "  .. ..- attr(*, \"term.labels\")= chr \"examenNotas$V1\"\n",
      "  .. ..- attr(*, \"order\")= int 1\n",
      "  .. ..- attr(*, \"intercept\")= int 1\n",
      "  .. ..- attr(*, \"response\")= int 1\n",
      "  .. ..- attr(*, \".Environment\")=<environment: R_GlobalEnv> \n",
      "  .. ..- attr(*, \"predvars\")= language list(examenNotas$V2, examenNotas$V1)\n",
      "  .. ..- attr(*, \"dataClasses\")= Named chr [1:2] \"numeric\" \"numeric\"\n",
      "  .. .. ..- attr(*, \"names\")= chr [1:2] \"examenNotas$V2\" \"examenNotas$V1\"\n",
      " $ model        :'data.frame':\t33 obs. of  2 variables:\n",
      "  ..$ examenNotas$V2: num [1:33] 4 2.7 3.3 3.3 3.3 3.7 3.3 3.7 3.3 2.7 ...\n",
      "  ..$ examenNotas$V1: num [1:33] 2 1.7 1.3 3.3 0 3 1.3 1 0 3 ...\n",
      "  ..- attr(*, \"terms\")=Classes 'terms', 'formula'  language examenNotas$V2 ~ examenNotas$V1\n",
      "  .. .. ..- attr(*, \"variables\")= language list(examenNotas$V2, examenNotas$V1)\n",
      "  .. .. ..- attr(*, \"factors\")= int [1:2, 1] 0 1\n",
      "  .. .. .. ..- attr(*, \"dimnames\")=List of 2\n",
      "  .. .. .. .. ..$ : chr [1:2] \"examenNotas$V2\" \"examenNotas$V1\"\n",
      "  .. .. .. .. ..$ : chr \"examenNotas$V1\"\n",
      "  .. .. ..- attr(*, \"term.labels\")= chr \"examenNotas$V1\"\n",
      "  .. .. ..- attr(*, \"order\")= int 1\n",
      "  .. .. ..- attr(*, \"intercept\")= int 1\n",
      "  .. .. ..- attr(*, \"response\")= int 1\n",
      "  .. .. ..- attr(*, \".Environment\")=<environment: R_GlobalEnv> \n",
      "  .. .. ..- attr(*, \"predvars\")= language list(examenNotas$V2, examenNotas$V1)\n",
      "  .. .. ..- attr(*, \"dataClasses\")= Named chr [1:2] \"numeric\" \"numeric\"\n",
      "  .. .. .. ..- attr(*, \"names\")= chr [1:2] \"examenNotas$V2\" \"examenNotas$V1\"\n",
      " - attr(*, \"class\")= chr \"lm\"\n"
     ]
    }
   ],
   "source": [
    "str(lma)"
   ]
  },
  {
   "cell_type": "markdown",
   "metadata": {
    "deletable": true,
    "editable": true
   },
   "source": [
    "También puede guardar un poco de escritura abreviando los nombres de los componentes, siempre y cuando no acorte el nombre de un componente hasta el punto de ser ambiguo. Por ejemplo, si una lista consiste de los componentes `xyz`, `xywa` y `xbcde`, entonces el segundo y tercer componentes se pueden abreviarse a `xyw` y `xb` respectivamente. Así que aquí podríamos escribir lo siguiente:"
   ]
  },
  {
   "cell_type": "code",
   "execution_count": 15,
   "metadata": {
    "collapsed": false,
    "deletable": true,
    "editable": true
   },
   "outputs": [
    {
     "data": {
      "text/html": [
       "<dl class=dl-horizontal>\n",
       "\t<dt>(Intercept)</dt>\n",
       "\t\t<dd>3.0881813263604</dd>\n",
       "\t<dt>examenNotas$V1</dt>\n",
       "\t\t<dd>0.15826608358505</dd>\n",
       "</dl>\n"
      ],
      "text/latex": [
       "\\begin{description*}\n",
       "\\item[(Intercept)] 3.0881813263604\n",
       "\\item[examenNotas\\textbackslash{}\\$V1] 0.15826608358505\n",
       "\\end{description*}\n"
      ],
      "text/markdown": [
       "(Intercept)\n",
       ":   3.0881813263604examenNotas$V1\n",
       ":   0.15826608358505\n",
       "\n"
      ],
      "text/plain": [
       "   (Intercept) examenNotas$V1 \n",
       "     3.0881813      0.1582661 "
      ]
     },
     "metadata": {},
     "output_type": "display_data"
    }
   ],
   "source": [
    "lma$coef"
   ]
  },
  {
   "cell_type": "markdown",
   "metadata": {
    "deletable": true,
    "editable": true
   },
   "source": [
    "Dado que `lma$coeffients` es un vector, el resultado es simple. Pero veamos que sucede cuando se muestra el objeto `lma` propiamente dicho:"
   ]
  },
  {
   "cell_type": "code",
   "execution_count": 16,
   "metadata": {
    "collapsed": false,
    "deletable": true,
    "editable": true
   },
   "outputs": [
    {
     "data": {
      "text/plain": [
       "\n",
       "Call:\n",
       "lm(formula = examenNotas$V2 ~ examenNotas$V1)\n",
       "\n",
       "Coefficients:\n",
       "   (Intercept)  examenNotas$V1  \n",
       "        3.0882          0.1583  \n"
      ]
     },
     "metadata": {},
     "output_type": "display_data"
    }
   ],
   "source": [
    "lma"
   ]
  },
  {
   "cell_type": "markdown",
   "metadata": {
    "deletable": true,
    "editable": true
   },
   "source": [
    "¿Por qué `R` imprimió sólo estos elementos y no los otros componentes de lma?- La respuesta es que aquí `R` está utilizando la función `print()`, que es otro ejemplo de **funciones genéricas**. Como una función genérica, `print()` realmente deja el trabajo a otra función cuyo trabajo es imprimir objetos de clase `lm`, la función `print.lm()` y esto es lo que muestra esa función.\n",
    "\n",
    "\n",
    "Podemos obtener una descripción más detallada del contenido de `lma` llamando a `summary()`, una  función genérica que realiza una llamada  a `summary.lm()`  detrás de escenas, para obtener  un resumen específico de `lma`:"
   ]
  },
  {
   "cell_type": "code",
   "execution_count": 17,
   "metadata": {
    "collapsed": false,
    "deletable": true,
    "editable": true
   },
   "outputs": [
    {
     "data": {
      "text/plain": [
       "\n",
       "Call:\n",
       "lm(formula = examenNotas$V2 ~ examenNotas$V1)\n",
       "\n",
       "Residuals:\n",
       "     Min       1Q   Median       3Q      Max \n",
       "-2.08818 -0.26298  0.05355  0.27875  0.91182 \n",
       "\n",
       "Coefficients:\n",
       "               Estimate Std. Error t value Pr(>|t|)    \n",
       "(Intercept)     3.08818    0.19773  15.618 3.06e-16 ***\n",
       "examenNotas$V1  0.15827    0.06625   2.389   0.0232 *  \n",
       "---\n",
       "Signif. codes:  0 ‘***’ 0.001 ‘**’ 0.01 ‘*’ 0.05 ‘.’ 0.1 ‘ ’ 1\n",
       "\n",
       "Residual standard error: 0.5432 on 31 degrees of freedom\n",
       "Multiple R-squared:  0.1555,\tAdjusted R-squared:  0.1282 \n",
       "F-statistic: 5.706 on 1 and 31 DF,  p-value: 0.02317\n"
      ]
     },
     "metadata": {},
     "output_type": "display_data"
    }
   ],
   "source": [
    "summary(lma)"
   ]
  },
  {
   "cell_type": "markdown",
   "metadata": {
    "deletable": true,
    "editable": true
   },
   "source": [
    "Para estimar una ecuación que predice, el `examen2` del `examen1` y el `examen3`, usaríamos la notación `+`:"
   ]
  },
  {
   "cell_type": "code",
   "execution_count": 18,
   "metadata": {
    "collapsed": true,
    "deletable": true,
    "editable": true
   },
   "outputs": [],
   "source": [
    "lmb <- lm(examenNotas[,2] ~ examenNotas[,1] + examenNotas[,3])"
   ]
  },
  {
   "cell_type": "markdown",
   "metadata": {
    "deletable": true,
    "editable": true
   },
   "source": [
    "Tenga en cuenta que el símbolo `+` no significa que calculamos la suma de las dos cantidades. Es simplemente un delimitador en nuestra lista de variables predictoras."
   ]
  },
  {
   "cell_type": "markdown",
   "metadata": {
    "deletable": true,
    "editable": true
   },
   "source": [
    "En los siguientes ejemplos, tratemos de predecir el tiempo en el aire de un vuelo utilizando modelos lineales de diferente complejidad. La variable más obvia que debe ser útil para predecir el tiempo en el aaire aire es la distancia.\n",
    "\n",
    "Primero, cargamos el conjunto de datos y hacemos un diagrama de dispersión de la distancia y el tiempo en el aire. Utilizamos `pch = \".\"`,  para hacer cada punto muy pequeño, ya que el número de registros en el conjunto de datos es grande:"
   ]
  },
  {
   "cell_type": "code",
   "execution_count": 19,
   "metadata": {
    "collapsed": true,
    "deletable": true,
    "editable": true
   },
   "outputs": [],
   "source": [
    "#install.packages(\"nycflights13\", repos = \"http://cran.us.r-project.org\")\n",
    "\n",
    "data(\"flights\", package = \"nycflights13\")"
   ]
  },
  {
   "cell_type": "markdown",
   "metadata": {
    "deletable": true,
    "editable": true
   },
   "source": [
    "Antes de verter todo el conjunto de datos en un modelo lineal, dividimos el conjunto de datos en dos partes: un conjunto de entrenamiento y un conjunto de pruebas. El propósito de dividir el conjunto de datos es que queremos realizar no sólo una  evaluación muestral, sino también la evaluación del modelo  fuera de la muestra. Más específicamente, colocamos el `75%` de los datos en el conjunto de entrenamiento y el restante `25%` de los datos en el conjunto de pruebas. En el código siguiente, usamos `sample()` para tener  una muestra aleatoria de `75%` de los registros de los datos originales y usamos `setdiff()` para obtener el resto de los registros:"
   ]
  },
  {
   "cell_type": "code",
   "execution_count": 20,
   "metadata": {
    "collapsed": true,
    "deletable": true,
    "editable": true
   },
   "outputs": [],
   "source": [
    "filas <- nrow(flights)\n",
    "id_filas <- 1:filas\n",
    "id_muestras <- sample(id_filas, filas * 0.75, replace = FALSE)\n",
    "entrenamiento_vuelos <- flights[id_muestras,]\n",
    "pruebas_vuelos <- flights[setdiff(id_filas, id_muestras), ]"
   ]
  },
  {
   "cell_type": "code",
   "execution_count": 21,
   "metadata": {
    "collapsed": false,
    "deletable": true,
    "editable": true
   },
   "outputs": [],
   "source": [
    "help(setdiff)"
   ]
  },
  {
   "cell_type": "markdown",
   "metadata": {
    "deletable": true,
    "editable": true
   },
   "source": [
    "se debe tener en cuenta que `setdiff(id_filas, id_muestras)` devuelve los índices en `id_filas` pero no en `id_muestras`.\n",
    "\n",
    "Ahora `entrenamiento_vuelos` es el conjunto de entrenamiento y `pruebas_vuelos` es el conjunto de pruebas. Con los conjuntos de datos divididos, el procedimiento de ajuste del modelo y la evaluación del modelo es sencillo.\n",
    "\n",
    "Primero, usamos el conjunto de entrenamiento para ajustarlo al modelo, luego hacemos una predicción en la muestra para ver la magnitud de los errores en la muestra:"
   ]
  },
  {
   "cell_type": "code",
   "execution_count": 22,
   "metadata": {
    "collapsed": true,
    "deletable": true,
    "editable": true
   },
   "outputs": [],
   "source": [
    "modelo2 <- lm(air_time ~ distance, data = entrenamiento_vuelos)\n",
    "entrenamiento_prediccion2 <- predict(modelo2, entrenamiento_vuelos)\n",
    "entrenamiento_error2 <- entrenamiento_vuelos$air_time - entrenamiento_prediccion2"
   ]
  },
  {
   "cell_type": "markdown",
   "metadata": {
    "deletable": true,
    "editable": true
   },
   "source": [
    "Para evaluar la magnitud de los errores, definimos una función denominada `error_evaluacion()` para calcular la media de los  errores absolutos y la desviación estándar de los errores:"
   ]
  },
  {
   "cell_type": "code",
   "execution_count": 23,
   "metadata": {
    "collapsed": true,
    "deletable": true,
    "editable": true
   },
   "outputs": [],
   "source": [
    "error_evaluacion <- function(x) {\n",
    "    c(abs_err = mean(abs(x), na.rm = TRUE),\n",
    "      std_dev = sd(x, na.rm = TRUE))\n",
    "}"
   ]
  },
  {
   "cell_type": "markdown",
   "metadata": {
    "deletable": true,
    "editable": true
   },
   "source": [
    "Usando esta función, podemos evaluar los errores de las predicciones muestrales del `modelo2`:"
   ]
  },
  {
   "cell_type": "code",
   "execution_count": 24,
   "metadata": {
    "collapsed": false,
    "deletable": true,
    "editable": true
   },
   "outputs": [
    {
     "data": {
      "text/html": [
       "<dl class=dl-horizontal>\n",
       "\t<dt>abs_err</dt>\n",
       "\t\t<dd>9.42506576615583</dd>\n",
       "\t<dt>std_dev</dt>\n",
       "\t\t<dd>12.7762913802574</dd>\n",
       "</dl>\n"
      ],
      "text/latex": [
       "\\begin{description*}\n",
       "\\item[abs\\textbackslash{}\\_err] 9.42506576615583\n",
       "\\item[std\\textbackslash{}\\_dev] 12.7762913802574\n",
       "\\end{description*}\n"
      ],
      "text/markdown": [
       "abs_err\n",
       ":   9.42506576615583std_dev\n",
       ":   12.7762913802574\n",
       "\n"
      ],
      "text/plain": [
       "  abs_err   std_dev \n",
       " 9.425066 12.776291 "
      ]
     },
     "metadata": {},
     "output_type": "display_data"
    }
   ],
   "source": [
    "error_evaluacion(entrenamiento_error2)"
   ]
  },
  {
   "cell_type": "markdown",
   "metadata": {
    "deletable": true,
    "editable": true
   },
   "source": [
    "Los errores medios absolutos indican que en promedio la predicción se desvía del valor correcto en aproximadamente `9.42`  minutos, en valor absoluto y tienen una desviación estándar de `12.8` minutos.\n",
    "\n",
    "A continuación, realizamos una evaluación simple fuera de la muestra utilizando el modelo para predecir con el conjunto de pruebas:"
   ]
  },
  {
   "cell_type": "code",
   "execution_count": 25,
   "metadata": {
    "collapsed": false,
    "deletable": true,
    "editable": true
   },
   "outputs": [
    {
     "data": {
      "text/html": [
       "<dl class=dl-horizontal>\n",
       "\t<dt>abs_err</dt>\n",
       "\t\t<dd>9.44417159258301</dd>\n",
       "\t<dt>std_dev</dt>\n",
       "\t\t<dd>12.7988844871203</dd>\n",
       "</dl>\n"
      ],
      "text/latex": [
       "\\begin{description*}\n",
       "\\item[abs\\textbackslash{}\\_err] 9.44417159258301\n",
       "\\item[std\\textbackslash{}\\_dev] 12.7988844871203\n",
       "\\end{description*}\n"
      ],
      "text/markdown": [
       "abs_err\n",
       ":   9.44417159258301std_dev\n",
       ":   12.7988844871203\n",
       "\n"
      ],
      "text/plain": [
       "  abs_err   std_dev \n",
       " 9.444172 12.798884 "
      ]
     },
     "metadata": {},
     "output_type": "display_data"
    }
   ],
   "source": [
    "prueba_prediccion2<- predict (modelo2, pruebas_vuelos)\n",
    "prueba_error2 <- pruebas_vuelos$air_time - prueba_prediccion2\n",
    "error_evaluacion(prueba_error2)"
   ]
  },
  {
   "cell_type": "markdown",
   "metadata": {
    "deletable": true,
    "editable": true
   },
   "source": [
    "La predicción resulta en un vector numérico de valores predichos. Tanto los errores  absolutos, como la desviación estándar de los errores aumentan ligeramente, lo que sugiere que la calidad de la predicción fuera de la muestra no empeora significativamente, lo que indica que el `modelo2` no parece ser el resultado de un  sobreajuste."
   ]
  },
  {
   "cell_type": "markdown",
   "metadata": {
    "collapsed": true,
    "deletable": true,
    "editable": true
   },
   "source": [
    "Dado que `modelo2` tiene sólo un regresor,`distance`, es natural considerar si más Los regresores mejorarían la predicción. El siguiente código se ajusta a un nuevo modelo lineal con no sólo `distancia` pero también con `carrier`, `month` y hora de salida (`dep_time`) como regresores:"
   ]
  },
  {
   "cell_type": "code",
   "execution_count": 26,
   "metadata": {
    "collapsed": false,
    "deletable": true,
    "editable": true
   },
   "outputs": [
    {
     "data": {
      "text/html": [
       "<dl class=dl-horizontal>\n",
       "\t<dt>abs_err</dt>\n",
       "\t\t<dd>9.32236485478698</dd>\n",
       "\t<dt>std_dev</dt>\n",
       "\t\t<dd>12.635549745458</dd>\n",
       "</dl>\n"
      ],
      "text/latex": [
       "\\begin{description*}\n",
       "\\item[abs\\textbackslash{}\\_err] 9.32236485478698\n",
       "\\item[std\\textbackslash{}\\_dev] 12.635549745458\n",
       "\\end{description*}\n"
      ],
      "text/markdown": [
       "abs_err\n",
       ":   9.32236485478698std_dev\n",
       ":   12.635549745458\n",
       "\n"
      ],
      "text/plain": [
       "  abs_err   std_dev \n",
       " 9.322365 12.635550 "
      ]
     },
     "metadata": {},
     "output_type": "display_data"
    }
   ],
   "source": [
    "modelo3 <- lm(air_time ~ carrier + distance + month + dep_time, data = entrenamiento_vuelos)\n",
    "entrenamiento_prediccion3 <- predict(modelo3, entrenamiento_vuelos)\n",
    "entrenamiento_error3 <- entrenamiento_vuelos$air_time - entrenamiento_prediccion3\n",
    "error_evaluacion(entrenamiento_error3)"
   ]
  },
  {
   "cell_type": "markdown",
   "metadata": {
    "deletable": true,
    "editable": true
   },
   "source": [
    "Los errores en la muestra son ligeramente más bajos tanto en magnitud como en variación:"
   ]
  },
  {
   "cell_type": "code",
   "execution_count": 27,
   "metadata": {
    "collapsed": false,
    "deletable": true,
    "editable": true
   },
   "outputs": [
    {
     "data": {
      "text/html": [
       "<dl class=dl-horizontal>\n",
       "\t<dt>abs_err</dt>\n",
       "\t\t<dd>9.3538850690234</dd>\n",
       "\t<dt>std_dev</dt>\n",
       "\t\t<dd>12.675604034001</dd>\n",
       "</dl>\n"
      ],
      "text/latex": [
       "\\begin{description*}\n",
       "\\item[abs\\textbackslash{}\\_err] 9.3538850690234\n",
       "\\item[std\\textbackslash{}\\_dev] 12.675604034001\n",
       "\\end{description*}\n"
      ],
      "text/markdown": [
       "abs_err\n",
       ":   9.3538850690234std_dev\n",
       ":   12.675604034001\n",
       "\n"
      ],
      "text/plain": [
       "  abs_err   std_dev \n",
       " 9.353885 12.675604 "
      ]
     },
     "metadata": {},
     "output_type": "display_data"
    }
   ],
   "source": [
    "prueba_prediccion3<- predict(modelo3, pruebas_vuelos)\n",
    "prueba_error3 <- pruebas_vuelos$air_time - prueba_prediccion3\n",
    "error_evaluacion(prueba_error3)"
   ]
  },
  {
   "cell_type": "markdown",
   "metadata": {
    "deletable": true,
    "editable": true
   },
   "source": [
    "También , los errores fuera de la muestra se ven ligeramente mejor que el `modelo2`. Para comparar la distribución de errores fuera de la muestra antes y después de añadir nuevos regresores al modelo lineal, superponemos las dos curvas de densidad:"
   ]
  },
  {
   "cell_type": "code",
   "execution_count": 28,
   "metadata": {
    "collapsed": false,
    "deletable": true,
    "editable": true
   },
   "outputs": [
    {
     "data": {
      "image/png": "[encoded data removed]",
      "text/plain": [
       "Plot with title “Distribuciones empíricas de errores fuera de la muestra ”"
      ]
     },
     "metadata": {},
     "output_type": "display_data"
    }
   ],
   "source": [
    "plot(density(prueba_error2, na.rm = TRUE), main = \"Distribuciones empíricas de errores fuera de la muestra \")\n",
    "lines(density(prueba_error3, na.rm = TRUE), lty = 2)\n",
    "legend(\"topright\", legend = c(\"modelo2\", \"modelo3\"),lty = c(1, 2), cex = 0.8,\n",
    "       x.intersp = 0.6, y.intersp = 0.6)"
   ]
  },
  {
   "cell_type": "markdown",
   "metadata": {
    "deletable": true,
    "editable": true
   },
   "source": [
    "### Lecturas\n",
    "\n",
    "* [CRAN Task View: Machine Learning & Statistical Learning](https://cran.r-project.org/web/views/MachineLearning.html)."
   ]
  },
  {
   "cell_type": "code",
   "execution_count": null,
   "metadata": {
    "collapsed": true,
    "deletable": true,
    "editable": true
   },
   "outputs": [],
   "source": []
  }
 ],
 "metadata": {
  "kernelspec": {
   "display_name": "R",
   "language": "R",
   "name": "ir"
  },
  "language_info": {
   "codemirror_mode": "r",
   "file_extension": ".r",
   "mimetype": "text/x-r-source",
   "name": "R",
   "pygments_lexer": "r",
   "version": "3.3.2"
  }
 },
 "nbformat": 4,
 "nbformat_minor": 2
}
