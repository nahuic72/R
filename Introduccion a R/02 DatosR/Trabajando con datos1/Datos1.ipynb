{
 "cells": [
  {
   "cell_type": "markdown",
   "metadata": {},
   "source": [
    "# Trabajando con datos \n",
    "\n",
    "Todo  trabajo especialmente estadístico o de manejo de información comienza con los datos y la mayoría de los datos se encuentran  en archivos y bases de datos. Tratar con `inputs(entradas)` es, probablemente, el primer paso de todo cualquier  proyecto relacionado con el análisis de datos y que  termina con un reporte dado a quien lo solicite. El formateo y las `outputs(salidas)` es probablemente el punto culminante de todo trabajo relacionado con datos. \n",
    "\n",
    "R presenta una serie de  funciones para la entrada de datos  como `read.csv` para leer archivos CSV y `read.table` para leer complicados datos tabulares, además de  `cat,print y format` para producir informes sencillos.\n",
    "\n"
   ]
  },
  {
   "cell_type": "markdown",
   "metadata": {},
   "source": [
    "### Ingresando datos desde el teclado y monitor\n",
    "\n",
    "R proporciona varias funciones para acceder al teclado y monitor. Por ejemplo  `scan(), readline(), print()` y `cat()`. Para ingresar pequeños datos ingresamo los datos con la función `c()` o creando un data frame con `data.frame`, usando un editor de R.\n",
    "\n",
    "```\n",
    "df <- data.frame()\n",
    "df <-edit(df)\n",
    "```"
   ]
  },
  {
   "cell_type": "code",
   "execution_count": 1,
   "metadata": {},
   "outputs": [
    {
     "data": {
      "text/html": [
       "<ol class=list-inline>\n",
       "\t<li>61</li>\n",
       "\t<li>66</li>\n",
       "\t<li>90</li>\n",
       "\t<li>88</li>\n",
       "\t<li>100</li>\n",
       "</ol>\n"
      ],
      "text/latex": [
       "\\begin{enumerate*}\n",
       "\\item 61\n",
       "\\item 66\n",
       "\\item 90\n",
       "\\item 88\n",
       "\\item 100\n",
       "\\end{enumerate*}\n"
      ],
      "text/markdown": [
       "1. 61\n",
       "2. 66\n",
       "3. 90\n",
       "4. 88\n",
       "5. 100\n",
       "\n",
       "\n"
      ],
      "text/plain": [
       "[1]  61  66  90  88 100"
      ]
     },
     "metadata": {},
     "output_type": "display_data"
    },
    {
     "data": {
      "text/html": [
       "<table>\n",
       "<caption>A data.frame: 3 × 3</caption>\n",
       "<thead>\n",
       "\t<tr><th scope=col>PL</th><th scope=col>l1</th><th scope=col>l2</th></tr>\n",
       "\t<tr><th scope=col>&lt;fct&gt;</th><th scope=col>&lt;dbl&gt;</th><th scope=col>&lt;dbl&gt;</th></tr>\n",
       "</thead>\n",
       "<tbody>\n",
       "\t<tr><td>M</td><td>0.00</td><td>0.674</td></tr>\n",
       "\t<tr><td>C</td><td>0.67</td><td>1.640</td></tr>\n",
       "\t<tr><td>E</td><td>1.64</td><td>2.330</td></tr>\n",
       "</tbody>\n",
       "</table>\n"
      ],
      "text/latex": [
       "A data.frame: 3 × 3\n",
       "\\begin{tabular}{r|lll}\n",
       " PL & l1 & l2\\\\\n",
       " <fct> & <dbl> & <dbl>\\\\\n",
       "\\hline\n",
       "\t M & 0.00 & 0.674\\\\\n",
       "\t C & 0.67 & 1.640\\\\\n",
       "\t E & 1.64 & 2.330\\\\\n",
       "\\end{tabular}\n"
      ],
      "text/markdown": [
       "\n",
       "A data.frame: 3 × 3\n",
       "\n",
       "| PL &lt;fct&gt; | l1 &lt;dbl&gt; | l2 &lt;dbl&gt; |\n",
       "|---|---|---|\n",
       "| M | 0.00 | 0.674 |\n",
       "| C | 0.67 | 1.640 |\n",
       "| E | 1.64 | 2.330 |\n",
       "\n"
      ],
      "text/plain": [
       "  PL l1   l2   \n",
       "1 M  0.00 0.674\n",
       "2 C  0.67 1.640\n",
       "3 E  1.64 2.330"
      ]
     },
     "metadata": {},
     "output_type": "display_data"
    }
   ],
   "source": [
    "v1 <- c(61, 66, 90, 88, 100)\n",
    "df <- data.frame(\n",
    "                 PL=c(\"M\", \"C\", \"E\"),\n",
    "                 l1=c(    0, 0.67,   1.64),\n",
    "                 l2=c(0.674, 1.64,   2.33)  )\n",
    "v1\n",
    "df"
   ]
  },
  {
   "cell_type": "code",
   "execution_count": 2,
   "metadata": {},
   "outputs": [],
   "source": [
    "help(print)"
   ]
  },
  {
   "cell_type": "code",
   "execution_count": 3,
   "metadata": {},
   "outputs": [
    {
     "data": {
      "text/html": [
       "3.14159265358979"
      ],
      "text/latex": [
       "3.14159265358979"
      ],
      "text/markdown": [
       "3.14159265358979"
      ],
      "text/plain": [
       "[1] 3.141593"
      ]
     },
     "metadata": {},
     "output_type": "display_data"
    },
    {
     "data": {
      "text/html": [
       "235.619449019234"
      ],
      "text/latex": [
       "235.619449019234"
      ],
      "text/markdown": [
       "235.619449019234"
      ],
      "text/plain": [
       "[1] 235.6194"
      ]
     },
     "metadata": {},
     "output_type": "display_data"
    },
    {
     "name": "stdout",
     "output_type": "stream",
     "text": [
      "[1] 3.142\n",
      "[1] 314.2\n"
     ]
    }
   ],
   "source": [
    "# Para la funcion print(), digits controla el numero de digitos impresos.\n",
    "pi\n",
    "75 * pi\n",
    "print(pi, digits=4)\n",
    "print(100*pi, digits=4)"
   ]
  },
  {
   "cell_type": "code",
   "execution_count": 4,
   "metadata": {
    "collapsed": true
   },
   "outputs": [],
   "source": [
    "help(cat)"
   ]
  },
  {
   "cell_type": "code",
   "execution_count": 5,
   "metadata": {},
   "outputs": [
    {
     "name": "stdout",
     "output_type": "stream",
     "text": [
      "3.141593 \n",
      "3.1416 \n"
     ]
    }
   ],
   "source": [
    "# Cat usa la funcion format(), que tiene el parametro  digits para alterar el formato de los numeros\n",
    "\n",
    "cat(pi, \"\\n\")\n",
    "cat(format(pi, digits=5),\"\\n\")"
   ]
  },
  {
   "cell_type": "code",
   "execution_count": 6,
   "metadata": {},
   "outputs": [
    {
     "name": "stdout",
     "output_type": "stream",
     "text": [
      "incremento del numero!\n"
     ]
    }
   ],
   "source": [
    "# Ejemplos de la función cat()\n",
    "\n",
    "x = 0.1\n",
    "if( x < 0.2)\n",
    "  {\n",
    "     x <- x + 1\n",
    "     cat(\"incremento del numero!\\n\")\n",
    "  }"
   ]
  },
  {
   "cell_type": "code",
   "execution_count": 7,
   "metadata": {},
   "outputs": [
    {
     "name": "stdout",
     "output_type": "stream",
     "text": [
      "Yo conozco :  python \n",
      "Yo conozco :  R \n",
      "Yo conozco :  C \n",
      "Yo conozco :  Html5 \n",
      "Yo conozco :  C++ \n",
      "Yo conozco :  JS \n"
     ]
    }
   ],
   "source": [
    "# Otro ejemplo con el bucle for\n",
    "\n",
    "x <- c(\"python\",\"R\",\"C\",\"Html5\",\"C++\", \"JS\")\n",
    "for (len  in x)\n",
    " {\n",
    "    cat(\"Yo conozco : \",len,\"\\n\");\n",
    " }"
   ]
  },
  {
   "cell_type": "code",
   "execution_count": 8,
   "metadata": {},
   "outputs": [
    {
     "name": "stdout",
     "output_type": "stream",
     "text": [
      "Probando este valor  0.5590921  ( 1  tiempo en el bucle)\n",
      "Probando este valor  1.740934  ( 2  tiempo en el bucle)\n",
      "Probando este valor  4.12738  ( 3  tiempo en el bucle)\n"
     ]
    }
   ],
   "source": [
    "# Con el bucle while\n",
    "\n",
    "mili<- 1;\n",
    "x <- 1\n",
    "while(x < 4)\n",
    " {\n",
    "    x <- rnorm(1,mean=2,sd=3)\n",
    "    cat(\"Probando este valor \",x,\" (\",mili,\" tiempo en el bucle)\\n\");\n",
    "    mili <- mili + 1\n",
    " }"
   ]
  },
  {
   "cell_type": "code",
   "execution_count": 9,
   "metadata": {},
   "outputs": [
    {
     "name": "stdout",
     "output_type": "stream",
     "text": [
      "1 2 3 Python 1 2 3 R\n",
      "1\n",
      "2\n",
      "3\n",
      "Python\n",
      "1\n",
      "2\n",
      "3\n",
      "R\n"
     ]
    }
   ],
   "source": [
    "# Otros ejemplos sencillos\n",
    "\n",
    "x <-c(1,2,3)\n",
    "cat(x, \"Python\", x, \"R\\n\")\n",
    "cat (x, \"Python\", x, \"R\", sep=\"\\n\")"
   ]
  },
  {
   "cell_type": "code",
   "execution_count": 10,
   "metadata": {},
   "outputs": [
    {
     "name": "stdout",
     "output_type": "stream",
     "text": [
      "5.12.13.8\n",
      "88\n"
     ]
    }
   ],
   "source": [
    "#Un ejemplo mas\n",
    "\n",
    "x1<- c(5,12,13,8,88)\n",
    "cat(x1,sep=c(\".\",\".\",\".\",\"\\n\",\"\\n\"))"
   ]
  },
  {
   "cell_type": "code",
   "execution_count": 11,
   "metadata": {
    "collapsed": true
   },
   "outputs": [],
   "source": [
    "help(format)"
   ]
  },
  {
   "cell_type": "code",
   "execution_count": 12,
   "metadata": {},
   "outputs": [
    {
     "data": {
      "text/html": [
       "<ol class=list-inline>\n",
       "\t<li>0.00134989803163009</li>\n",
       "\t<li>0.0227501319481792</li>\n",
       "\t<li>0.158655253931457</li>\n",
       "\t<li>0.5</li>\n",
       "\t<li>0.841344746068543</li>\n",
       "\t<li>0.977249868051821</li>\n",
       "\t<li>0.99865010196837</li>\n",
       "</ol>\n"
      ],
      "text/latex": [
       "\\begin{enumerate*}\n",
       "\\item 0.00134989803163009\n",
       "\\item 0.0227501319481792\n",
       "\\item 0.158655253931457\n",
       "\\item 0.5\n",
       "\\item 0.841344746068543\n",
       "\\item 0.977249868051821\n",
       "\\item 0.99865010196837\n",
       "\\end{enumerate*}\n"
      ],
      "text/markdown": [
       "1. 0.00134989803163009\n",
       "2. 0.0227501319481792\n",
       "3. 0.158655253931457\n",
       "4. 0.5\n",
       "5. 0.841344746068543\n",
       "6. 0.977249868051821\n",
       "7. 0.99865010196837\n",
       "\n",
       "\n"
      ],
      "text/plain": [
       "[1] 0.001349898 0.022750132 0.158655254 0.500000000 0.841344746 0.977249868\n",
       "[7] 0.998650102"
      ]
     },
     "metadata": {},
     "output_type": "display_data"
    },
    {
     "name": "stdout",
     "output_type": "stream",
     "text": [
      "[1] 0.00135 0.02275 0.15866 0.50000 0.84134 0.97725 0.99865\n"
     ]
    }
   ],
   "source": [
    "# print y format hacen el formateo de  vectores\n",
    "\n",
    "pnorm(-3:3)\n",
    "print(pnorm(-3:3), digits=3)"
   ]
  },
  {
   "cell_type": "markdown",
   "metadata": {},
   "source": [
    "Se debe notar que `print ` formatea los elementos del vector,  encontrado el número de dígitos necesarios para formatear el número más pequeño y después de formatear todos los números para tener el mismo ancho. Esto es extremadamente útil para formatear una tabla completa:"
   ]
  },
  {
   "cell_type": "code",
   "execution_count": 13,
   "metadata": {},
   "outputs": [
    {
     "data": {
      "text/html": [
       "<table>\n",
       "<thead><tr><th scope=col>Quantil</th><th scope=col>Inferior</th><th scope=col>Superior</th></tr></thead>\n",
       "<tbody>\n",
       "\t<tr><td>0.0        </td><td>0.500000000</td><td>0.5000000  </td></tr>\n",
       "\t<tr><td>0.5        </td><td>0.308537539</td><td>0.6914625  </td></tr>\n",
       "\t<tr><td>1.0        </td><td>0.158655254</td><td>0.8413447  </td></tr>\n",
       "\t<tr><td>1.5        </td><td>0.066807201</td><td>0.9331928  </td></tr>\n",
       "\t<tr><td>2.0        </td><td>0.022750132</td><td>0.9772499  </td></tr>\n",
       "\t<tr><td>2.5        </td><td>0.006209665</td><td>0.9937903  </td></tr>\n",
       "\t<tr><td>3.0        </td><td>0.001349898</td><td>0.9986501  </td></tr>\n",
       "</tbody>\n",
       "</table>\n"
      ],
      "text/latex": [
       "\\begin{tabular}{r|lll}\n",
       " Quantil & Inferior & Superior\\\\\n",
       "\\hline\n",
       "\t 0.0         & 0.500000000 & 0.5000000  \\\\\n",
       "\t 0.5         & 0.308537539 & 0.6914625  \\\\\n",
       "\t 1.0         & 0.158655254 & 0.8413447  \\\\\n",
       "\t 1.5         & 0.066807201 & 0.9331928  \\\\\n",
       "\t 2.0         & 0.022750132 & 0.9772499  \\\\\n",
       "\t 2.5         & 0.006209665 & 0.9937903  \\\\\n",
       "\t 3.0         & 0.001349898 & 0.9986501  \\\\\n",
       "\\end{tabular}\n"
      ],
      "text/markdown": [
       "\n",
       "Quantil | Inferior | Superior | \n",
       "|---|---|---|---|---|---|---|\n",
       "| 0.0         | 0.500000000 | 0.5000000   | \n",
       "| 0.5         | 0.308537539 | 0.6914625   | \n",
       "| 1.0         | 0.158655254 | 0.8413447   | \n",
       "| 1.5         | 0.066807201 | 0.9331928   | \n",
       "| 2.0         | 0.022750132 | 0.9772499   | \n",
       "| 2.5         | 0.006209665 | 0.9937903   | \n",
       "| 3.0         | 0.001349898 | 0.9986501   | \n",
       "\n",
       "\n"
      ],
      "text/plain": [
       "  Quantil Inferior    Superior \n",
       "1 0.0     0.500000000 0.5000000\n",
       "2 0.5     0.308537539 0.6914625\n",
       "3 1.0     0.158655254 0.8413447\n",
       "4 1.5     0.066807201 0.9331928\n",
       "5 2.0     0.022750132 0.9772499\n",
       "6 2.5     0.006209665 0.9937903\n",
       "7 3.0     0.001349898 0.9986501"
      ]
     },
     "metadata": {},
     "output_type": "display_data"
    },
    {
     "name": "stdout",
     "output_type": "stream",
     "text": [
      "  Quantil Inferior Superior\n",
      "1     0.0  0.50000    0.500\n",
      "2     0.5  0.30854    0.691\n",
      "3     1.0  0.15866    0.841\n",
      "4     1.5  0.06681    0.933\n",
      "5     2.0  0.02275    0.977\n",
      "6     2.5  0.00621    0.994\n",
      "7     3.0  0.00135    0.999\n"
     ]
    }
   ],
   "source": [
    "q <- seq(from=0,to=3,by=0.5)\n",
    "tbl <- data.frame(Quantil=q, Inferior=pnorm(-q), Superior=pnorm(q))\n",
    "tbl\n",
    "\n",
    "print(tbl, digits=3)"
   ]
  },
  {
   "cell_type": "markdown",
   "metadata": {},
   "source": [
    "La función `source` es usada para leer y ejecutar los comandos en la misma secuencia dados en el archivo, que pertenece al directorio actual de trabajo."
   ]
  },
  {
   "cell_type": "code",
   "execution_count": 14,
   "metadata": {
    "collapsed": true
   },
   "outputs": [],
   "source": [
    "help(source)"
   ]
  },
  {
   "cell_type": "code",
   "execution_count": 3,
   "metadata": {},
   "outputs": [
    {
     "name": "stdout",
     "output_type": "stream",
     "text": [
      "La media y la desviacion estandar de x es   -0.01501722 0.7643029 \n",
      "El resumen estadistico es \n",
      " -0.6781222 -0.6056206 -0.3448627 -0.01501722 0.3968017 1.484806 \n",
      "    Min.  1st Qu.   Median     Mean  3rd Qu.     Max. \n",
      "-0.67812 -0.60562 -0.34486 -0.01502  0.39680  1.48481 \n"
     ]
    }
   ],
   "source": [
    "# Ejemplo\n",
    "source('ejemplo.R')"
   ]
  },
  {
   "cell_type": "code",
   "execution_count": 4,
   "metadata": {},
   "outputs": [
    {
     "name": "stdout",
     "output_type": "stream",
     "text": [
      "\n",
      "> x <- rnorm(10)\n",
      "\n",
      "> mux = mean(x)\n",
      "\n",
      "> cat(\"La media y la desviacion estandar de x es  \", \n",
      "+     mean(x), sd(x), \"\\n\")\n",
      "La media y la desviacion estandar de x es   -0.05097762 0.940389 \n",
      "\n",
      "> summary(x)\n",
      "    Min.  1st Qu.   Median     Mean  3rd Qu.     Max. \n",
      "-1.18369 -0.89422 -0.05163 -0.05098  0.53819  1.47001 \n",
      "\n",
      "> cat(\"El resumen estadistico es \\n\", summary(x), \"\\n\")\n",
      "El resumen estadistico es \n",
      " -1.183688 -0.8942184 -0.05163164 -0.05097762 0.5381936 1.470011 \n",
      "\n",
      "> print(summary(x))\n",
      "    Min.  1st Qu.   Median     Mean  3rd Qu.     Max. \n",
      "-1.18369 -0.89422 -0.05163 -0.05098  0.53819  1.47001 \n"
     ]
    }
   ],
   "source": [
    "source('ejemplo.R', echo=TRUE)"
   ]
  },
  {
   "cell_type": "code",
   "execution_count": 5,
   "metadata": {},
   "outputs": [
    {
     "name": "stdout",
     "output_type": "stream",
     "text": [
      "La media y la desviacion estandar de x es   0.2384152 1.075947 \n",
      "   Min. 1st Qu.  Median    Mean 3rd Qu.    Max. \n",
      "-1.0976 -0.8496  0.3506  0.2384  1.1271  1.6450 \n",
      "El resumen estadistico es \n",
      " -1.097604 -0.8495629 0.3505706 0.2384152 1.127091 1.644956 \n",
      "   Min. 1st Qu.  Median    Mean 3rd Qu.    Max. \n",
      "-1.0976 -0.8496  0.3506  0.2384  1.1271  1.6450 \n"
     ]
    }
   ],
   "source": [
    "# Ejemplo\n",
    "source('ejemplo.R', print.eval=TRUE)"
   ]
  },
  {
   "cell_type": "code",
   "execution_count": 6,
   "metadata": {},
   "outputs": [
    {
     "name": "stdout",
     "output_type": "stream",
     "text": [
      "La media y la desviacion estandar de x es   0.552484 1.066466 \n",
      "El resumen estadistico es \n",
      " -0.5686559 0.04672029 0.1595607 0.552484 0.6068296 3.267379 \n",
      "    Min.  1st Qu.   Median     Mean  3rd Qu.     Max. \n",
      "-0.56866  0.04672  0.15956  0.55248  0.60683  3.26738 \n"
     ]
    }
   ],
   "source": [
    "# Ejemplo\n",
    "source('ejemplo.R', print.eval=FALSE)"
   ]
  },
  {
   "cell_type": "code",
   "execution_count": 7,
   "metadata": {},
   "outputs": [
    {
     "name": "stdout",
     "output_type": "stream",
     "text": [
      "'envir' chosen:<environment: R_GlobalEnv>\n",
      "encoding = \"native.enc\" chosen\n",
      "--> parsed 6 expressions; now eval(.)ing them:\n",
      "\n",
      ">>>> eval(expression_nr. 1 )\n",
      "\t\t =================\n",
      "\n",
      "> x <- rnorm(10)\n",
      "curr.fun: symbol <-\n",
      " .. after 'expression(x <- rnorm(10))'\n",
      "\n",
      ">>>> eval(expression_nr. 2 )\n",
      "\t\t =================\n",
      "\n",
      "> mux = mean(x)\n",
      "curr.fun: symbol =\n",
      " .. after 'expression(mux = mean(x))'\n",
      "\n",
      ">>>> eval(expression_nr. 3 )\n",
      "\t\t =================\n",
      "\n",
      "> cat(\"La media y la desviacion estandar de x es  \", \n",
      "+     mean(x), sd(x), \"\\n\")\n",
      "La media y la desviacion estandar de x es   0.007298443 1.019244 \n",
      "curr.fun: symbol cat\n",
      " .. after 'expression(cat(\"La media y la desviacion estandar de x es  \", ''    mean(x), sd(x), \"\\n\"))'\n",
      "\n",
      ">>>> eval(expression_nr. 4 )\n",
      "\t\t =================\n",
      "\n",
      "> summary(x)\n",
      "curr.fun: symbol summary\n",
      "     Min.   1st Qu.    Median      Mean   3rd Qu.      Max. \n",
      "-1.435456 -0.906035  0.142272  0.007298  0.693891  1.430873 \n",
      " .. after 'expression(summary(x))'\n",
      "\n",
      ">>>> eval(expression_nr. 5 )\n",
      "\t\t =================\n",
      "\n",
      "> cat(\"El resumen estadistico es \\n\", summary(x), \"\\n\")\n",
      "El resumen estadistico es \n",
      " -1.435456 -0.9060347 0.1422723 0.007298443 0.6938913 1.430873 \n",
      "curr.fun: symbol cat\n",
      " .. after 'expression(cat(\"El resumen estadistico es \\n\", summary(x), \"\\n\"))'\n",
      "\n",
      ">>>> eval(expression_nr. 6 )\n",
      "\t\t =================\n",
      "\n",
      "> print(summary(x))\n",
      "     Min.   1st Qu.    Median      Mean   3rd Qu.      Max. \n",
      "-1.435456 -0.906035  0.142272  0.007298  0.693891  1.430873 \n",
      "curr.fun: symbol print\n",
      " .. after 'expression(print(summary(x)))'\n"
     ]
    }
   ],
   "source": [
    "# Ejemplo\n",
    "source('ejemplo.R', verbose=TRUE)"
   ]
  },
  {
   "cell_type": "markdown",
   "metadata": {},
   "source": [
    "Se puede usar la función `scan()` para leer un vector, si este es númerico o de caracter, desde un archivo o del teclado."
   ]
  },
  {
   "cell_type": "code",
   "execution_count": 16,
   "metadata": {
    "collapsed": true
   },
   "outputs": [],
   "source": [
    "help(scan)"
   ]
  },
  {
   "cell_type": "code",
   "execution_count": 17,
   "metadata": {},
   "outputs": [
    {
     "data": {
      "text/html": [
       "<ol class=list-inline>\n",
       "\t<li>'C'</li>\n",
       "\t<li>'S'</li>\n",
       "\t<li>'C'</li>\n",
       "\t<li>'C'</li>\n",
       "\t<li>'S'</li>\n",
       "\t<li>'C'</li>\n",
       "\t<li>'C'</li>\n",
       "\t<li>'S'</li>\n",
       "\t<li>'C'</li>\n",
       "\t<li>'C'</li>\n",
       "\t<li>'S'</li>\n",
       "\t<li>'S'</li>\n",
       "\t<li>'C'</li>\n",
       "\t<li>'S'</li>\n",
       "\t<li>'S'</li>\n",
       "\t<li>'S'</li>\n",
       "\t<li>'C'</li>\n",
       "\t<li>'C'</li>\n",
       "\t<li>'C'</li>\n",
       "\t<li>'S'</li>\n",
       "</ol>\n"
      ],
      "text/latex": [
       "\\begin{enumerate*}\n",
       "\\item 'C'\n",
       "\\item 'S'\n",
       "\\item 'C'\n",
       "\\item 'C'\n",
       "\\item 'S'\n",
       "\\item 'C'\n",
       "\\item 'C'\n",
       "\\item 'S'\n",
       "\\item 'C'\n",
       "\\item 'C'\n",
       "\\item 'S'\n",
       "\\item 'S'\n",
       "\\item 'C'\n",
       "\\item 'S'\n",
       "\\item 'S'\n",
       "\\item 'S'\n",
       "\\item 'C'\n",
       "\\item 'C'\n",
       "\\item 'C'\n",
       "\\item 'S'\n",
       "\\end{enumerate*}\n"
      ],
      "text/markdown": [
       "1. 'C'\n",
       "2. 'S'\n",
       "3. 'C'\n",
       "4. 'C'\n",
       "5. 'S'\n",
       "6. 'C'\n",
       "7. 'C'\n",
       "8. 'S'\n",
       "9. 'C'\n",
       "10. 'C'\n",
       "11. 'S'\n",
       "12. 'S'\n",
       "13. 'C'\n",
       "14. 'S'\n",
       "15. 'S'\n",
       "16. 'S'\n",
       "17. 'C'\n",
       "18. 'C'\n",
       "19. 'C'\n",
       "20. 'S'\n",
       "\n",
       "\n"
      ],
      "text/plain": [
       " [1] \"C\" \"S\" \"C\" \"C\" \"S\" \"C\" \"C\" \"S\" \"C\" \"C\" \"S\" \"S\" \"C\" \"S\" \"S\" \"S\" \"C\" \"C\" \"C\"\n",
       "[20] \"S\""
      ]
     },
     "metadata": {},
     "output_type": "display_data"
    },
    {
     "data": {
      "text/plain": [
       "lanzamientos\n",
       " C  S \n",
       "11  9 "
      ]
     },
     "metadata": {},
     "output_type": "display_data"
    }
   ],
   "source": [
    "# Un ejemplo\n",
    "\n",
    "lanzamientos<- scan('ejemplo2.txt', what=\"character\")\n",
    "lanzamientos\n",
    "\n",
    "table(lanzamientos)\n"
   ]
  },
  {
   "cell_type": "code",
   "execution_count": 18,
   "metadata": {},
   "outputs": [
    {
     "data": {
      "text/plain": [
       "lanzamientos\n",
       "   C    S \n",
       "0.55 0.45 "
      ]
     },
     "metadata": {},
     "output_type": "display_data"
    },
    {
     "data": {
      "image/png": "[encoded data removed]",
      "text/plain": [
       "plot without title"
      ]
     },
     "metadata": {},
     "output_type": "display_data"
    }
   ],
   "source": [
    "table(lanzamientos)/length(lanzamientos)\n",
    "prop.lanzamientos <- table(lanzamientos)/length(lanzamientos)\n",
    "plot(prop.lanzamientos)"
   ]
  },
  {
   "cell_type": "code",
   "execution_count": 20,
   "metadata": {},
   "outputs": [
    {
     "data": {
      "image/png": "[encoded data removed]",
      "text/plain": [
       "plot without title"
      ]
     },
     "metadata": {},
     "output_type": "display_data"
    }
   ],
   "source": [
    "barplot(prop.lanzamientos)"
   ]
  },
  {
   "cell_type": "markdown",
   "metadata": {},
   "source": [
    "Por defecto `scan` espera que todas las entradas sean datos númericos, esto puede ser anulado con el argumento `what=` el cual especifica el tipo de dato que `scan` debe mostrar.  Uno de los usos más comunes de `scan` es la lectura de matrices. Desde que `scan` retorna un vector una llamada a `scan` puede ser incluida dentro de la función `matrix`."
   ]
  },
  {
   "cell_type": "markdown",
   "metadata": {},
   "source": [
    "## Lectura de archivos de texto\n",
    "\n",
    "Hay muchos, formatos y estándares de documentos de texto para almacenar datos. Los formatos comunes para almacenar datos son valores separados por delimitadores (`CSV` o delimitados por tabuladores), eXtensible Markup Language (`XML`), JavaScript Object Notation (`JSON`) y `YAML` (que representa recursivamente YAML ain't Markup Language). Otras fuentes de datos de texto están menos bien estructuradas: un libro, por ejemplo, contiene datos de texto sin ninguna estructura formal (es decir, estandarizada y analizable por máquina).\n",
    "\n",
    "La principal ventaja de almacenar datos en archivos de texto es que pueden ser leídos por más o menos todos los  software de análisis de datos y por los usuarios. Esto hace que sus datos sean más ampliamente reutilizables por otros."
   ]
  },
  {
   "cell_type": "markdown",
   "metadata": {},
   "source": [
    "### Lectura de archivos de texto\n",
    "\n",
    "Hay muchos, formatos y estándares de documentos de texto para almacenar datos. Los formatos comunes para almacenar datos son valores separados por delimitadores (`CSV` o delimitados por tabuladores), eXtensible Markup Language (`XML`), JavaScript Object Notation (`JSON`) y `YAML` (que representa recursivamente YAML ain't Markup Language). Otras fuentes de datos de texto están menos bien estructuradas: un libro, por ejemplo, contiene datos de texto sin ninguna estructura formal (es decir, estandarizada y analizable por máquina).\n",
    "\n",
    "La principal ventaja de almacenar datos en archivos de texto es que pueden ser leídos por más o menos todos los  software de análisis de datos y por los usuarios. Esto hace que sus datos sean más ampliamente reutilizables por otros."
   ]
  },
  {
   "cell_type": "code",
   "execution_count": 21,
   "metadata": {},
   "outputs": [
    {
     "data": {
      "text/html": [
       "<ol class=list-inline>\n",
       "\t<li>'Nombre,Genero,Edad,Especialidad'</li>\n",
       "\t<li>'Cesar,Masculino,24,Finanzas'</li>\n",
       "\t<li>'Jessica,Femenino,25,Matematica'</li>\n",
       "\t<li>'Claudio,Maculino,23, Economia'</li>\n",
       "\t<li>'Irene, Femenino, 28,Estadistica'</li>\n",
       "</ol>\n"
      ],
      "text/latex": [
       "\\begin{enumerate*}\n",
       "\\item 'Nombre,Genero,Edad,Especialidad'\n",
       "\\item 'Cesar,Masculino,24,Finanzas'\n",
       "\\item 'Jessica,Femenino,25,Matematica'\n",
       "\\item 'Claudio,Maculino,23, Economia'\n",
       "\\item 'Irene, Femenino, 28,Estadistica'\n",
       "\\end{enumerate*}\n"
      ],
      "text/markdown": [
       "1. 'Nombre,Genero,Edad,Especialidad'\n",
       "2. 'Cesar,Masculino,24,Finanzas'\n",
       "3. 'Jessica,Femenino,25,Matematica'\n",
       "4. 'Claudio,Maculino,23, Economia'\n",
       "5. 'Irene, Femenino, 28,Estadistica'\n",
       "\n",
       "\n"
      ],
      "text/plain": [
       "[1] \"Nombre,Genero,Edad,Especialidad\" \"Cesar,Masculino,24,Finanzas\"    \n",
       "[3] \"Jessica,Femenino,25,Matematica\"  \"Claudio,Maculino,23, Economia\"  \n",
       "[5] \"Irene, Femenino, 28,Estadistica\""
      ]
     },
     "metadata": {},
     "output_type": "display_data"
    }
   ],
   "source": [
    "readLines(\"personas.csv\")"
   ]
  },
  {
   "cell_type": "markdown",
   "metadata": {},
   "source": [
    "De forma predeterminada, leerá todas las líneas del archivo. Para obtener una vista previa de las dos primeras líneas, ejecutamos  el siguiente :"
   ]
  },
  {
   "cell_type": "code",
   "execution_count": 22,
   "metadata": {},
   "outputs": [
    {
     "data": {
      "text/html": [
       "<ol class=list-inline>\n",
       "\t<li>'Nombre,Genero,Edad,Especialidad'</li>\n",
       "\t<li>'Cesar,Masculino,24,Finanzas'</li>\n",
       "</ol>\n"
      ],
      "text/latex": [
       "\\begin{enumerate*}\n",
       "\\item 'Nombre,Genero,Edad,Especialidad'\n",
       "\\item 'Cesar,Masculino,24,Finanzas'\n",
       "\\end{enumerate*}\n"
      ],
      "text/markdown": [
       "1. 'Nombre,Genero,Edad,Especialidad'\n",
       "2. 'Cesar,Masculino,24,Finanzas'\n",
       "\n",
       "\n"
      ],
      "text/plain": [
       "[1] \"Nombre,Genero,Edad,Especialidad\" \"Cesar,Masculino,24,Finanzas\"    "
      ]
     },
     "metadata": {},
     "output_type": "display_data"
    }
   ],
   "source": [
    "readLines(\"personas.csv\", n = 2)"
   ]
  },
  {
   "cell_type": "markdown",
   "metadata": {},
   "source": [
    "Para la importación de datos, `readLines()` es demasiado simple en la mayoría de los casos. Esto funciona leyendo líneas como cadenas en lugar de analizarlos en un data frame. Si desea importar datos de un archivo `CSV` como el código anterior, llame directamente a `read.csv()`:"
   ]
  },
  {
   "cell_type": "code",
   "execution_count": 23,
   "metadata": {},
   "outputs": [
    {
     "name": "stdout",
     "output_type": "stream",
     "text": [
      "'data.frame':\t4 obs. of  4 variables:\n",
      " $ Nombre      : chr  \"Cesar\" \"Jessica\" \"Claudio\" \"Irene\"\n",
      " $ Genero      : chr  \"Masculino\" \"Femenino\" \"Maculino\" \" Femenino\"\n",
      " $ Edad        : int  24 25 23 28\n",
      " $ Especialidad: chr  \"Finanzas\" \"Matematica\" \" Economia\" \"Estadistica\"\n"
     ]
    }
   ],
   "source": [
    "personas1 <- read.csv(\"personas.csv\", stringsAsFactors = FALSE)\n",
    "str(personas1)"
   ]
  },
  {
   "cell_type": "markdown",
   "metadata": {},
   "source": [
    "Tenga en cuenta que queremos mantener el valor de la cadena tal como está, por lo que establecemos `stringsAsFactors = FALSE` en la llamada de función para evitar la conversión de las cadenas a factores."
   ]
  },
  {
   "cell_type": "markdown",
   "metadata": {},
   "source": [
    "La función proporciona muchos argumentos útiles para personalizar la importación. Por ejemplo, podemos usar `colClasses` para especificar explícitamente los tipos de columnas y usar `col.names` para reemplazar los nombres de columnas originales en el archivo de datos:"
   ]
  },
  {
   "cell_type": "code",
   "execution_count": 24,
   "metadata": {},
   "outputs": [
    {
     "name": "stdout",
     "output_type": "stream",
     "text": [
      "'data.frame':\t4 obs. of  4 variables:\n",
      " $ nombre      : chr  \"Cesar\" \"Jessica\" \"Claudio\" \"Irene\"\n",
      " $ genero      : Factor w/ 4 levels \" Femenino\",\"Femenino\",..: 4 2 3 1\n",
      " $ edad        : int  24 25 23 28\n",
      " $ especialidad: chr  \"Finanzas\" \"Matematica\" \" Economia\" \"Estadistica\"\n"
     ]
    }
   ],
   "source": [
    "personas2 <- read.csv(\"personas.csv\", colClasses = c(\"character\", \"factor\", \"integer\", \"character\"),\n",
    "col.names = c(\"nombre\", \"genero\", \"edad\", \"especialidad\"))\n",
    "str(personas2)"
   ]
  },
  {
   "cell_type": "markdown",
   "metadata": {},
   "source": [
    "Tenga en cuenta que CSV es un caso especial de  formatos de datos delimitado. Técnicamente, el formato CSV es un formato de datos delimitado que utiliza una coma (,) para separar las columnas y una nueva línea para separar las filas. En  general, cualquier carácter puede ser un  separador de columnas y un separador de filas. Muchos conjuntos de datos se almacenan en el formato delimitado por tabuladores, es decir, utilizan el carácter de tabulación para separar las columnas. En este caso, puede usar `read.table()`, una versión más general, basada en lo que `read.csv()` se implementa.\n",
    "\n",
    "La función `read.table` lee estos archivos delimitados y almacena los resultados en un data frame. En su forma más simple, sólo toma el camino a un archivo de texto e importa el contenido."
   ]
  },
  {
   "cell_type": "code",
   "execution_count": 25,
   "metadata": {
    "collapsed": true
   },
   "outputs": [],
   "source": [
    "social <- read.table(\"social.dat\")"
   ]
  },
  {
   "cell_type": "markdown",
   "metadata": {},
   "source": [
    "Este pequeño conjunto de datos incluye un índice de entorno social, un índice de esfuerzo de planificación familiar y el porcentaje de disminución en la tasa bruta de natalidad entre 1965 y 1975. \n",
    "\n",
    "El resultado incluye un encabezado con los nombres de las variables."
   ]
  },
  {
   "cell_type": "code",
   "execution_count": 26,
   "metadata": {},
   "outputs": [
    {
     "data": {
      "text/html": [
       "<table>\n",
       "<thead><tr><th></th><th scope=col>escenario</th><th scope=col>esfuerzo</th><th scope=col>cambio</th></tr></thead>\n",
       "<tbody>\n",
       "\t<tr><th scope=row>Bolivia</th><td>46</td><td> 0</td><td> 1</td></tr>\n",
       "\t<tr><th scope=row>Brazil</th><td>74</td><td> 0</td><td>10</td></tr>\n",
       "\t<tr><th scope=row>Chile</th><td>89</td><td>16</td><td>29</td></tr>\n",
       "\t<tr><th scope=row>Colombia</th><td>77</td><td>16</td><td>25</td></tr>\n",
       "\t<tr><th scope=row>CostaRica</th><td>84</td><td>21</td><td>29</td></tr>\n",
       "\t<tr><th scope=row>Cuba</th><td>89</td><td>15</td><td>40</td></tr>\n",
       "\t<tr><th scope=row>DominicanRep</th><td>68</td><td>14</td><td>21</td></tr>\n",
       "\t<tr><th scope=row>Ecuador</th><td>70</td><td> 6</td><td> 0</td></tr>\n",
       "\t<tr><th scope=row>ElSalvador</th><td>60</td><td>13</td><td>13</td></tr>\n",
       "\t<tr><th scope=row>Guatemala</th><td>55</td><td> 9</td><td> 4</td></tr>\n",
       "\t<tr><th scope=row>Haiti</th><td>35</td><td> 3</td><td> 0</td></tr>\n",
       "\t<tr><th scope=row>Honduras</th><td>51</td><td> 7</td><td> 7</td></tr>\n",
       "\t<tr><th scope=row>Jamaica</th><td>87</td><td>23</td><td>21</td></tr>\n",
       "\t<tr><th scope=row>Mexico</th><td>83</td><td> 4</td><td> 9</td></tr>\n",
       "\t<tr><th scope=row>Nicaragua</th><td>68</td><td> 0</td><td> 7</td></tr>\n",
       "\t<tr><th scope=row>Panama</th><td>84</td><td>19</td><td>22</td></tr>\n",
       "\t<tr><th scope=row>Paraguay</th><td>74</td><td> 3</td><td> 6</td></tr>\n",
       "\t<tr><th scope=row>Peru</th><td>73</td><td> 0</td><td> 2</td></tr>\n",
       "\t<tr><th scope=row>TrinidadTobago</th><td>84</td><td>15</td><td>29</td></tr>\n",
       "\t<tr><th scope=row>Venezuela</th><td>91</td><td> 7</td><td>11</td></tr>\n",
       "</tbody>\n",
       "</table>\n"
      ],
      "text/latex": [
       "\\begin{tabular}{r|lll}\n",
       "  & escenario & esfuerzo & cambio\\\\\n",
       "\\hline\n",
       "\tBolivia & 46 &  0 &  1\\\\\n",
       "\tBrazil & 74 &  0 & 10\\\\\n",
       "\tChile & 89 & 16 & 29\\\\\n",
       "\tColombia & 77 & 16 & 25\\\\\n",
       "\tCostaRica & 84 & 21 & 29\\\\\n",
       "\tCuba & 89 & 15 & 40\\\\\n",
       "\tDominicanRep & 68 & 14 & 21\\\\\n",
       "\tEcuador & 70 &  6 &  0\\\\\n",
       "\tElSalvador & 60 & 13 & 13\\\\\n",
       "\tGuatemala & 55 &  9 &  4\\\\\n",
       "\tHaiti & 35 &  3 &  0\\\\\n",
       "\tHonduras & 51 &  7 &  7\\\\\n",
       "\tJamaica & 87 & 23 & 21\\\\\n",
       "\tMexico & 83 &  4 &  9\\\\\n",
       "\tNicaragua & 68 &  0 &  7\\\\\n",
       "\tPanama & 84 & 19 & 22\\\\\n",
       "\tParaguay & 74 &  3 &  6\\\\\n",
       "\tPeru & 73 &  0 &  2\\\\\n",
       "\tTrinidadTobago & 84 & 15 & 29\\\\\n",
       "\tVenezuela & 91 &  7 & 11\\\\\n",
       "\\end{tabular}\n"
      ],
      "text/markdown": [
       "\n",
       "| <!--/--> | escenario | esfuerzo | cambio | \n",
       "|---|---|---|---|---|---|---|---|---|---|---|---|---|---|---|---|---|---|---|---|\n",
       "| Bolivia | 46 |  0 |  1 | \n",
       "| Brazil | 74 |  0 | 10 | \n",
       "| Chile | 89 | 16 | 29 | \n",
       "| Colombia | 77 | 16 | 25 | \n",
       "| CostaRica | 84 | 21 | 29 | \n",
       "| Cuba | 89 | 15 | 40 | \n",
       "| DominicanRep | 68 | 14 | 21 | \n",
       "| Ecuador | 70 |  6 |  0 | \n",
       "| ElSalvador | 60 | 13 | 13 | \n",
       "| Guatemala | 55 |  9 |  4 | \n",
       "| Haiti | 35 |  3 |  0 | \n",
       "| Honduras | 51 |  7 |  7 | \n",
       "| Jamaica | 87 | 23 | 21 | \n",
       "| Mexico | 83 |  4 |  9 | \n",
       "| Nicaragua | 68 |  0 |  7 | \n",
       "| Panama | 84 | 19 | 22 | \n",
       "| Paraguay | 74 |  3 |  6 | \n",
       "| Peru | 73 |  0 |  2 | \n",
       "| TrinidadTobago | 84 | 15 | 29 | \n",
       "| Venezuela | 91 |  7 | 11 | \n",
       "\n",
       "\n"
      ],
      "text/plain": [
       "               escenario esfuerzo cambio\n",
       "Bolivia        46         0        1    \n",
       "Brazil         74         0       10    \n",
       "Chile          89        16       29    \n",
       "Colombia       77        16       25    \n",
       "CostaRica      84        21       29    \n",
       "Cuba           89        15       40    \n",
       "DominicanRep   68        14       21    \n",
       "Ecuador        70         6        0    \n",
       "ElSalvador     60        13       13    \n",
       "Guatemala      55         9        4    \n",
       "Haiti          35         3        0    \n",
       "Honduras       51         7        7    \n",
       "Jamaica        87        23       21    \n",
       "Mexico         83         4        9    \n",
       "Nicaragua      68         0        7    \n",
       "Panama         84        19       22    \n",
       "Paraguay       74         3        6    \n",
       "Peru           73         0        2    \n",
       "TrinidadTobago 84        15       29    \n",
       "Venezuela      91         7       11    "
      ]
     },
     "metadata": {},
     "output_type": "display_data"
    }
   ],
   "source": [
    "social"
   ]
  },
  {
   "cell_type": "markdown",
   "metadata": {},
   "source": [
    "En este ejemplo, `R` detectó correctamente que la primera línea de nuestro archivo era un encabezado con los nombres de las variables. También se dedujo  que la primera columna tenía los nombres de las observaciones. \n",
    "\n",
    "Siempre puede indicar en  `R` explícitamente si tiene o no una cabecera, especificando, el argumento opcional `header = TRUE` o `header = FALSE` a la función `read.table`. Esto es importante si tiene un encabezado,  pero que carece de nombres de fila, porque la suposición de `R` se basa en el hecho de que la línea de encabezado tiene una entrada menos que la fila siguiente, como indica el ejemplo.\n",
    "\n",
    "Si su archivo no tiene una línea de encabezado, `R` usará los nombres de variables predeterminados `V1`, `V2`, ..., etc. Para reemplazar este uso predeterminado, podemos usar el argumento opcional `column.names` de `read.table` para asignar nombres de variable. Este argumento toma un vector de nombres.\n",
    "\n",
    "Hay dos funciones estrechamente relacionadas que se pueden utilizar para obtener o establecer nombres de variables y de observaciones en un momento posterior. Estas son llamados `names` (para los nombres de las variables) y `row.names` (para los nombres de las  observaciones). Por lo tanto, si nuestro archivo no tiene un encabezado  podríamos haber leído los datos y luego cambiar los nombres de las variables predeterminadas con la función `names`."
   ]
  },
  {
   "cell_type": "code",
   "execution_count": 27,
   "metadata": {},
   "outputs": [],
   "source": [
    "# Archivo sin cabeceras social1.dat\n",
    "\n",
    "social1 <- read.table(\"social1.dat\")\n",
    "names(social1) =c( \"\", \"escenario\",\"esfuerzo\",\"cambio\")"
   ]
  },
  {
   "cell_type": "code",
   "execution_count": 28,
   "metadata": {},
   "outputs": [
    {
     "data": {
      "text/html": [
       "<table>\n",
       "<thead><tr><th scope=col></th><th scope=col>escenario</th><th scope=col>esfuerzo</th><th scope=col>cambio</th></tr></thead>\n",
       "<tbody>\n",
       "\t<tr><td>Bolivia       </td><td>46            </td><td> 0            </td><td> 1            </td></tr>\n",
       "\t<tr><td>Brazil        </td><td>74            </td><td> 0            </td><td>10            </td></tr>\n",
       "\t<tr><td>Chile         </td><td>89            </td><td>16            </td><td>29            </td></tr>\n",
       "\t<tr><td>Colombia      </td><td>77            </td><td>16            </td><td>25            </td></tr>\n",
       "\t<tr><td>CostaRica     </td><td>84            </td><td>21            </td><td>29            </td></tr>\n",
       "\t<tr><td>Cuba          </td><td>89            </td><td>15            </td><td>40            </td></tr>\n",
       "\t<tr><td>DominicanRep  </td><td>68            </td><td>14            </td><td>21            </td></tr>\n",
       "\t<tr><td>Ecuador       </td><td>70            </td><td> 6            </td><td> 0            </td></tr>\n",
       "\t<tr><td>ElSalvador    </td><td>60            </td><td>13            </td><td>13            </td></tr>\n",
       "\t<tr><td>Guatemala     </td><td>55            </td><td> 9            </td><td> 4            </td></tr>\n",
       "\t<tr><td>Haiti         </td><td>35            </td><td> 3            </td><td> 0            </td></tr>\n",
       "\t<tr><td>Honduras      </td><td>51            </td><td> 7            </td><td> 7            </td></tr>\n",
       "\t<tr><td>Jamaica       </td><td>87            </td><td>23            </td><td>21            </td></tr>\n",
       "\t<tr><td>Mexico        </td><td>83            </td><td> 4            </td><td> 9            </td></tr>\n",
       "\t<tr><td>Nicaragua     </td><td>68            </td><td> 0            </td><td> 7            </td></tr>\n",
       "\t<tr><td>Panama        </td><td>84            </td><td>19            </td><td>22            </td></tr>\n",
       "\t<tr><td>Paraguay      </td><td>74            </td><td> 3            </td><td> 6            </td></tr>\n",
       "\t<tr><td>Peru          </td><td>73            </td><td> 0            </td><td> 2            </td></tr>\n",
       "\t<tr><td>TrinidadTobago</td><td>84            </td><td>15            </td><td>29            </td></tr>\n",
       "\t<tr><td>Venezuela     </td><td>91            </td><td> 7            </td><td>11            </td></tr>\n",
       "</tbody>\n",
       "</table>\n"
      ],
      "text/latex": [
       "\\begin{tabular}{r|llll}\n",
       "  & escenario & esfuerzo & cambio\\\\\n",
       "\\hline\n",
       "\t Bolivia        & 46             &  0             &  1            \\\\\n",
       "\t Brazil         & 74             &  0             & 10            \\\\\n",
       "\t Chile          & 89             & 16             & 29            \\\\\n",
       "\t Colombia       & 77             & 16             & 25            \\\\\n",
       "\t CostaRica      & 84             & 21             & 29            \\\\\n",
       "\t Cuba           & 89             & 15             & 40            \\\\\n",
       "\t DominicanRep   & 68             & 14             & 21            \\\\\n",
       "\t Ecuador        & 70             &  6             &  0            \\\\\n",
       "\t ElSalvador     & 60             & 13             & 13            \\\\\n",
       "\t Guatemala      & 55             &  9             &  4            \\\\\n",
       "\t Haiti          & 35             &  3             &  0            \\\\\n",
       "\t Honduras       & 51             &  7             &  7            \\\\\n",
       "\t Jamaica        & 87             & 23             & 21            \\\\\n",
       "\t Mexico         & 83             &  4             &  9            \\\\\n",
       "\t Nicaragua      & 68             &  0             &  7            \\\\\n",
       "\t Panama         & 84             & 19             & 22            \\\\\n",
       "\t Paraguay       & 74             &  3             &  6            \\\\\n",
       "\t Peru           & 73             &  0             &  2            \\\\\n",
       "\t TrinidadTobago & 84             & 15             & 29            \\\\\n",
       "\t Venezuela      & 91             &  7             & 11            \\\\\n",
       "\\end{tabular}\n"
      ],
      "text/markdown": [
       "\n",
       " | escenario | esfuerzo | cambio | \n",
       "|---|---|---|---|---|---|---|---|---|---|---|---|---|---|---|---|---|---|---|---|\n",
       "| Bolivia        | 46             |  0             |  1             | \n",
       "| Brazil         | 74             |  0             | 10             | \n",
       "| Chile          | 89             | 16             | 29             | \n",
       "| Colombia       | 77             | 16             | 25             | \n",
       "| CostaRica      | 84             | 21             | 29             | \n",
       "| Cuba           | 89             | 15             | 40             | \n",
       "| DominicanRep   | 68             | 14             | 21             | \n",
       "| Ecuador        | 70             |  6             |  0             | \n",
       "| ElSalvador     | 60             | 13             | 13             | \n",
       "| Guatemala      | 55             |  9             |  4             | \n",
       "| Haiti          | 35             |  3             |  0             | \n",
       "| Honduras       | 51             |  7             |  7             | \n",
       "| Jamaica        | 87             | 23             | 21             | \n",
       "| Mexico         | 83             |  4             |  9             | \n",
       "| Nicaragua      | 68             |  0             |  7             | \n",
       "| Panama         | 84             | 19             | 22             | \n",
       "| Paraguay       | 74             |  3             |  6             | \n",
       "| Peru           | 73             |  0             |  2             | \n",
       "| TrinidadTobago | 84             | 15             | 29             | \n",
       "| Venezuela      | 91             |  7             | 11             | \n",
       "\n",
       "\n"
      ],
      "text/plain": [
       "                  escenario esfuerzo cambio\n",
       "1  Bolivia        46         0        1    \n",
       "2  Brazil         74         0       10    \n",
       "3  Chile          89        16       29    \n",
       "4  Colombia       77        16       25    \n",
       "5  CostaRica      84        21       29    \n",
       "6  Cuba           89        15       40    \n",
       "7  DominicanRep   68        14       21    \n",
       "8  Ecuador        70         6        0    \n",
       "9  ElSalvador     60        13       13    \n",
       "10 Guatemala      55         9        4    \n",
       "11 Haiti          35         3        0    \n",
       "12 Honduras       51         7        7    \n",
       "13 Jamaica        87        23       21    \n",
       "14 Mexico         83         4        9    \n",
       "15 Nicaragua      68         0        7    \n",
       "16 Panama         84        19       22    \n",
       "17 Paraguay       74         3        6    \n",
       "18 Peru           73         0        2    \n",
       "19 TrinidadTobago 84        15       29    \n",
       "20 Venezuela      91         7       11    "
      ]
     },
     "metadata": {},
     "output_type": "display_data"
    }
   ],
   "source": [
    "social1"
   ]
  },
  {
   "cell_type": "markdown",
   "metadata": {},
   "source": [
    "### Importación de datos mediante el paquete readr\n",
    "\n",
    "Por razones históricas, las funciones `read.*` tienen algunas inconsistencias y no son muy amigables en algunas situaciones. El paquete `readr` es una buena opción para importar datos tabulares de una manera rápida y consistente.\n",
    "\n",
    "Para instalar el paquete, como siempre se  ejecuta `install.packages(\"readr\")`. A continuación, puede utilizar una familia de funciones `read_*` para importar datos tabulares:"
   ]
  },
  {
   "cell_type": "code",
   "execution_count": 29,
   "metadata": {},
   "outputs": [
    {
     "name": "stderr",
     "output_type": "stream",
     "text": [
      "Parsed with column specification:\n",
      "cols(\n",
      "  Nombre = col_character(),\n",
      "  Genero = col_character(),\n",
      "  Edad = col_integer(),\n",
      "  Especialidad = col_character()\n",
      ")\n"
     ]
    },
    {
     "name": "stdout",
     "output_type": "stream",
     "text": [
      "Classes ‘tbl_df’, ‘tbl’ and 'data.frame':\t4 obs. of  4 variables:\n",
      " $ Nombre      : chr  \"Cesar\" \"Jessica\" \"Claudio\" \"Irene\"\n",
      " $ Genero      : chr  \"Masculino\" \"Femenino\" \"Maculino\" \"Femenino\"\n",
      " $ Edad        : int  24 25 23 28\n",
      " $ Especialidad: chr  \"Finanzas\" \"Matematica\" \"Economia\" \"Estadistica\"\n",
      " - attr(*, \"spec\")=List of 2\n",
      "  ..$ cols   :List of 4\n",
      "  .. ..$ Nombre      : list()\n",
      "  .. .. ..- attr(*, \"class\")= chr  \"collector_character\" \"collector\"\n",
      "  .. ..$ Genero      : list()\n",
      "  .. .. ..- attr(*, \"class\")= chr  \"collector_character\" \"collector\"\n",
      "  .. ..$ Edad        : list()\n",
      "  .. .. ..- attr(*, \"class\")= chr  \"collector_integer\" \"collector\"\n",
      "  .. ..$ Especialidad: list()\n",
      "  .. .. ..- attr(*, \"class\")= chr  \"collector_character\" \"collector\"\n",
      "  ..$ default: list()\n",
      "  .. ..- attr(*, \"class\")= chr  \"collector_guess\" \"collector\"\n",
      "  ..- attr(*, \"class\")= chr \"col_spec\"\n"
     ]
    }
   ],
   "source": [
    "personas3 <- readr::read_csv(\"personas.csv\")\n",
    "str(personas3)"
   ]
  },
  {
   "cell_type": "markdown",
   "metadata": {},
   "source": [
    "Aquí, usamos `readr::read_csv` en lugar de `library(readr)` primero y luego llamamos directamente a `read_csv` porque es fácil confundir `read_csv` con el archivo `read.csv` incorporado en `R`, ya que tienen comportamientos ligeramente diferentes.\n",
    "\n",
    "Además, debemos tener  en cuenta que el comportamiento predeterminado de `read_csv` es lo suficientemente inteligente como para manejar la mayoría de las situaciones. Para hacer un contraste con las funciones incorporadas, vamos a importar un archivo de datos (`personas.txt`)  en un formato irregular. El contenido de este  archivo se ve bastante estándar y tabular, pero el número de espacios entre cada columna es desigual en las filas, lo que no permite que `read.table()` funcione con `sep=\" \"`:"
   ]
  },
  {
   "cell_type": "code",
   "execution_count": 30,
   "metadata": {},
   "outputs": [
    {
     "ename": "ERROR",
     "evalue": "Error in scan(file = file, what = what, sep = sep, quote = quote, dec = dec, : la linea 1 no tiene 17 elementos\n",
     "output_type": "error",
     "traceback": [
      "Error in scan(file = file, what = what, sep = sep, quote = quote, dec = dec, : la linea 1 no tiene 17 elementos\nTraceback:\n",
      "1. read.table(\"personas.txt\", sep = \" \")",
      "2. scan(file = file, what = what, sep = sep, quote = quote, dec = dec, \n .     nmax = nrows, skip = 0, na.strings = na.strings, quiet = TRUE, \n .     fill = fill, strip.white = strip.white, blank.lines.skip = blank.lines.skip, \n .     multi.line = FALSE, comment.char = comment.char, allowEscapes = allowEscapes, \n .     flush = flush, encoding = encoding, skipNul = skipNul)"
     ]
    }
   ],
   "source": [
    "read.table(\"personas.txt\", sep = \" \")"
   ]
  },
  {
   "cell_type": "markdown",
   "metadata": {},
   "source": [
    "Si se insiste en utilizar `read.table()` para importar datos, se puede perder mucho tiempo tratando de encontrar el argumento adecuado para controlar el comportamiento. Sin embargo, con la misma entrada, el comportamiento predeterminado de `read_table` en `readr` es lo suficientemente inteligente y por lo tanto, le ayuda a ahorrar tiempo:"
   ]
  },
  {
   "cell_type": "code",
   "execution_count": 31,
   "metadata": {},
   "outputs": [
    {
     "data": {
      "text/html": [
       "<table>\n",
       "<thead><tr><th scope=col>Nombre</th><th scope=col>Genero Edad</th><th scope=col>Especialidad</th></tr></thead>\n",
       "<tbody>\n",
       "\t<tr><td>Cesar         </td><td>Masculino 24  </td><td>Finanzas      </td></tr>\n",
       "\t<tr><td>Jessica       </td><td>Femenino    25</td><td>Matematica    </td></tr>\n",
       "\t<tr><td>Claudio       </td><td>Maculino 23   </td><td>Economia      </td></tr>\n",
       "\t<tr><td>Irene         </td><td>Femenino 28   </td><td>Estadistica   </td></tr>\n",
       "</tbody>\n",
       "</table>\n"
      ],
      "text/latex": [
       "\\begin{tabular}{r|lll}\n",
       " Nombre & Genero Edad & Especialidad\\\\\n",
       "\\hline\n",
       "\t Cesar          & Masculino 24   & Finanzas      \\\\\n",
       "\t Jessica        & Femenino    25 & Matematica    \\\\\n",
       "\t Claudio        & Maculino 23    & Economia      \\\\\n",
       "\t Irene          & Femenino 28    & Estadistica   \\\\\n",
       "\\end{tabular}\n"
      ],
      "text/markdown": [
       "\n",
       "Nombre | Genero Edad | Especialidad | \n",
       "|---|---|---|---|\n",
       "| Cesar          | Masculino 24   | Finanzas       | \n",
       "| Jessica        | Femenino    25 | Matematica     | \n",
       "| Claudio        | Maculino 23    | Economia       | \n",
       "| Irene          | Femenino 28    | Estadistica    | \n",
       "\n",
       "\n"
      ],
      "text/plain": [
       "  Nombre  Genero Edad    Especialidad\n",
       "1 Cesar   Masculino 24   Finanzas    \n",
       "2 Jessica Femenino    25 Matematica  \n",
       "3 Claudio Maculino 23    Economia    \n",
       "4 Irene   Femenino 28    Estadistica "
      ]
     },
     "metadata": {},
     "output_type": "display_data"
    }
   ],
   "source": [
    "readr::read_table(\"personas.txt\")"
   ]
  },
  {
   "cell_type": "markdown",
   "metadata": {},
   "source": [
    "## Escribir un data frame  en un archivo\n",
    "\n",
    "Un procedimiento típico en el análisis de datos es la importación de datos, la transformación de los datos, la aplicación de herramientas y modelos adecuados y  finalmente, la creación de algunos nuevos datos que se almacenan para la toma de decisiones. La interfaz para escribir datos en un archivo es muy similar a la lectura de datos. Usamos las funciones `write.*`, para exportar un data frame  a un archivo. \n",
    "\n",
    "Por ejemplo, podemos crear un arbitrario data frame  y almacenarlo en un archivo CSV:"
   ]
  },
  {
   "cell_type": "code",
   "execution_count": 32,
   "metadata": {},
   "outputs": [
    {
     "data": {
      "text/html": [
       "<table>\n",
       "<thead><tr><th scope=col>id</th><th scope=col>grados</th><th scope=col>valores</th><th scope=col>fechas1</th></tr></thead>\n",
       "<tbody>\n",
       "\t<tr><td>1         </td><td>A         </td><td>1.51      </td><td>2016-03-05</td></tr>\n",
       "\t<tr><td>2         </td><td>A         </td><td>1.52      </td><td>2016-03-06</td></tr>\n",
       "\t<tr><td>3         </td><td>B         </td><td>1.46      </td><td>2016-03-10</td></tr>\n",
       "\t<tr><td>4         </td><td>NA        </td><td>  NA      </td><td>2016-03-11</td></tr>\n",
       "</tbody>\n",
       "</table>\n"
      ],
      "text/latex": [
       "\\begin{tabular}{r|llll}\n",
       " id & grados & valores & fechas1\\\\\n",
       "\\hline\n",
       "\t 1          & A          & 1.51       & 2016-03-05\\\\\n",
       "\t 2          & A          & 1.52       & 2016-03-06\\\\\n",
       "\t 3          & B          & 1.46       & 2016-03-10\\\\\n",
       "\t 4          & NA         &   NA       & 2016-03-11\\\\\n",
       "\\end{tabular}\n"
      ],
      "text/markdown": [
       "\n",
       "id | grados | valores | fechas1 | \n",
       "|---|---|---|---|\n",
       "| 1          | A          | 1.51       | 2016-03-05 | \n",
       "| 2          | A          | 1.52       | 2016-03-06 | \n",
       "| 3          | B          | 1.46       | 2016-03-10 | \n",
       "| 4          | NA         |   NA       | 2016-03-11 | \n",
       "\n",
       "\n"
      ],
      "text/plain": [
       "  id grados valores fechas1   \n",
       "1 1  A      1.51    2016-03-05\n",
       "2 2  A      1.52    2016-03-06\n",
       "3 3  B      1.46    2016-03-10\n",
       "4 4  NA       NA    2016-03-11"
      ]
     },
     "metadata": {},
     "output_type": "display_data"
    }
   ],
   "source": [
    "datos1 <- data.frame(\n",
    "    id = 1:4,\n",
    "    grados = c(\"A\", \"A\", \"B\", NA),\n",
    "    valores = c(1.51, 1.52, 1.46, NA),\n",
    "    fechas1 = as.Date(c(\"2016-03-05\", \"2016-03-06\", \"2016-03-10\",\n",
    "                       \"2016-03-11\")))\n",
    "datos1"
   ]
  },
  {
   "cell_type": "markdown",
   "metadata": {},
   "source": [
    "Para comprobar si el archivo `CSV`, conserva correctamente los valores y fechas faltantes, podemos leer el archivo de salida en texto sin formato:"
   ]
  },
  {
   "cell_type": "code",
   "execution_count": 33,
   "metadata": {},
   "outputs": [
    {
     "name": "stdout",
     "output_type": "stream",
     "text": [
      "id,grados,valores,fechas1\n",
      "1,A,1.51,2016-03-05\n",
      "2,A,1.52,2016-03-06\n",
      "3,B,1.46,2016-03-10\n",
      "4,-,-,2016-03-11\n"
     ]
    }
   ],
   "source": [
    "cat(readLines(\"datos1.csv\"), sep = \"\\n\")"
   ]
  },
  {
   "cell_type": "markdown",
   "metadata": {},
   "source": [
    "Aunque los datos son correctos, a veces podemos tener estándares diferentes para almacenar tales datos. La función `write.csv()`, nos permite modificar el comportamiento de escritura. De la salida anterior, podríamos pensar que hay algunos componentes innecesarios en ella. Por ejemplo, normalmente no queremos que los nombres de fila se exporten porque parecen un poco redundantes, ya que `id` ya hace su trabajo. No necesitamos las comillas alrededor de valores de cadena. Queremos que los valores que faltan se representen en lugar de ser `NA`.\n",
    "\n",
    "Para proceder, podemos ejecutar el siguiente código para exportar el mismo data frame, con el comportamiento y el estándar que queremos:"
   ]
  },
  {
   "cell_type": "code",
   "execution_count": 34,
   "metadata": {},
   "outputs": [],
   "source": [
    "write.csv(datos1, \"datos1.csv\", quote =FALSE, na = \"-\",  row.names = FALSE)"
   ]
  },
  {
   "cell_type": "markdown",
   "metadata": {},
   "source": [
    "Ahora, los datos de salida son un archivo CSV simplificado:"
   ]
  },
  {
   "cell_type": "code",
   "execution_count": 35,
   "metadata": {},
   "outputs": [
    {
     "name": "stdout",
     "output_type": "stream",
     "text": [
      "id,grados,valores,fechas1\n",
      "1,A,1.51,2016-03-05\n",
      "2,A,1.52,2016-03-06\n",
      "3,B,1.46,2016-03-10\n",
      "4,-,-,2016-03-11\n"
     ]
    }
   ],
   "source": [
    "cat(readLines(\"datos1.csv\"), sep = \"\\n\")"
   ]
  },
  {
   "cell_type": "markdown",
   "metadata": {},
   "source": [
    "Podemos usar `readr::read_csv()` para importar un archivo `CSV` con valores perdidos personalizados y una columna de fechas:"
   ]
  },
  {
   "cell_type": "code",
   "execution_count": 36,
   "metadata": {},
   "outputs": [
    {
     "name": "stderr",
     "output_type": "stream",
     "text": [
      "Parsed with column specification:\n",
      "cols(\n",
      "  id = col_integer(),\n",
      "  grados = col_character(),\n",
      "  valores = col_double(),\n",
      "  fechas1 = col_date(format = \"\")\n",
      ")\n"
     ]
    },
    {
     "data": {
      "text/html": [
       "<table>\n",
       "<thead><tr><th scope=col>id</th><th scope=col>grados</th><th scope=col>valores</th><th scope=col>fechas1</th></tr></thead>\n",
       "<tbody>\n",
       "\t<tr><td>1         </td><td>A         </td><td>1.51      </td><td>2016-03-05</td></tr>\n",
       "\t<tr><td>2         </td><td>A         </td><td>1.52      </td><td>2016-03-06</td></tr>\n",
       "\t<tr><td>3         </td><td>B         </td><td>1.46      </td><td>2016-03-10</td></tr>\n",
       "\t<tr><td>4         </td><td>NA        </td><td>  NA      </td><td>2016-03-11</td></tr>\n",
       "</tbody>\n",
       "</table>\n"
      ],
      "text/latex": [
       "\\begin{tabular}{r|llll}\n",
       " id & grados & valores & fechas1\\\\\n",
       "\\hline\n",
       "\t 1          & A          & 1.51       & 2016-03-05\\\\\n",
       "\t 2          & A          & 1.52       & 2016-03-06\\\\\n",
       "\t 3          & B          & 1.46       & 2016-03-10\\\\\n",
       "\t 4          & NA         &   NA       & 2016-03-11\\\\\n",
       "\\end{tabular}\n"
      ],
      "text/markdown": [
       "\n",
       "id | grados | valores | fechas1 | \n",
       "|---|---|---|---|\n",
       "| 1          | A          | 1.51       | 2016-03-05 | \n",
       "| 2          | A          | 1.52       | 2016-03-06 | \n",
       "| 3          | B          | 1.46       | 2016-03-10 | \n",
       "| 4          | NA         |   NA       | 2016-03-11 | \n",
       "\n",
       "\n"
      ],
      "text/plain": [
       "  id grados valores fechas1   \n",
       "1 1  A      1.51    2016-03-05\n",
       "2 2  A      1.52    2016-03-06\n",
       "3 3  B      1.46    2016-03-10\n",
       "4 4  NA       NA    2016-03-11"
      ]
     },
     "metadata": {},
     "output_type": "display_data"
    }
   ],
   "source": [
    "readr::read_csv(\"datos1.csv\", na = \"-\")"
   ]
  },
  {
   "cell_type": "markdown",
   "metadata": {},
   "source": [
    "### Archivos de texto no estructurados\n",
    "\n",
    "No todos los archivos de texto tienen una estructura bien definida como los archivos delimitados. Si la estructura del archivo es débil, a menudo es más fácil de leer en el archivo como líneas de texto y luego analizar o manipular el contenido después. `ReadLines` (observa la \"L\" mayúscula) proporciona tal facilidad. Acepta una ruta de acceso a un archivo (o un archivo de conexión) y, opcionalmente, un número máximo de líneas a leer. Aquí importamos la versión de Gutenberg del proyecto `The Tempest ` de Shakespeare:"
   ]
  },
  {
   "cell_type": "code",
   "execution_count": 37,
   "metadata": {},
   "outputs": [
    {
     "data": {
      "text/html": [
       "<ol class=list-inline>\n",
       "\t<li><span style=white-space:pre-wrap>'   Ste. Foure legges and two voyces; a most delicate'</span></li>\n",
       "\t<li>'Monster: his forward voyce now is to speake well of'</li>\n",
       "</ol>\n"
      ],
      "text/latex": [
       "\\begin{enumerate*}\n",
       "\\item '   Ste. Foure legges and two voyces; a most delicate'\n",
       "\\item 'Monster: his forward voyce now is to speake well of'\n",
       "\\end{enumerate*}\n"
      ],
      "text/markdown": [
       "1. <span style=white-space:pre-wrap>'   Ste. Foure legges and two voyces; a most delicate'</span>\n",
       "2. 'Monster: his forward voyce now is to speake well of'\n",
       "\n",
       "\n"
      ],
      "text/plain": [
       "[1] \"   Ste. Foure legges and two voyces; a most delicate\"\n",
       "[2] \"Monster: his forward voyce now is to speake well of\" "
      ]
     },
     "metadata": {},
     "output_type": "display_data"
    }
   ],
   "source": [
    "# Ejemplo del paquete learningr de Richard Cotton\n",
    "\n",
    "tempestad <- readLines(\"Shakespeare.s.The.Tempest..from.Project.Gutenberg.pg2235.txt\")\n",
    "tempestad[1926:1927]"
   ]
  },
  {
   "cell_type": "markdown",
   "metadata": {},
   "source": [
    "`writeLines` realiza la operación inversa a `readLines`. Se necesita un vector de caracteres y un archivo para escribir :"
   ]
  },
  {
   "cell_type": "code",
   "execution_count": 38,
   "metadata": {
    "collapsed": true
   },
   "outputs": [],
   "source": [
    "writeLines( rev(tempestad),  \"Shakespeare's The Tempest, backwards.txt\")"
   ]
  },
  {
   "cell_type": "markdown",
   "metadata": {},
   "source": [
    "### Archivos XML y HTML\n",
    "\n",
    "Los archivos `XML` se utilizan  para almacenar datos anidados. Muchos tipos de archivos estándar y protocolos se basan en `XML`, como `RSS` (Really Simple Syndication) para el manejo de noticias, `SOAP` (Simple Object Access Protocol) para pasar transmitir datos estructurados a través de redes de computadoras y  `XHTML`  para el uso de  páginas web.\n",
    "\n",
    "El paquete base de `R` no proporciona la capacidad de leer archivos `XML`, pero el paquete `XML`, desarrollado por Duncan Temple Lang, es muy útil."
   ]
  },
  {
   "cell_type": "code",
   "execution_count": 39,
   "metadata": {},
   "outputs": [],
   "source": [
    "#install.packages(\"XML\")"
   ]
  },
  {
   "cell_type": "markdown",
   "metadata": {},
   "source": [
    "Al importar un archivo `XML`, el paquete `XML` ofrece la opción de almacenar el resultado utilizando nodos internos (es decir, los  objetos se almacenan con código C, por defecto ) o nodos de `R`. Por lo general, es preferible almacenar las cosas con nodos internos, ya que se puede  consultar el árbol de nodos utilizando `XPath`.\n",
    "\n",
    "Hay varias funciones para importar datos `XML`, como `xmlParse` y algunas otras funciones  que usan valores predeterminados ligeramente diferentes:"
   ]
  },
  {
   "cell_type": "code",
   "execution_count": 40,
   "metadata": {},
   "outputs": [
    {
     "data": {
      "text/html": [
       "<ol class=list-inline>\n",
       "\t<li>'XMLInternalDocument'</li>\n",
       "\t<li>'XMLAbstractDocument'</li>\n",
       "</ol>\n"
      ],
      "text/latex": [
       "\\begin{enumerate*}\n",
       "\\item 'XMLInternalDocument'\n",
       "\\item 'XMLAbstractDocument'\n",
       "\\end{enumerate*}\n"
      ],
      "text/markdown": [
       "1. 'XMLInternalDocument'\n",
       "2. 'XMLAbstractDocument'\n",
       "\n",
       "\n"
      ],
      "text/plain": [
       "[1] \"XMLInternalDocument\" \"XMLAbstractDocument\""
      ]
     },
     "metadata": {},
     "output_type": "display_data"
    },
    {
     "name": "stdout",
     "output_type": "stream",
     "text": [
      "$libro\n",
      "<libro id=\"bk101\">\n",
      "  <autor>Gambardella, Matthew</autor>\n",
      "  <titulo>XML Developer's Guide</titulo>\n",
      "  <genero>Computadoras</genero>\n",
      "  <precio>44.95</precio>\n",
      "  <fecha_publicacion>2000-10-01</fecha_publicacion>\n",
      "</libro> \n",
      "\n",
      "attr(,\"class\")\n",
      "[1] \"XMLInternalNodeList\" \"XMLNodeList\"        \n"
     ]
    }
   ],
   "source": [
    "library(XML)\n",
    "resultado_xml <- xmlParse(file = \"libros1.xml\")\n",
    "\n",
    "class(resultado_xml)\n",
    "# extraemos el nodo raiz des  el archivo \n",
    "\n",
    "nodo_raiz <- xmlRoot(resultado_xml)\n",
    "print(nodo_raiz[1])"
   ]
  },
  {
   "cell_type": "code",
   "execution_count": 41,
   "metadata": {},
   "outputs": [
    {
     "name": "stdout",
     "output_type": "stream",
     "text": [
      "<fecha_publicacion>2000-10-01</fecha_publicacion> \n",
      "<titulo>Subiendo las escaleras</titulo> \n"
     ]
    }
   ],
   "source": [
    "# Conseguimos el quinto elemento del primer nodo \n",
    "print(nodo_raiz[[1]][[5]])\n",
    "\n",
    "# Conseguimos el segundo elemento del tercer nodo \n",
    "print(nodo_raiz[[3]][[2]])"
   ]
  },
  {
   "cell_type": "markdown",
   "metadata": {},
   "source": [
    "Para manejar los datos de manera efectiva  grandes archivos de datos, leemos los datos en el archivo `xml` como un data frame de datos. A continuación, procesamos el data frame  para el análisis de datos.\n"
   ]
  },
  {
   "cell_type": "code",
   "execution_count": 42,
   "metadata": {},
   "outputs": [
    {
     "name": "stdout",
     "output_type": "stream",
     "text": [
      "                 autor                            titulo       genero precio\n",
      "1 Gambardella, Matthew             XML Developer's Guide Computadoras  44.95\n",
      "2           Ralls, Kim                 Noche de tormenta     Fantasia   5.95\n",
      "3          Corets, Eva            Subiendo las escaleras     Fantasia   5.95\n",
      "4          Corets, Eva                        Python 3.5 Programacion   5.95\n",
      "5          Corets, Eva        La casa de la carretera 31       Terror   5.95\n",
      "6     Randall, Cynthia           Un encuentro inesperado      Romance   4.95\n",
      "7       Thurman, Paula                              Ubik       sci-fi   4.95\n",
      "8          Galos, Mike Visual Studio 7: Un guia completa  Computacion  49.95\n",
      "  fecha_publicacion\n",
      "1        2000-10-01\n",
      "2        2000-12-16\n",
      "3        2000-11-17\n",
      "4        2001-03-10\n",
      "5        2001-09-10\n",
      "6        2000-09-02\n",
      "7        2000-11-02\n",
      "8        2001-04-16\n"
     ]
    }
   ],
   "source": [
    "xmldataframe <- xmlToDataFrame(\"libros1.xml\")\n",
    "print(xmldataframe)"
   ]
  },
  {
   "cell_type": "markdown",
   "metadata": {},
   "source": [
    "Uno de los problemas con el uso de nodos internos es que las funciones  como `str` y `head` no funcionan con ellos. Para usar nodos de nivel `R`, se escribe  `useInternalNodes = FALSE` (o use `xmlTreeParse`, que lo establece como predeterminado):"
   ]
  },
  {
   "cell_type": "code",
   "execution_count": 43,
   "metadata": {},
   "outputs": [
    {
     "data": {
      "text/plain": [
       "$doc\n",
       "$file\n",
       "[1] \"libros1.xml\"\n",
       "\n",
       "$version\n",
       "[1] \"1.0\"\n",
       "\n",
       "$children\n",
       "$children$catalog\n",
       "<catalog>\n",
       " <libro id=\"bk101\">\n",
       "  <autor>Gambardella, Matthew</autor>\n",
       "  <titulo>XML Developer&apos;s Guide</titulo>\n",
       "  <genero>Computadoras</genero>\n",
       "  <precio>44.95</precio>\n",
       "  <fecha_publicacion>2000-10-01</fecha_publicacion>\n",
       " </libro>\n",
       " <libro id=\"bk102\">\n",
       "  <autor>Ralls, Kim</autor>\n",
       "  <titulo>Noche de tormenta</titulo>\n",
       "  <genero>Fantasia</genero>\n",
       "  <precio>5.95</precio>\n",
       "  <fecha_publicacion>2000-12-16</fecha_publicacion>\n",
       " </libro>\n",
       " <libro id=\"bk103\">\n",
       "  <autor>Corets, Eva</autor>\n",
       "  <titulo>Subiendo las escaleras</titulo>\n",
       "  <genero>Fantasia</genero>\n",
       "  <precio>5.95</precio>\n",
       "  <fecha_publicacion>2000-11-17</fecha_publicacion>\n",
       " </libro>\n",
       " <libro id=\"bk104\">\n",
       "  <autor>Corets, Eva</autor>\n",
       "  <titulo>Python 3.5</titulo>\n",
       "  <genero>Programacion</genero>\n",
       "  <precio>5.95</precio>\n",
       "  <fecha_publicacion>2001-03-10</fecha_publicacion>\n",
       " </libro>\n",
       " <libro id=\"bk105\">\n",
       "  <autor>Corets, Eva</autor>\n",
       "  <titulo>La casa de la carretera 31</titulo>\n",
       "  <genero>Terror</genero>\n",
       "  <precio>5.95</precio>\n",
       "  <fecha_publicacion>2001-09-10</fecha_publicacion>\n",
       " </libro>\n",
       " <libro id=\"bk106\">\n",
       "  <autor>Randall, Cynthia</autor>\n",
       "  <titulo>Un encuentro inesperado</titulo>\n",
       "  <genero>Romance</genero>\n",
       "  <precio>4.95</precio>\n",
       "  <fecha_publicacion>2000-09-02</fecha_publicacion>\n",
       " </libro>\n",
       " <libro id=\"bk107\">\n",
       "  <autor>Thurman, Paula</autor>\n",
       "  <titulo>Ubik</titulo>\n",
       "  <genero>sci-fi</genero>\n",
       "  <precio>4.95</precio>\n",
       "  <fecha_publicacion>2000-11-02</fecha_publicacion>\n",
       " </libro>\n",
       " <libro id=\"bk109\">\n",
       "  <autor>Galos, Mike</autor>\n",
       "  <titulo>Visual Studio 7: Un guia completa</titulo>\n",
       "  <genero>Computacion</genero>\n",
       "  <precio>49.95</precio>\n",
       "  <fecha_publicacion>2001-04-16</fecha_publicacion>\n",
       " </libro>\n",
       "</catalog>\n",
       "\n",
       "\n",
       "attr(,\"class\")\n",
       "[1] \"XMLDocumentContent\"\n",
       "\n",
       "$dtd\n",
       "$external\n",
       "NULL\n",
       "\n",
       "$internal\n",
       "NULL\n",
       "\n",
       "attr(,\"class\")\n",
       "[1] \"DTDList\"\n",
       "\n",
       "attr(,\"class\")\n",
       "[1] \"XMLDocument\"         \"XMLAbstractDocument\""
      ]
     },
     "metadata": {},
     "output_type": "display_data"
    },
    {
     "data": {
      "text/plain": [
       "$doc\n",
       "$file\n",
       "[1] \"libros1.xml\"\n",
       "\n",
       "$version\n",
       "[1] \"1.0\"\n",
       "\n",
       "$children\n",
       "$children$catalog\n",
       "<catalog>\n",
       " <libro id=\"bk101\">\n",
       "  <autor>Gambardella, Matthew</autor>\n",
       "  <titulo>XML Developer&apos;s Guide</titulo>\n",
       "  <genero>Computadoras</genero>\n",
       "  <precio>44.95</precio>\n",
       "  <fecha_publicacion>2000-10-01</fecha_publicacion>\n",
       " </libro>\n",
       " <libro id=\"bk102\">\n",
       "  <autor>Ralls, Kim</autor>\n",
       "  <titulo>Noche de tormenta</titulo>\n",
       "  <genero>Fantasia</genero>\n",
       "  <precio>5.95</precio>\n",
       "  <fecha_publicacion>2000-12-16</fecha_publicacion>\n",
       " </libro>\n",
       " <libro id=\"bk103\">\n",
       "  <autor>Corets, Eva</autor>\n",
       "  <titulo>Subiendo las escaleras</titulo>\n",
       "  <genero>Fantasia</genero>\n",
       "  <precio>5.95</precio>\n",
       "  <fecha_publicacion>2000-11-17</fecha_publicacion>\n",
       " </libro>\n",
       " <libro id=\"bk104\">\n",
       "  <autor>Corets, Eva</autor>\n",
       "  <titulo>Python 3.5</titulo>\n",
       "  <genero>Programacion</genero>\n",
       "  <precio>5.95</precio>\n",
       "  <fecha_publicacion>2001-03-10</fecha_publicacion>\n",
       " </libro>\n",
       " <libro id=\"bk105\">\n",
       "  <autor>Corets, Eva</autor>\n",
       "  <titulo>La casa de la carretera 31</titulo>\n",
       "  <genero>Terror</genero>\n",
       "  <precio>5.95</precio>\n",
       "  <fecha_publicacion>2001-09-10</fecha_publicacion>\n",
       " </libro>\n",
       " <libro id=\"bk106\">\n",
       "  <autor>Randall, Cynthia</autor>\n",
       "  <titulo>Un encuentro inesperado</titulo>\n",
       "  <genero>Romance</genero>\n",
       "  <precio>4.95</precio>\n",
       "  <fecha_publicacion>2000-09-02</fecha_publicacion>\n",
       " </libro>\n",
       " <libro id=\"bk107\">\n",
       "  <autor>Thurman, Paula</autor>\n",
       "  <titulo>Ubik</titulo>\n",
       "  <genero>sci-fi</genero>\n",
       "  <precio>4.95</precio>\n",
       "  <fecha_publicacion>2000-11-02</fecha_publicacion>\n",
       " </libro>\n",
       " <libro id=\"bk109\">\n",
       "  <autor>Galos, Mike</autor>\n",
       "  <titulo>Visual Studio 7: Un guia completa</titulo>\n",
       "  <genero>Computacion</genero>\n",
       "  <precio>49.95</precio>\n",
       "  <fecha_publicacion>2001-04-16</fecha_publicacion>\n",
       " </libro>\n",
       "</catalog>\n",
       "\n",
       "\n",
       "attr(,\"class\")\n",
       "[1] \"XMLDocumentContent\"\n",
       "\n",
       "$dtd\n",
       "$external\n",
       "NULL\n",
       "\n",
       "$internal\n",
       "NULL\n",
       "\n",
       "attr(,\"class\")\n",
       "[1] \"DTDList\"\n",
       "\n",
       "attr(,\"class\")\n",
       "[1] \"XMLDocument\"         \"XMLAbstractDocument\""
      ]
     },
     "metadata": {},
     "output_type": "display_data"
    }
   ],
   "source": [
    "xmlParse(\"libros1.xml\", useInternalNodes = FALSE)\n",
    "xmlTreeParse(\"libros1.xml\") # Lo mismo"
   ]
  },
  {
   "cell_type": "markdown",
   "metadata": {},
   "source": [
    "[XPath](https://en.wikipedia.org/wiki/XPath) es un lenguaje para interrogar documentos XML, que le permite encontrar nodos que corresponden a algún filtro. En este ejemplo del paquete `learnr` siguiente buscamos en cualquier parte del documento (//) para un nodo llamado `variable` donde (`[]`) el atributo name (`@`) contiene la cadena `show`."
   ]
  },
  {
   "cell_type": "code",
   "execution_count": 51,
   "metadata": {},
   "outputs": [
    {
     "data": {
      "text/plain": [
       "[[1]]\n",
       "<variable name=\"show_coef_Pvalues\" type=\"character\">\n",
       "  <value>TRUE</value>\n",
       "</variable> \n",
       "\n",
       "[[2]]\n",
       "<variable name=\"show_error_messages\" type=\"character\">\n",
       "  <value>TRUE</value>\n",
       "</variable> \n",
       "\n",
       "[[3]]\n",
       "<variable name=\"show_signif_stars\" type=\"character\">\n",
       "  <value>TRUE</value>\n",
       "</variable> \n"
      ]
     },
     "metadata": {},
     "output_type": "display_data"
    }
   ],
   "source": [
    "r_opciones <- xmlParse(file = \"options.xml\") # Ejemplo del libro Learn R de Richard Cotton\n",
    "xpathSApply(r_opciones, \"//variable[contains(@name, 'show')]\")\n"
   ]
  },
  {
   "cell_type": "markdown",
   "metadata": {},
   "source": [
    "Este tipo de consulta es muy útil para extraer datos de páginas web. Las funciones equivalentes para importar páginas `HTML` se denominan, `htmlParse` y `htmlTreeParse` y se comportan de la misma manera.\n",
    "\n",
    "`XML` también es muy útil para serializar objetos en un formato que puede ser leído por la mayoría de otras parte del software. El paquete `XML` no proporciona funcionalidad de serialización, pero está disponible a través de la función `makexml` en el paquete `Runiversal`.\n",
    "\n",
    "El archivo `options.xml` se creó con este código:"
   ]
  },
  {
   "cell_type": "code",
   "execution_count": 52,
   "metadata": {},
   "outputs": [],
   "source": [
    "#install.packages(\"Runiversal\")\n",
    "library(Runiversal)\n",
    "ops <- as.list(options())\n",
    "cat(makexml(ops), file = \"options.xml\")"
   ]
  },
  {
   "cell_type": "markdown",
   "metadata": {},
   "source": [
    "### Archivos YAML y JSON\n",
    "\n",
    "Uno de los  principales problemas con `XML` es que se necesita especificar explícitamente el tipo de los datos (no se puede decir la diferencia entre una cadena y un número por defecto), lo que lo hace aún más detallado. Cuando los tamaños de archivo son importantes (como cuando se están transfiriendo grandes conjuntos de datos a través de una red), estas espcificaciones puede ser un verdadero problema.\n",
    "\n",
    "`YAML` y su subconjunto `JSON` fueron inventados para resolver estos problemas. Son mucho más adecuados para transportar muchos conjuntos de datos (en particular, datos numéricos y matrices) a través de redes. `JSON` es el estándar para que las aplicaciones web puedan transmitir datos entre sí.\n",
    "\n",
    "Existen dos paquetes para tratar los datos `JSON`: `RJSONIO` y `rjson`. Durante mucho tiempo `rjson` tuvo problemas de rendimiento, por lo que el único paquete que podría recomendarse fue `RJSONIO`. Los problemas de rendimiento se han corregido, por lo que es una herramienta a considerar. En la mayoría de los casos, no importa qué paquete utilice. Las diferencias se producen cuando nos encontramos con un archivo `JSON`  no estándar.\n",
    "\n",
    "`RJSONIO` es generalmente más tolerante que `rjson` al leer un archivo `JSON` incorrecto. Si esto es una buena idea o no depende de su  uso. Si cree que es mejor importar datos `JSON` con un mínimo de alboroto, entonces `RJSONIO` es  mejor. Si desea que se le avise de los problemas con los datos `JSON` , entonces `rjson` es  mejor."
   ]
  },
  {
   "cell_type": "code",
   "execution_count": 53,
   "metadata": {},
   "outputs": [
    {
     "name": "stdout",
     "output_type": "stream",
     "text": [
      "[[1]]\n",
      "[[1]]$escritor\n",
      "[1] \"Mark Ross\"\n",
      "\n",
      "[[1]]$nationalidad\n",
      "[1] \"USA\"\n",
      "\n",
      "[[1]]$libros\n",
      "[[1]]$libros[[1]]\n",
      "[[1]]$libros[[1]]$titulo\n",
      "[1] \"XML Cookbook\"\n",
      "\n",
      "[[1]]$libros[[1]]$precio\n",
      "[1] 23.56\n",
      "\n",
      "\n",
      "[[1]]$libros[[2]]\n",
      "[[1]]$libros[[2]]$titulo\n",
      "[1] \"Python Fundamentals\"\n",
      "\n",
      "[[1]]$libros[[2]]$precio\n",
      "[1] 50.7\n",
      "\n",
      "\n",
      "[[1]]$libros[[3]]\n",
      "[[1]]$libros[[3]]$titulo\n",
      "[1] \"The NumPy library\"\n",
      "\n",
      "[[1]]$libros[[3]]$precio\n",
      "[1] 12.3\n",
      "\n",
      "\n",
      "\n",
      "\n",
      "[[2]]\n",
      "[[2]]$escritor\n",
      "[1] \"Barbara Bracket\"\n",
      "\n",
      "[[2]]$nationalidad\n",
      "[1] \"UK\"\n",
      "\n",
      "[[2]]$libros\n",
      "[[2]]$libros[[1]]\n",
      "[[2]]$libros[[1]]$titulo\n",
      "[1] \"Java Enterprise\"\n",
      "\n",
      "[[2]]$libros[[1]]$precio\n",
      "[1] 28.6\n",
      "\n",
      "\n",
      "[[2]]$libros[[2]]\n",
      "[[2]]$libros[[2]]$titulo\n",
      "[1] \"HTML5\"\n",
      "\n",
      "[[2]]$libros[[2]]$precio\n",
      "[1] 31.35\n",
      "\n",
      "\n",
      "[[2]]$libros[[3]]\n",
      "[[2]]$libros[[3]]$titulo\n",
      "[1] \"Python for Dummies\"\n",
      "\n",
      "[[2]]$libros[[3]]$precio\n",
      "[1] 28\n",
      "\n",
      "\n",
      "\n",
      "\n"
     ]
    }
   ],
   "source": [
    "#install.packages(\"rjson\")\n",
    "\n",
    "library(\"rjson\")\n",
    "resultado_json <- fromJSON(file = \"libros.json\")\n",
    "print(resultado_json)"
   ]
  },
  {
   "cell_type": "markdown",
   "metadata": {},
   "source": [
    "Podemos convertir los datos extraídos en un marco de datos `R` para un análisis posterior usando la función `as.data.frame()`:"
   ]
  },
  {
   "cell_type": "code",
   "execution_count": 54,
   "metadata": {},
   "outputs": [
    {
     "name": "stdout",
     "output_type": "stream",
     "text": [
      "   escritor nationalidad libros.titulo libros.precio     libros.titulo.1\n",
      "1 Mark Ross          USA  XML Cookbook         23.56 Python Fundamentals\n",
      "  libros.precio.1   libros.titulo.2 libros.precio.2      escritor.1\n",
      "1            50.7 The NumPy library            12.3 Barbara Bracket\n",
      "  nationalidad.1 libros.titulo.3 libros.precio.3 libros.titulo.4\n",
      "1             UK Java Enterprise            28.6           HTML5\n",
      "  libros.precio.4    libros.titulo.5 libros.precio.5\n",
      "1           31.35 Python for Dummies              28\n"
     ]
    }
   ],
   "source": [
    "json_data_frame <- as.data.frame(resultado_json)\n",
    "print(json_data_frame)"
   ]
  },
  {
   "cell_type": "markdown",
   "metadata": {
    "collapsed": true
   },
   "source": [
    "Afortunadamente, ambos paquetes tienen idénticas funciones para leer y escribir datos en `JSON`, por lo que es fácil intercambiar funciones  entre ellos. En el siguiente ejemplo, los dos puntos, `::`, se utilizan para distinguir de qué paquete se debe tomar cada función, en este caso de `RJSONIO`:"
   ]
  },
  {
   "cell_type": "code",
   "execution_count": 55,
   "metadata": {},
   "outputs": [
    {
     "data": {
      "text/html": [
       "<dl>\n",
       "\t<dt>$Kingston</dt>\n",
       "\t\t<dd><dl>\n",
       "\t<dt>$population</dt>\n",
       "\t\t<dd>587798</dd>\n",
       "\t<dt>$coordinates</dt>\n",
       "\t\t<dd><dl class=dl-horizontal>\n",
       "\t<dt>longitude</dt>\n",
       "\t\t<dd>17.9833</dd>\n",
       "\t<dt>latitude</dt>\n",
       "\t\t<dd>76.8</dd>\n",
       "</dl>\n",
       "</dd>\n",
       "</dl>\n",
       "</dd>\n",
       "\t<dt>$`Montego Bay`</dt>\n",
       "\t\t<dd><dl>\n",
       "\t<dt>$population</dt>\n",
       "\t\t<dd>96488</dd>\n",
       "\t<dt>$coordinates</dt>\n",
       "\t\t<dd><dl class=dl-horizontal>\n",
       "\t<dt>longitude</dt>\n",
       "\t\t<dd>18.4666</dd>\n",
       "\t<dt>latitude</dt>\n",
       "\t\t<dd>77.9166</dd>\n",
       "</dl>\n",
       "</dd>\n",
       "</dl>\n",
       "</dd>\n",
       "</dl>\n"
      ],
      "text/latex": [
       "\\begin{description}\n",
       "\\item[\\$Kingston] \\begin{description}\n",
       "\\item[\\$population] 587798\n",
       "\\item[\\$coordinates] \\begin{description*}\n",
       "\\item[longitude] 17.9833\n",
       "\\item[latitude] 76.8\n",
       "\\end{description*}\n",
       "\n",
       "\\end{description}\n",
       "\n",
       "\\item[\\$`Montego Bay`] \\begin{description}\n",
       "\\item[\\$population] 96488\n",
       "\\item[\\$coordinates] \\begin{description*}\n",
       "\\item[longitude] 18.4666\n",
       "\\item[latitude] 77.9166\n",
       "\\end{description*}\n",
       "\n",
       "\\end{description}\n",
       "\n",
       "\\end{description}\n"
      ],
      "text/markdown": [
       "$Kingston\n",
       ":   $population\n",
       ":   587798\n",
       "$coordinates\n",
       ":   longitude\n",
       ":   17.9833latitude\n",
       ":   76.8\n",
       "\n",
       "\n",
       "\n",
       "\n",
       "\n",
       "$`Montego Bay`\n",
       ":   $population\n",
       ":   96488\n",
       "$coordinates\n",
       ":   longitude\n",
       ":   18.4666latitude\n",
       ":   77.9166\n",
       "\n",
       "\n",
       "\n",
       "\n",
       "\n",
       "\n",
       "\n"
      ],
      "text/plain": [
       "$Kingston\n",
       "$Kingston$population\n",
       "[1] 587798\n",
       "\n",
       "$Kingston$coordinates\n",
       "longitude  latitude \n",
       "  17.9833   76.8000 \n",
       "\n",
       "\n",
       "$`Montego Bay`\n",
       "$`Montego Bay`$population\n",
       "[1] 96488\n",
       "\n",
       "$`Montego Bay`$coordinates\n",
       "longitude  latitude \n",
       "  18.4666   77.9166 \n",
       "\n"
      ]
     },
     "metadata": {},
     "output_type": "display_data"
    }
   ],
   "source": [
    "# install.packages(\"RJSONIO\")\n",
    "\n",
    "jamaican_cities_RJSONIO <- RJSONIO::fromJSON(\"Jamaican.Cities.json\") # Ejemplo desde LearningR de Richard Cotton\"\n",
    "jamaican_cities_RJSONIO"
   ]
  },
  {
   "cell_type": "markdown",
   "metadata": {
    "collapsed": true
   },
   "source": [
    "Se debe notar que `RJSONIO` simplifica las coordenadas para que cada ciudad sea un vector. Este comportamiento se puede desactivar con `simplify = FALSE`, lo que resulta en exactamente en el mismo objeto que el generado por `rjson`. \n",
    "\n",
    "La especificación de `JSON` no permite valores infinitos o `NaN`. Los dos paquetes tratan estos valores de forma diferente, `RJSONIO` asigna `NaN` y `NA` al valor nulo de JSON `null`, pero conserva el infinito positivo y negativo, mientras que `rjson` convierte todos estos valores a cadenas:"
   ]
  },
  {
   "cell_type": "code",
   "execution_count": 56,
   "metadata": {},
   "outputs": [
    {
     "name": "stderr",
     "output_type": "stream",
     "text": [
      "Warning message in .local(x, container, collapse, ..., .level = .level, .withNames = .withNames, :\n",
      "“non-fininte values in numeric vector may not be approriately represented in JSON”"
     ]
    },
    {
     "data": {
      "text/html": [
       "<span style=white-space:pre-wrap>'[ null, null,   Infinity,  - Infinity ]'</span>"
      ],
      "text/latex": [
       "'{[} null, null,   Infinity,  - Infinity {]}'"
      ],
      "text/markdown": [
       "<span style=white-space:pre-wrap>'[ null, null,   Infinity,  - Infinity ]'</span>"
      ],
      "text/plain": [
       "[1] \"[ null, null,   Infinity,  - Infinity ]\""
      ]
     },
     "metadata": {},
     "output_type": "display_data"
    }
   ],
   "source": [
    "numeros_especiales <- c(NaN, NA, Inf, -Inf)\n",
    "RJSONIO::toJSON(numeros_especiales)"
   ]
  },
  {
   "cell_type": "code",
   "execution_count": 57,
   "metadata": {},
   "outputs": [
    {
     "data": {
      "text/html": [
       "'[\"NaN\",\"NA\",\"Inf\",\"-Inf\"]'"
      ],
      "text/latex": [
       "'{[}\"NaN\",\"NA\",\"Inf\",\"-Inf\"{]}'"
      ],
      "text/markdown": [
       "'[\"NaN\",\"NA\",\"Inf\",\"-Inf\"]'"
      ],
      "text/plain": [
       "[1] \"[\\\"NaN\\\",\\\"NA\\\",\\\"Inf\\\",\\\"-Inf\\\"]\""
      ]
     },
     "metadata": {},
     "output_type": "display_data"
    }
   ],
   "source": [
    "rjson::toJSON(numeros_especiales)"
   ]
  },
  {
   "cell_type": "markdown",
   "metadata": {
    "collapsed": true
   },
   "source": [
    "Si te encuentras lidiando mucho con estos tipos de números especiales (o quieres escribir comentarios en tu objeto de datos), entonces es mejor usar `YAML`. El paquete `yaml` tiene dos funciones para importar datos `YAML`. `yaml.load` acepta una cadena de `YAML` y la convierte en un objeto `R` y `yaml.load_file` hace lo mismo, pero trata esta  entrada de cadena como una ruta a un archivo que contiene `YAML`:"
   ]
  },
  {
   "cell_type": "code",
   "execution_count": 58,
   "metadata": {},
   "outputs": [
    {
     "data": {
      "text/html": [
       "<dl>\n",
       "\t<dt>$Kingston</dt>\n",
       "\t\t<dd><dl>\n",
       "\t<dt>$population</dt>\n",
       "\t\t<dd>587798</dd>\n",
       "\t<dt>$coordinates</dt>\n",
       "\t\t<dd><dl>\n",
       "\t<dt>$longitude</dt>\n",
       "\t\t<dd>17.9833</dd>\n",
       "\t<dt>$latitude</dt>\n",
       "\t\t<dd>76.8</dd>\n",
       "</dl>\n",
       "</dd>\n",
       "</dl>\n",
       "</dd>\n",
       "\t<dt>$`Montego Bay`</dt>\n",
       "\t\t<dd><dl>\n",
       "\t<dt>$population</dt>\n",
       "\t\t<dd>96488</dd>\n",
       "\t<dt>$coordinates</dt>\n",
       "\t\t<dd><dl>\n",
       "\t<dt>$longitude</dt>\n",
       "\t\t<dd>18.4666</dd>\n",
       "\t<dt>$latitude</dt>\n",
       "\t\t<dd>77.9166</dd>\n",
       "</dl>\n",
       "</dd>\n",
       "</dl>\n",
       "</dd>\n",
       "</dl>\n"
      ],
      "text/latex": [
       "\\begin{description}\n",
       "\\item[\\$Kingston] \\begin{description}\n",
       "\\item[\\$population] 587798\n",
       "\\item[\\$coordinates] \\begin{description}\n",
       "\\item[\\$longitude] 17.9833\n",
       "\\item[\\$latitude] 76.8\n",
       "\\end{description}\n",
       "\n",
       "\\end{description}\n",
       "\n",
       "\\item[\\$`Montego Bay`] \\begin{description}\n",
       "\\item[\\$population] 96488\n",
       "\\item[\\$coordinates] \\begin{description}\n",
       "\\item[\\$longitude] 18.4666\n",
       "\\item[\\$latitude] 77.9166\n",
       "\\end{description}\n",
       "\n",
       "\\end{description}\n",
       "\n",
       "\\end{description}\n"
      ],
      "text/markdown": [
       "$Kingston\n",
       ":   $population\n",
       ":   587798\n",
       "$coordinates\n",
       ":   $longitude\n",
       ":   17.9833\n",
       "$latitude\n",
       ":   76.8\n",
       "\n",
       "\n",
       "\n",
       "\n",
       "\n",
       "\n",
       "$`Montego Bay`\n",
       ":   $population\n",
       ":   96488\n",
       "$coordinates\n",
       ":   $longitude\n",
       ":   18.4666\n",
       "$latitude\n",
       ":   77.9166\n",
       "\n",
       "\n",
       "\n",
       "\n",
       "\n",
       "\n",
       "\n",
       "\n"
      ],
      "text/plain": [
       "$Kingston\n",
       "$Kingston$population\n",
       "[1] 587798\n",
       "\n",
       "$Kingston$coordinates\n",
       "$Kingston$coordinates$longitude\n",
       "[1] 17.9833\n",
       "\n",
       "$Kingston$coordinates$latitude\n",
       "[1] 76.8\n",
       "\n",
       "\n",
       "\n",
       "$`Montego Bay`\n",
       "$`Montego Bay`$population\n",
       "[1] 96488\n",
       "\n",
       "$`Montego Bay`$coordinates\n",
       "$`Montego Bay`$coordinates$longitude\n",
       "[1] 18.4666\n",
       "\n",
       "$`Montego Bay`$coordinates$latitude\n",
       "[1] 77.9166\n",
       "\n",
       "\n"
      ]
     },
     "metadata": {},
     "output_type": "display_data"
    }
   ],
   "source": [
    "# install.packages(\"yaml\")\n",
    "\n",
    "library(yaml)\n",
    "yaml.load_file(\"Jamaican.Cities.json\")"
   ]
  },
  {
   "cell_type": "markdown",
   "metadata": {},
   "source": [
    "`as.yaml` realiza la tarea opuesta, convirtiendo objetos `R` en cadenas `YAML`."
   ]
  },
  {
   "cell_type": "code",
   "execution_count": 59,
   "metadata": {},
   "outputs": [
    {
     "name": "stdout",
     "output_type": "stream",
     "text": [
      "- 1\n",
      "- 2\n",
      "- 3\n",
      "- 4\n",
      "- 5\n",
      " \n"
     ]
    }
   ],
   "source": [
    "yaml_objeto <- as.yaml(1:5)\n",
    "cat(yaml_objeto, \"\\n\")"
   ]
  },
  {
   "cell_type": "markdown",
   "metadata": {},
   "source": [
    "### Lectura de archivos binarios\n",
    "\n",
    "Muchas piezas de software almacenan sus datos en formatos binarios (algunos de propiedad, algunos conformes a los estándares definidos públicamente). Los formatos binarios son a menudo más pequeños que sus equivalentes de texto, por lo que las ganancias de rendimiento suelen ser posibles mediante el uso de un formato binario, a expensas de la legibilidad humana.\n",
    "\n",
    "Muchos formatos de archivos binarios son propietarios, lo que va en contra de los principios del software libre. Si tiene la opción, normalmente es mejor evitar estos formatos para detener que sus datos se bloqueen en una plataforma sobre la que carece de control."
   ]
  },
  {
   "cell_type": "markdown",
   "metadata": {},
   "source": [
    "### Lectura y escritura de hojas de cálculo Excel\n",
    "\n",
    "Una ventaja de la importación de los datos de formato de texto como CSV es la neutralidad de software, es decir, no tiene que confiar en cierto software para leer los datos y el archivo es directamente legible por un ser humano. Sin embargo, su desventaja es evidente también, no podemos realizar cálculos directamente sobre los datos representados en un editor de texto porque el contenido es texto puro.\n",
    "\n",
    "Otro formato popular para almacenar datos tabulares es el libro de Excel. Un libro de Excel contiene una o más hojas de cálculo. Cada hoja de trabajo es una cuadrícula en la que puede rellenar textos y valores para crear tablas. Con las tablas, puede realizar fácilmente cálculos dentro de una tabla, entre tablas o incluso entre hojas de cálculo. `Microsoft Excel` es un software potente, pero su formato de datos (`.xls` para Excel 97-2003 y `.xlsx` desde Excel 2007) no es legible directamente. \n",
    "\n",
    "Aunque no se proporciona ninguna función integrada para leer un libro de Excel, varios paquetes R están diseñados para trabajar con él. El paquete  más simple es [readxl](https://github.com/hadley/readxl), que hace mucho más fácil extraer las tabla almacenadas en una sola hoja de un libro de Excel."
   ]
  },
  {
   "cell_type": "code",
   "execution_count": 60,
   "metadata": {},
   "outputs": [
    {
     "data": {
      "text/html": [
       "<table>\n",
       "<thead><tr><th scope=col>Fechas</th><th scope=col>Region</th><th scope=col>Rep</th><th scope=col>Item</th><th scope=col>Unidades</th><th scope=col>Costounitario</th><th scope=col>Total</th></tr></thead>\n",
       "<tbody>\n",
       "\t<tr><td>1/6/2016  </td><td>Este      </td><td>Lara      </td><td>Lapiz     </td><td>95        </td><td>  1.99    </td><td> 189.05   </td></tr>\n",
       "\t<tr><td>1/23/2016 </td><td>Central   </td><td>Espinoza  </td><td>Pegamento </td><td>50        </td><td> 19.99    </td><td> 999.50   </td></tr>\n",
       "\t<tr><td>2/9/2016  </td><td>Central   </td><td>Macedo    </td><td>Lapiz     </td><td>36        </td><td>  4.99    </td><td> 179.64   </td></tr>\n",
       "\t<tr><td>2/26/2016 </td><td>Central   </td><td>Gil       </td><td>Lapicero  </td><td>27        </td><td> 19.99    </td><td> 539.73   </td></tr>\n",
       "\t<tr><td>3/15/2016 </td><td>Oeste     </td><td>Avila     </td><td>Lapiz     </td><td>56        </td><td>  2.99    </td><td> 167.44   </td></tr>\n",
       "\t<tr><td>4/1/2016  </td><td>Este      </td><td>Lara      </td><td>Pegamento </td><td>60        </td><td>  4.99    </td><td> 299.40   </td></tr>\n",
       "\t<tr><td>4/18/2016 </td><td>Central   </td><td>Diaz      </td><td>Lapiz     </td><td>75        </td><td>  1.99    </td><td> 149.25   </td></tr>\n",
       "\t<tr><td>5/5/2016  </td><td>Central   </td><td>Macedo    </td><td>Lapiz     </td><td>90        </td><td>  4.99    </td><td> 449.10   </td></tr>\n",
       "\t<tr><td>5/22/2016 </td><td>Oeste     </td><td>Bazan     </td><td>Lapiz     </td><td>32        </td><td>  1.99    </td><td>  63.68   </td></tr>\n",
       "\t<tr><td>6/8/2016  </td><td>Este      </td><td>Lara      </td><td>Pegamento </td><td>60        </td><td>  8.99    </td><td> 539.40   </td></tr>\n",
       "\t<tr><td>6/25/2016 </td><td>Central   </td><td>Bonilla   </td><td>Lapiz     </td><td>90        </td><td>  4.99    </td><td> 449.10   </td></tr>\n",
       "\t<tr><td>7/12/2016 </td><td>Este      </td><td>Hinostroza</td><td>Pegamento </td><td>29        </td><td>  1.99    </td><td>  57.71   </td></tr>\n",
       "\t<tr><td>7/29/2016 </td><td>Este      </td><td>Palacios  </td><td>Pegamento </td><td>81        </td><td> 19.99    </td><td>1619.19   </td></tr>\n",
       "\t<tr><td>8/15/2016 </td><td>Este      </td><td>Lara      </td><td>Lapiz     </td><td>35        </td><td>  4.99    </td><td> 174.65   </td></tr>\n",
       "\t<tr><td>9/1/2016  </td><td>Central   </td><td>Caceres   </td><td>Pupitre   </td><td> 2        </td><td>125.00    </td><td> 250.00   </td></tr>\n",
       "\t<tr><td>9/18/2016 </td><td>Este      </td><td>Lara      </td><td>Cajas     </td><td>16        </td><td> 15.99    </td><td> 255.84   </td></tr>\n",
       "\t<tr><td>10/5/2016 </td><td>Central   </td><td>Bonilla   </td><td>Pegamento </td><td>28        </td><td>  8.99    </td><td> 251.72   </td></tr>\n",
       "\t<tr><td>10/22/2016</td><td>Este      </td><td>Lara      </td><td>Lapicero  </td><td>64        </td><td>  8.99    </td><td> 575.36   </td></tr>\n",
       "\t<tr><td>11/8/2016 </td><td>Este      </td><td>Palacios  </td><td>Lapicero  </td><td>15        </td><td> 19.99    </td><td> 299.85   </td></tr>\n",
       "\t<tr><td>11/25/2016</td><td>Central   </td><td>Espinoza  </td><td>Cajas     </td><td>96        </td><td>  4.99    </td><td> 479.04   </td></tr>\n",
       "\t<tr><td>12/12/2016</td><td>Central   </td><td>Caceres   </td><td>Lapiz     </td><td>67        </td><td>  1.29    </td><td>  86.43   </td></tr>\n",
       "\t<tr><td>12/29/2016</td><td>Este      </td><td>Palacios  </td><td>Cajas     </td><td>74        </td><td> 15.99    </td><td>1183.26   </td></tr>\n",
       "\t<tr><td>1/15/2017 </td><td>Central   </td><td>Gil       </td><td>Pegamento </td><td>46        </td><td>  8.99    </td><td> 413.54   </td></tr>\n",
       "\t<tr><td>2/1/2017  </td><td>Central   </td><td>Caceres   </td><td>Pegamento </td><td>87        </td><td> 15.00    </td><td>1305.00   </td></tr>\n",
       "\t<tr><td>2/18/2017 </td><td>Este      </td><td>Lara      </td><td>Pegamento </td><td> 4        </td><td>  4.99    </td><td>  19.96   </td></tr>\n",
       "\t<tr><td>3/7/2017  </td><td>Oeste     </td><td>Avila     </td><td>Pegamento </td><td> 7        </td><td> 19.99    </td><td> 139.93   </td></tr>\n",
       "\t<tr><td>3/24/2017 </td><td>Central   </td><td>Macedo    </td><td>Cajas     </td><td>50        </td><td>  4.99    </td><td> 249.50   </td></tr>\n",
       "\t<tr><td>4/10/2017 </td><td>Central   </td><td>Diaz      </td><td>Lapiz     </td><td>66        </td><td>  1.99    </td><td> 131.34   </td></tr>\n",
       "\t<tr><td>4/27/2017 </td><td>Este      </td><td>Hinostroza</td><td>Lapicero  </td><td>96        </td><td>  4.99    </td><td> 479.04   </td></tr>\n",
       "\t<tr><td>5/14/2017 </td><td>Central   </td><td>Gil       </td><td>Lapiz     </td><td>53        </td><td>  1.29    </td><td>  68.37   </td></tr>\n",
       "\t<tr><td>5/31/2017 </td><td>Central   </td><td>Gil       </td><td>Pegamento </td><td>80        </td><td>  8.99    </td><td> 719.20   </td></tr>\n",
       "\t<tr><td>6/17/2017 </td><td>Central   </td><td>Espinoza  </td><td>Pupitre   </td><td> 5        </td><td>125.00    </td><td> 625.00   </td></tr>\n",
       "\t<tr><td>7/4/2017  </td><td>Este      </td><td>Lara      </td><td>Cajas     </td><td>62        </td><td>  4.99    </td><td> 309.38   </td></tr>\n",
       "\t<tr><td>7/21/2017 </td><td>Central   </td><td>Bonilla   </td><td>Cajas     </td><td>55        </td><td> 12.49    </td><td> 686.95   </td></tr>\n",
       "\t<tr><td>8/7/2017  </td><td>Central   </td><td>Espinoza  </td><td>Cajas     </td><td>42        </td><td> 23.95    </td><td>1005.90   </td></tr>\n",
       "\t<tr><td>8/24/2017 </td><td>Oeste     </td><td>Avila     </td><td>Pupitre   </td><td> 3        </td><td>275.00    </td><td> 825.00   </td></tr>\n",
       "\t<tr><td>9/10/2017 </td><td>Central   </td><td>Gil       </td><td>Lapiz     </td><td> 7        </td><td>  1.29    </td><td>   9.03   </td></tr>\n",
       "\t<tr><td>9/27/2017 </td><td>Oeste     </td><td>Avila     </td><td>Lapicero  </td><td>76        </td><td>  1.99    </td><td> 151.24   </td></tr>\n",
       "\t<tr><td>10/14/2017</td><td>Oeste     </td><td>Bazan     </td><td>Pegamento </td><td>57        </td><td> 19.99    </td><td>1139.43   </td></tr>\n",
       "\t<tr><td>10/31/2017</td><td>Central   </td><td>Diaz      </td><td>Lapiz     </td><td>14        </td><td>  1.29    </td><td>  18.06   </td></tr>\n",
       "\t<tr><td>11/17/2017</td><td>Central   </td><td>Macedo    </td><td>Pegamento </td><td>11        </td><td>  4.99    </td><td>  54.89   </td></tr>\n",
       "\t<tr><td>12/4/2017 </td><td>Central   </td><td>Macedo    </td><td>Pegamento </td><td>94        </td><td> 19.99    </td><td>1879.06   </td></tr>\n",
       "\t<tr><td>12/21/2017</td><td>Central   </td><td>Diaz      </td><td>Pegamento </td><td>28        </td><td>  4.99    </td><td> 139.70   </td></tr>\n",
       "</tbody>\n",
       "</table>\n"
      ],
      "text/latex": [
       "\\begin{tabular}{r|lllllll}\n",
       " Fechas & Region & Rep & Item & Unidades & Costounitario & Total\\\\\n",
       "\\hline\n",
       "\t 1/6/2016   & Este       & Lara       & Lapiz      & 95         &   1.99     &  189.05   \\\\\n",
       "\t 1/23/2016  & Central    & Espinoza   & Pegamento  & 50         &  19.99     &  999.50   \\\\\n",
       "\t 2/9/2016   & Central    & Macedo     & Lapiz      & 36         &   4.99     &  179.64   \\\\\n",
       "\t 2/26/2016  & Central    & Gil        & Lapicero   & 27         &  19.99     &  539.73   \\\\\n",
       "\t 3/15/2016  & Oeste      & Avila      & Lapiz      & 56         &   2.99     &  167.44   \\\\\n",
       "\t 4/1/2016   & Este       & Lara       & Pegamento  & 60         &   4.99     &  299.40   \\\\\n",
       "\t 4/18/2016  & Central    & Diaz       & Lapiz      & 75         &   1.99     &  149.25   \\\\\n",
       "\t 5/5/2016   & Central    & Macedo     & Lapiz      & 90         &   4.99     &  449.10   \\\\\n",
       "\t 5/22/2016  & Oeste      & Bazan      & Lapiz      & 32         &   1.99     &   63.68   \\\\\n",
       "\t 6/8/2016   & Este       & Lara       & Pegamento  & 60         &   8.99     &  539.40   \\\\\n",
       "\t 6/25/2016  & Central    & Bonilla    & Lapiz      & 90         &   4.99     &  449.10   \\\\\n",
       "\t 7/12/2016  & Este       & Hinostroza & Pegamento  & 29         &   1.99     &   57.71   \\\\\n",
       "\t 7/29/2016  & Este       & Palacios   & Pegamento  & 81         &  19.99     & 1619.19   \\\\\n",
       "\t 8/15/2016  & Este       & Lara       & Lapiz      & 35         &   4.99     &  174.65   \\\\\n",
       "\t 9/1/2016   & Central    & Caceres    & Pupitre    &  2         & 125.00     &  250.00   \\\\\n",
       "\t 9/18/2016  & Este       & Lara       & Cajas      & 16         &  15.99     &  255.84   \\\\\n",
       "\t 10/5/2016  & Central    & Bonilla    & Pegamento  & 28         &   8.99     &  251.72   \\\\\n",
       "\t 10/22/2016 & Este       & Lara       & Lapicero   & 64         &   8.99     &  575.36   \\\\\n",
       "\t 11/8/2016  & Este       & Palacios   & Lapicero   & 15         &  19.99     &  299.85   \\\\\n",
       "\t 11/25/2016 & Central    & Espinoza   & Cajas      & 96         &   4.99     &  479.04   \\\\\n",
       "\t 12/12/2016 & Central    & Caceres    & Lapiz      & 67         &   1.29     &   86.43   \\\\\n",
       "\t 12/29/2016 & Este       & Palacios   & Cajas      & 74         &  15.99     & 1183.26   \\\\\n",
       "\t 1/15/2017  & Central    & Gil        & Pegamento  & 46         &   8.99     &  413.54   \\\\\n",
       "\t 2/1/2017   & Central    & Caceres    & Pegamento  & 87         &  15.00     & 1305.00   \\\\\n",
       "\t 2/18/2017  & Este       & Lara       & Pegamento  &  4         &   4.99     &   19.96   \\\\\n",
       "\t 3/7/2017   & Oeste      & Avila      & Pegamento  &  7         &  19.99     &  139.93   \\\\\n",
       "\t 3/24/2017  & Central    & Macedo     & Cajas      & 50         &   4.99     &  249.50   \\\\\n",
       "\t 4/10/2017  & Central    & Diaz       & Lapiz      & 66         &   1.99     &  131.34   \\\\\n",
       "\t 4/27/2017  & Este       & Hinostroza & Lapicero   & 96         &   4.99     &  479.04   \\\\\n",
       "\t 5/14/2017  & Central    & Gil        & Lapiz      & 53         &   1.29     &   68.37   \\\\\n",
       "\t 5/31/2017  & Central    & Gil        & Pegamento  & 80         &   8.99     &  719.20   \\\\\n",
       "\t 6/17/2017  & Central    & Espinoza   & Pupitre    &  5         & 125.00     &  625.00   \\\\\n",
       "\t 7/4/2017   & Este       & Lara       & Cajas      & 62         &   4.99     &  309.38   \\\\\n",
       "\t 7/21/2017  & Central    & Bonilla    & Cajas      & 55         &  12.49     &  686.95   \\\\\n",
       "\t 8/7/2017   & Central    & Espinoza   & Cajas      & 42         &  23.95     & 1005.90   \\\\\n",
       "\t 8/24/2017  & Oeste      & Avila      & Pupitre    &  3         & 275.00     &  825.00   \\\\\n",
       "\t 9/10/2017  & Central    & Gil        & Lapiz      &  7         &   1.29     &    9.03   \\\\\n",
       "\t 9/27/2017  & Oeste      & Avila      & Lapicero   & 76         &   1.99     &  151.24   \\\\\n",
       "\t 10/14/2017 & Oeste      & Bazan      & Pegamento  & 57         &  19.99     & 1139.43   \\\\\n",
       "\t 10/31/2017 & Central    & Diaz       & Lapiz      & 14         &   1.29     &   18.06   \\\\\n",
       "\t 11/17/2017 & Central    & Macedo     & Pegamento  & 11         &   4.99     &   54.89   \\\\\n",
       "\t 12/4/2017  & Central    & Macedo     & Pegamento  & 94         &  19.99     & 1879.06   \\\\\n",
       "\t 12/21/2017 & Central    & Diaz       & Pegamento  & 28         &   4.99     &  139.70   \\\\\n",
       "\\end{tabular}\n"
      ],
      "text/markdown": [
       "\n",
       "Fechas | Region | Rep | Item | Unidades | Costounitario | Total | \n",
       "|---|---|---|---|---|---|---|---|---|---|---|---|---|---|---|---|---|---|---|---|---|---|---|---|---|---|---|---|---|---|---|---|---|---|---|---|---|---|---|---|---|---|---|\n",
       "| 1/6/2016   | Este       | Lara       | Lapiz      | 95         |   1.99     |  189.05    | \n",
       "| 1/23/2016  | Central    | Espinoza   | Pegamento  | 50         |  19.99     |  999.50    | \n",
       "| 2/9/2016   | Central    | Macedo     | Lapiz      | 36         |   4.99     |  179.64    | \n",
       "| 2/26/2016  | Central    | Gil        | Lapicero   | 27         |  19.99     |  539.73    | \n",
       "| 3/15/2016  | Oeste      | Avila      | Lapiz      | 56         |   2.99     |  167.44    | \n",
       "| 4/1/2016   | Este       | Lara       | Pegamento  | 60         |   4.99     |  299.40    | \n",
       "| 4/18/2016  | Central    | Diaz       | Lapiz      | 75         |   1.99     |  149.25    | \n",
       "| 5/5/2016   | Central    | Macedo     | Lapiz      | 90         |   4.99     |  449.10    | \n",
       "| 5/22/2016  | Oeste      | Bazan      | Lapiz      | 32         |   1.99     |   63.68    | \n",
       "| 6/8/2016   | Este       | Lara       | Pegamento  | 60         |   8.99     |  539.40    | \n",
       "| 6/25/2016  | Central    | Bonilla    | Lapiz      | 90         |   4.99     |  449.10    | \n",
       "| 7/12/2016  | Este       | Hinostroza | Pegamento  | 29         |   1.99     |   57.71    | \n",
       "| 7/29/2016  | Este       | Palacios   | Pegamento  | 81         |  19.99     | 1619.19    | \n",
       "| 8/15/2016  | Este       | Lara       | Lapiz      | 35         |   4.99     |  174.65    | \n",
       "| 9/1/2016   | Central    | Caceres    | Pupitre    |  2         | 125.00     |  250.00    | \n",
       "| 9/18/2016  | Este       | Lara       | Cajas      | 16         |  15.99     |  255.84    | \n",
       "| 10/5/2016  | Central    | Bonilla    | Pegamento  | 28         |   8.99     |  251.72    | \n",
       "| 10/22/2016 | Este       | Lara       | Lapicero   | 64         |   8.99     |  575.36    | \n",
       "| 11/8/2016  | Este       | Palacios   | Lapicero   | 15         |  19.99     |  299.85    | \n",
       "| 11/25/2016 | Central    | Espinoza   | Cajas      | 96         |   4.99     |  479.04    | \n",
       "| 12/12/2016 | Central    | Caceres    | Lapiz      | 67         |   1.29     |   86.43    | \n",
       "| 12/29/2016 | Este       | Palacios   | Cajas      | 74         |  15.99     | 1183.26    | \n",
       "| 1/15/2017  | Central    | Gil        | Pegamento  | 46         |   8.99     |  413.54    | \n",
       "| 2/1/2017   | Central    | Caceres    | Pegamento  | 87         |  15.00     | 1305.00    | \n",
       "| 2/18/2017  | Este       | Lara       | Pegamento  |  4         |   4.99     |   19.96    | \n",
       "| 3/7/2017   | Oeste      | Avila      | Pegamento  |  7         |  19.99     |  139.93    | \n",
       "| 3/24/2017  | Central    | Macedo     | Cajas      | 50         |   4.99     |  249.50    | \n",
       "| 4/10/2017  | Central    | Diaz       | Lapiz      | 66         |   1.99     |  131.34    | \n",
       "| 4/27/2017  | Este       | Hinostroza | Lapicero   | 96         |   4.99     |  479.04    | \n",
       "| 5/14/2017  | Central    | Gil        | Lapiz      | 53         |   1.29     |   68.37    | \n",
       "| 5/31/2017  | Central    | Gil        | Pegamento  | 80         |   8.99     |  719.20    | \n",
       "| 6/17/2017  | Central    | Espinoza   | Pupitre    |  5         | 125.00     |  625.00    | \n",
       "| 7/4/2017   | Este       | Lara       | Cajas      | 62         |   4.99     |  309.38    | \n",
       "| 7/21/2017  | Central    | Bonilla    | Cajas      | 55         |  12.49     |  686.95    | \n",
       "| 8/7/2017   | Central    | Espinoza   | Cajas      | 42         |  23.95     | 1005.90    | \n",
       "| 8/24/2017  | Oeste      | Avila      | Pupitre    |  3         | 275.00     |  825.00    | \n",
       "| 9/10/2017  | Central    | Gil        | Lapiz      |  7         |   1.29     |    9.03    | \n",
       "| 9/27/2017  | Oeste      | Avila      | Lapicero   | 76         |   1.99     |  151.24    | \n",
       "| 10/14/2017 | Oeste      | Bazan      | Pegamento  | 57         |  19.99     | 1139.43    | \n",
       "| 10/31/2017 | Central    | Diaz       | Lapiz      | 14         |   1.29     |   18.06    | \n",
       "| 11/17/2017 | Central    | Macedo     | Pegamento  | 11         |   4.99     |   54.89    | \n",
       "| 12/4/2017  | Central    | Macedo     | Pegamento  | 94         |  19.99     | 1879.06    | \n",
       "| 12/21/2017 | Central    | Diaz       | Pegamento  | 28         |   4.99     |  139.70    | \n",
       "\n",
       "\n"
      ],
      "text/plain": [
       "   Fechas     Region  Rep        Item      Unidades Costounitario Total  \n",
       "1  1/6/2016   Este    Lara       Lapiz     95         1.99         189.05\n",
       "2  1/23/2016  Central Espinoza   Pegamento 50        19.99         999.50\n",
       "3  2/9/2016   Central Macedo     Lapiz     36         4.99         179.64\n",
       "4  2/26/2016  Central Gil        Lapicero  27        19.99         539.73\n",
       "5  3/15/2016  Oeste   Avila      Lapiz     56         2.99         167.44\n",
       "6  4/1/2016   Este    Lara       Pegamento 60         4.99         299.40\n",
       "7  4/18/2016  Central Diaz       Lapiz     75         1.99         149.25\n",
       "8  5/5/2016   Central Macedo     Lapiz     90         4.99         449.10\n",
       "9  5/22/2016  Oeste   Bazan      Lapiz     32         1.99          63.68\n",
       "10 6/8/2016   Este    Lara       Pegamento 60         8.99         539.40\n",
       "11 6/25/2016  Central Bonilla    Lapiz     90         4.99         449.10\n",
       "12 7/12/2016  Este    Hinostroza Pegamento 29         1.99          57.71\n",
       "13 7/29/2016  Este    Palacios   Pegamento 81        19.99        1619.19\n",
       "14 8/15/2016  Este    Lara       Lapiz     35         4.99         174.65\n",
       "15 9/1/2016   Central Caceres    Pupitre    2       125.00         250.00\n",
       "16 9/18/2016  Este    Lara       Cajas     16        15.99         255.84\n",
       "17 10/5/2016  Central Bonilla    Pegamento 28         8.99         251.72\n",
       "18 10/22/2016 Este    Lara       Lapicero  64         8.99         575.36\n",
       "19 11/8/2016  Este    Palacios   Lapicero  15        19.99         299.85\n",
       "20 11/25/2016 Central Espinoza   Cajas     96         4.99         479.04\n",
       "21 12/12/2016 Central Caceres    Lapiz     67         1.29          86.43\n",
       "22 12/29/2016 Este    Palacios   Cajas     74        15.99        1183.26\n",
       "23 1/15/2017  Central Gil        Pegamento 46         8.99         413.54\n",
       "24 2/1/2017   Central Caceres    Pegamento 87        15.00        1305.00\n",
       "25 2/18/2017  Este    Lara       Pegamento  4         4.99          19.96\n",
       "26 3/7/2017   Oeste   Avila      Pegamento  7        19.99         139.93\n",
       "27 3/24/2017  Central Macedo     Cajas     50         4.99         249.50\n",
       "28 4/10/2017  Central Diaz       Lapiz     66         1.99         131.34\n",
       "29 4/27/2017  Este    Hinostroza Lapicero  96         4.99         479.04\n",
       "30 5/14/2017  Central Gil        Lapiz     53         1.29          68.37\n",
       "31 5/31/2017  Central Gil        Pegamento 80         8.99         719.20\n",
       "32 6/17/2017  Central Espinoza   Pupitre    5       125.00         625.00\n",
       "33 7/4/2017   Este    Lara       Cajas     62         4.99         309.38\n",
       "34 7/21/2017  Central Bonilla    Cajas     55        12.49         686.95\n",
       "35 8/7/2017   Central Espinoza   Cajas     42        23.95        1005.90\n",
       "36 8/24/2017  Oeste   Avila      Pupitre    3       275.00         825.00\n",
       "37 9/10/2017  Central Gil        Lapiz      7         1.29           9.03\n",
       "38 9/27/2017  Oeste   Avila      Lapicero  76         1.99         151.24\n",
       "39 10/14/2017 Oeste   Bazan      Pegamento 57        19.99        1139.43\n",
       "40 10/31/2017 Central Diaz       Lapiz     14         1.29          18.06\n",
       "41 11/17/2017 Central Macedo     Pegamento 11         4.99          54.89\n",
       "42 12/4/2017  Central Macedo     Pegamento 94        19.99        1879.06\n",
       "43 12/21/2017 Central Diaz       Pegamento 28         4.99         139.70"
      ]
     },
     "metadata": {},
     "output_type": "display_data"
    },
    {
     "data": {
      "text/html": [
       "<ol class=list-inline>\n",
       "\t<li>'tbl_df'</li>\n",
       "\t<li>'tbl'</li>\n",
       "\t<li>'data.frame'</li>\n",
       "</ol>\n"
      ],
      "text/latex": [
       "\\begin{enumerate*}\n",
       "\\item 'tbl\\_df'\n",
       "\\item 'tbl'\n",
       "\\item 'data.frame'\n",
       "\\end{enumerate*}\n"
      ],
      "text/markdown": [
       "1. 'tbl_df'\n",
       "2. 'tbl'\n",
       "3. 'data.frame'\n",
       "\n",
       "\n"
      ],
      "text/plain": [
       "[1] \"tbl_df\"     \"tbl\"        \"data.frame\""
      ]
     },
     "metadata": {},
     "output_type": "display_data"
    }
   ],
   "source": [
    "# install.packages(\"readxl\")\n",
    "\n",
    "ejemplo_excel <- readxl::read_excel(\"ejemplo3.xlsx\")\n",
    "ejemplo_excel\n",
    "class(ejemplo_excel)"
   ]
  },
  {
   "cell_type": "markdown",
   "metadata": {},
   "source": [
    "0tro paquete para trabajar con un libro de Excel es `openxlsx`. Este paquete puede leer, escribir y editar archivos `xlsx`, que es más completo de lo que `readr` está diseñado. Con `openxlsx`, podemos llamar a `read.xlsx` para leer datos de un libro especificado en un data frame, al igual que `readr::read_excel()`:"
   ]
  },
  {
   "cell_type": "code",
   "execution_count": 61,
   "metadata": {},
   "outputs": [
    {
     "data": {
      "text/html": [
       "<table>\n",
       "<thead><tr><th scope=col>Fechas</th><th scope=col>Region</th><th scope=col>Rep</th><th scope=col>Item</th><th scope=col>Unidades</th><th scope=col>Costounitario</th><th scope=col>Total</th></tr></thead>\n",
       "<tbody>\n",
       "\t<tr><td>1/6/2016  </td><td>Este      </td><td>Lara      </td><td>Lapiz     </td><td>95        </td><td>  1.99    </td><td> 189.05   </td></tr>\n",
       "\t<tr><td>1/23/2016 </td><td>Central   </td><td>Espinoza  </td><td>Pegamento </td><td>50        </td><td> 19.99    </td><td> 999.50   </td></tr>\n",
       "\t<tr><td>2/9/2016  </td><td>Central   </td><td>Macedo    </td><td>Lapiz     </td><td>36        </td><td>  4.99    </td><td> 179.64   </td></tr>\n",
       "\t<tr><td>2/26/2016 </td><td>Central   </td><td>Gil       </td><td>Lapicero  </td><td>27        </td><td> 19.99    </td><td> 539.73   </td></tr>\n",
       "\t<tr><td>3/15/2016 </td><td>Oeste     </td><td>Avila     </td><td>Lapiz     </td><td>56        </td><td>  2.99    </td><td> 167.44   </td></tr>\n",
       "\t<tr><td>4/1/2016  </td><td>Este      </td><td>Lara      </td><td>Pegamento </td><td>60        </td><td>  4.99    </td><td> 299.40   </td></tr>\n",
       "\t<tr><td>4/18/2016 </td><td>Central   </td><td>Diaz      </td><td>Lapiz     </td><td>75        </td><td>  1.99    </td><td> 149.25   </td></tr>\n",
       "\t<tr><td>5/5/2016  </td><td>Central   </td><td>Macedo    </td><td>Lapiz     </td><td>90        </td><td>  4.99    </td><td> 449.10   </td></tr>\n",
       "\t<tr><td>5/22/2016 </td><td>Oeste     </td><td>Bazan     </td><td>Lapiz     </td><td>32        </td><td>  1.99    </td><td>  63.68   </td></tr>\n",
       "\t<tr><td>6/8/2016  </td><td>Este      </td><td>Lara      </td><td>Pegamento </td><td>60        </td><td>  8.99    </td><td> 539.40   </td></tr>\n",
       "\t<tr><td>6/25/2016 </td><td>Central   </td><td>Bonilla   </td><td>Lapiz     </td><td>90        </td><td>  4.99    </td><td> 449.10   </td></tr>\n",
       "\t<tr><td>7/12/2016 </td><td>Este      </td><td>Hinostroza</td><td>Pegamento </td><td>29        </td><td>  1.99    </td><td>  57.71   </td></tr>\n",
       "\t<tr><td>7/29/2016 </td><td>Este      </td><td>Palacios  </td><td>Pegamento </td><td>81        </td><td> 19.99    </td><td>1619.19   </td></tr>\n",
       "\t<tr><td>8/15/2016 </td><td>Este      </td><td>Lara      </td><td>Lapiz     </td><td>35        </td><td>  4.99    </td><td> 174.65   </td></tr>\n",
       "\t<tr><td>9/1/2016  </td><td>Central   </td><td>Caceres   </td><td>Pupitre   </td><td> 2        </td><td>125.00    </td><td> 250.00   </td></tr>\n",
       "\t<tr><td>9/18/2016 </td><td>Este      </td><td>Lara      </td><td>Cajas     </td><td>16        </td><td> 15.99    </td><td> 255.84   </td></tr>\n",
       "\t<tr><td>10/5/2016 </td><td>Central   </td><td>Bonilla   </td><td>Pegamento </td><td>28        </td><td>  8.99    </td><td> 251.72   </td></tr>\n",
       "\t<tr><td>10/22/2016</td><td>Este      </td><td>Lara      </td><td>Lapicero  </td><td>64        </td><td>  8.99    </td><td> 575.36   </td></tr>\n",
       "\t<tr><td>11/8/2016 </td><td>Este      </td><td>Palacios  </td><td>Lapicero  </td><td>15        </td><td> 19.99    </td><td> 299.85   </td></tr>\n",
       "\t<tr><td>11/25/2016</td><td>Central   </td><td>Espinoza  </td><td>Cajas     </td><td>96        </td><td>  4.99    </td><td> 479.04   </td></tr>\n",
       "\t<tr><td>12/12/2016</td><td>Central   </td><td>Caceres   </td><td>Lapiz     </td><td>67        </td><td>  1.29    </td><td>  86.43   </td></tr>\n",
       "\t<tr><td>12/29/2016</td><td>Este      </td><td>Palacios  </td><td>Cajas     </td><td>74        </td><td> 15.99    </td><td>1183.26   </td></tr>\n",
       "\t<tr><td>1/15/2017 </td><td>Central   </td><td>Gil       </td><td>Pegamento </td><td>46        </td><td>  8.99    </td><td> 413.54   </td></tr>\n",
       "\t<tr><td>2/1/2017  </td><td>Central   </td><td>Caceres   </td><td>Pegamento </td><td>87        </td><td> 15.00    </td><td>1305.00   </td></tr>\n",
       "\t<tr><td>2/18/2017 </td><td>Este      </td><td>Lara      </td><td>Pegamento </td><td> 4        </td><td>  4.99    </td><td>  19.96   </td></tr>\n",
       "\t<tr><td>3/7/2017  </td><td>Oeste     </td><td>Avila     </td><td>Pegamento </td><td> 7        </td><td> 19.99    </td><td> 139.93   </td></tr>\n",
       "\t<tr><td>3/24/2017 </td><td>Central   </td><td>Macedo    </td><td>Cajas     </td><td>50        </td><td>  4.99    </td><td> 249.50   </td></tr>\n",
       "\t<tr><td>4/10/2017 </td><td>Central   </td><td>Diaz      </td><td>Lapiz     </td><td>66        </td><td>  1.99    </td><td> 131.34   </td></tr>\n",
       "\t<tr><td>4/27/2017 </td><td>Este      </td><td>Hinostroza</td><td>Lapicero  </td><td>96        </td><td>  4.99    </td><td> 479.04   </td></tr>\n",
       "\t<tr><td>5/14/2017 </td><td>Central   </td><td>Gil       </td><td>Lapiz     </td><td>53        </td><td>  1.29    </td><td>  68.37   </td></tr>\n",
       "\t<tr><td>5/31/2017 </td><td>Central   </td><td>Gil       </td><td>Pegamento </td><td>80        </td><td>  8.99    </td><td> 719.20   </td></tr>\n",
       "\t<tr><td>6/17/2017 </td><td>Central   </td><td>Espinoza  </td><td>Pupitre   </td><td> 5        </td><td>125.00    </td><td> 625.00   </td></tr>\n",
       "\t<tr><td>7/4/2017  </td><td>Este      </td><td>Lara      </td><td>Cajas     </td><td>62        </td><td>  4.99    </td><td> 309.38   </td></tr>\n",
       "\t<tr><td>7/21/2017 </td><td>Central   </td><td>Bonilla   </td><td>Cajas     </td><td>55        </td><td> 12.49    </td><td> 686.95   </td></tr>\n",
       "\t<tr><td>8/7/2017  </td><td>Central   </td><td>Espinoza  </td><td>Cajas     </td><td>42        </td><td> 23.95    </td><td>1005.90   </td></tr>\n",
       "\t<tr><td>8/24/2017 </td><td>Oeste     </td><td>Avila     </td><td>Pupitre   </td><td> 3        </td><td>275.00    </td><td> 825.00   </td></tr>\n",
       "\t<tr><td>9/10/2017 </td><td>Central   </td><td>Gil       </td><td>Lapiz     </td><td> 7        </td><td>  1.29    </td><td>   9.03   </td></tr>\n",
       "\t<tr><td>9/27/2017 </td><td>Oeste     </td><td>Avila     </td><td>Lapicero  </td><td>76        </td><td>  1.99    </td><td> 151.24   </td></tr>\n",
       "\t<tr><td>10/14/2017</td><td>Oeste     </td><td>Bazan     </td><td>Pegamento </td><td>57        </td><td> 19.99    </td><td>1139.43   </td></tr>\n",
       "\t<tr><td>10/31/2017</td><td>Central   </td><td>Diaz      </td><td>Lapiz     </td><td>14        </td><td>  1.29    </td><td>  18.06   </td></tr>\n",
       "\t<tr><td>11/17/2017</td><td>Central   </td><td>Macedo    </td><td>Pegamento </td><td>11        </td><td>  4.99    </td><td>  54.89   </td></tr>\n",
       "\t<tr><td>12/4/2017 </td><td>Central   </td><td>Macedo    </td><td>Pegamento </td><td>94        </td><td> 19.99    </td><td>1879.06   </td></tr>\n",
       "\t<tr><td>12/21/2017</td><td>Central   </td><td>Diaz      </td><td>Pegamento </td><td>28        </td><td>  4.99    </td><td> 139.70   </td></tr>\n",
       "</tbody>\n",
       "</table>\n"
      ],
      "text/latex": [
       "\\begin{tabular}{r|lllllll}\n",
       " Fechas & Region & Rep & Item & Unidades & Costounitario & Total\\\\\n",
       "\\hline\n",
       "\t 1/6/2016   & Este       & Lara       & Lapiz      & 95         &   1.99     &  189.05   \\\\\n",
       "\t 1/23/2016  & Central    & Espinoza   & Pegamento  & 50         &  19.99     &  999.50   \\\\\n",
       "\t 2/9/2016   & Central    & Macedo     & Lapiz      & 36         &   4.99     &  179.64   \\\\\n",
       "\t 2/26/2016  & Central    & Gil        & Lapicero   & 27         &  19.99     &  539.73   \\\\\n",
       "\t 3/15/2016  & Oeste      & Avila      & Lapiz      & 56         &   2.99     &  167.44   \\\\\n",
       "\t 4/1/2016   & Este       & Lara       & Pegamento  & 60         &   4.99     &  299.40   \\\\\n",
       "\t 4/18/2016  & Central    & Diaz       & Lapiz      & 75         &   1.99     &  149.25   \\\\\n",
       "\t 5/5/2016   & Central    & Macedo     & Lapiz      & 90         &   4.99     &  449.10   \\\\\n",
       "\t 5/22/2016  & Oeste      & Bazan      & Lapiz      & 32         &   1.99     &   63.68   \\\\\n",
       "\t 6/8/2016   & Este       & Lara       & Pegamento  & 60         &   8.99     &  539.40   \\\\\n",
       "\t 6/25/2016  & Central    & Bonilla    & Lapiz      & 90         &   4.99     &  449.10   \\\\\n",
       "\t 7/12/2016  & Este       & Hinostroza & Pegamento  & 29         &   1.99     &   57.71   \\\\\n",
       "\t 7/29/2016  & Este       & Palacios   & Pegamento  & 81         &  19.99     & 1619.19   \\\\\n",
       "\t 8/15/2016  & Este       & Lara       & Lapiz      & 35         &   4.99     &  174.65   \\\\\n",
       "\t 9/1/2016   & Central    & Caceres    & Pupitre    &  2         & 125.00     &  250.00   \\\\\n",
       "\t 9/18/2016  & Este       & Lara       & Cajas      & 16         &  15.99     &  255.84   \\\\\n",
       "\t 10/5/2016  & Central    & Bonilla    & Pegamento  & 28         &   8.99     &  251.72   \\\\\n",
       "\t 10/22/2016 & Este       & Lara       & Lapicero   & 64         &   8.99     &  575.36   \\\\\n",
       "\t 11/8/2016  & Este       & Palacios   & Lapicero   & 15         &  19.99     &  299.85   \\\\\n",
       "\t 11/25/2016 & Central    & Espinoza   & Cajas      & 96         &   4.99     &  479.04   \\\\\n",
       "\t 12/12/2016 & Central    & Caceres    & Lapiz      & 67         &   1.29     &   86.43   \\\\\n",
       "\t 12/29/2016 & Este       & Palacios   & Cajas      & 74         &  15.99     & 1183.26   \\\\\n",
       "\t 1/15/2017  & Central    & Gil        & Pegamento  & 46         &   8.99     &  413.54   \\\\\n",
       "\t 2/1/2017   & Central    & Caceres    & Pegamento  & 87         &  15.00     & 1305.00   \\\\\n",
       "\t 2/18/2017  & Este       & Lara       & Pegamento  &  4         &   4.99     &   19.96   \\\\\n",
       "\t 3/7/2017   & Oeste      & Avila      & Pegamento  &  7         &  19.99     &  139.93   \\\\\n",
       "\t 3/24/2017  & Central    & Macedo     & Cajas      & 50         &   4.99     &  249.50   \\\\\n",
       "\t 4/10/2017  & Central    & Diaz       & Lapiz      & 66         &   1.99     &  131.34   \\\\\n",
       "\t 4/27/2017  & Este       & Hinostroza & Lapicero   & 96         &   4.99     &  479.04   \\\\\n",
       "\t 5/14/2017  & Central    & Gil        & Lapiz      & 53         &   1.29     &   68.37   \\\\\n",
       "\t 5/31/2017  & Central    & Gil        & Pegamento  & 80         &   8.99     &  719.20   \\\\\n",
       "\t 6/17/2017  & Central    & Espinoza   & Pupitre    &  5         & 125.00     &  625.00   \\\\\n",
       "\t 7/4/2017   & Este       & Lara       & Cajas      & 62         &   4.99     &  309.38   \\\\\n",
       "\t 7/21/2017  & Central    & Bonilla    & Cajas      & 55         &  12.49     &  686.95   \\\\\n",
       "\t 8/7/2017   & Central    & Espinoza   & Cajas      & 42         &  23.95     & 1005.90   \\\\\n",
       "\t 8/24/2017  & Oeste      & Avila      & Pupitre    &  3         & 275.00     &  825.00   \\\\\n",
       "\t 9/10/2017  & Central    & Gil        & Lapiz      &  7         &   1.29     &    9.03   \\\\\n",
       "\t 9/27/2017  & Oeste      & Avila      & Lapicero   & 76         &   1.99     &  151.24   \\\\\n",
       "\t 10/14/2017 & Oeste      & Bazan      & Pegamento  & 57         &  19.99     & 1139.43   \\\\\n",
       "\t 10/31/2017 & Central    & Diaz       & Lapiz      & 14         &   1.29     &   18.06   \\\\\n",
       "\t 11/17/2017 & Central    & Macedo     & Pegamento  & 11         &   4.99     &   54.89   \\\\\n",
       "\t 12/4/2017  & Central    & Macedo     & Pegamento  & 94         &  19.99     & 1879.06   \\\\\n",
       "\t 12/21/2017 & Central    & Diaz       & Pegamento  & 28         &   4.99     &  139.70   \\\\\n",
       "\\end{tabular}\n"
      ],
      "text/markdown": [
       "\n",
       "Fechas | Region | Rep | Item | Unidades | Costounitario | Total | \n",
       "|---|---|---|---|---|---|---|---|---|---|---|---|---|---|---|---|---|---|---|---|---|---|---|---|---|---|---|---|---|---|---|---|---|---|---|---|---|---|---|---|---|---|---|\n",
       "| 1/6/2016   | Este       | Lara       | Lapiz      | 95         |   1.99     |  189.05    | \n",
       "| 1/23/2016  | Central    | Espinoza   | Pegamento  | 50         |  19.99     |  999.50    | \n",
       "| 2/9/2016   | Central    | Macedo     | Lapiz      | 36         |   4.99     |  179.64    | \n",
       "| 2/26/2016  | Central    | Gil        | Lapicero   | 27         |  19.99     |  539.73    | \n",
       "| 3/15/2016  | Oeste      | Avila      | Lapiz      | 56         |   2.99     |  167.44    | \n",
       "| 4/1/2016   | Este       | Lara       | Pegamento  | 60         |   4.99     |  299.40    | \n",
       "| 4/18/2016  | Central    | Diaz       | Lapiz      | 75         |   1.99     |  149.25    | \n",
       "| 5/5/2016   | Central    | Macedo     | Lapiz      | 90         |   4.99     |  449.10    | \n",
       "| 5/22/2016  | Oeste      | Bazan      | Lapiz      | 32         |   1.99     |   63.68    | \n",
       "| 6/8/2016   | Este       | Lara       | Pegamento  | 60         |   8.99     |  539.40    | \n",
       "| 6/25/2016  | Central    | Bonilla    | Lapiz      | 90         |   4.99     |  449.10    | \n",
       "| 7/12/2016  | Este       | Hinostroza | Pegamento  | 29         |   1.99     |   57.71    | \n",
       "| 7/29/2016  | Este       | Palacios   | Pegamento  | 81         |  19.99     | 1619.19    | \n",
       "| 8/15/2016  | Este       | Lara       | Lapiz      | 35         |   4.99     |  174.65    | \n",
       "| 9/1/2016   | Central    | Caceres    | Pupitre    |  2         | 125.00     |  250.00    | \n",
       "| 9/18/2016  | Este       | Lara       | Cajas      | 16         |  15.99     |  255.84    | \n",
       "| 10/5/2016  | Central    | Bonilla    | Pegamento  | 28         |   8.99     |  251.72    | \n",
       "| 10/22/2016 | Este       | Lara       | Lapicero   | 64         |   8.99     |  575.36    | \n",
       "| 11/8/2016  | Este       | Palacios   | Lapicero   | 15         |  19.99     |  299.85    | \n",
       "| 11/25/2016 | Central    | Espinoza   | Cajas      | 96         |   4.99     |  479.04    | \n",
       "| 12/12/2016 | Central    | Caceres    | Lapiz      | 67         |   1.29     |   86.43    | \n",
       "| 12/29/2016 | Este       | Palacios   | Cajas      | 74         |  15.99     | 1183.26    | \n",
       "| 1/15/2017  | Central    | Gil        | Pegamento  | 46         |   8.99     |  413.54    | \n",
       "| 2/1/2017   | Central    | Caceres    | Pegamento  | 87         |  15.00     | 1305.00    | \n",
       "| 2/18/2017  | Este       | Lara       | Pegamento  |  4         |   4.99     |   19.96    | \n",
       "| 3/7/2017   | Oeste      | Avila      | Pegamento  |  7         |  19.99     |  139.93    | \n",
       "| 3/24/2017  | Central    | Macedo     | Cajas      | 50         |   4.99     |  249.50    | \n",
       "| 4/10/2017  | Central    | Diaz       | Lapiz      | 66         |   1.99     |  131.34    | \n",
       "| 4/27/2017  | Este       | Hinostroza | Lapicero   | 96         |   4.99     |  479.04    | \n",
       "| 5/14/2017  | Central    | Gil        | Lapiz      | 53         |   1.29     |   68.37    | \n",
       "| 5/31/2017  | Central    | Gil        | Pegamento  | 80         |   8.99     |  719.20    | \n",
       "| 6/17/2017  | Central    | Espinoza   | Pupitre    |  5         | 125.00     |  625.00    | \n",
       "| 7/4/2017   | Este       | Lara       | Cajas      | 62         |   4.99     |  309.38    | \n",
       "| 7/21/2017  | Central    | Bonilla    | Cajas      | 55         |  12.49     |  686.95    | \n",
       "| 8/7/2017   | Central    | Espinoza   | Cajas      | 42         |  23.95     | 1005.90    | \n",
       "| 8/24/2017  | Oeste      | Avila      | Pupitre    |  3         | 275.00     |  825.00    | \n",
       "| 9/10/2017  | Central    | Gil        | Lapiz      |  7         |   1.29     |    9.03    | \n",
       "| 9/27/2017  | Oeste      | Avila      | Lapicero   | 76         |   1.99     |  151.24    | \n",
       "| 10/14/2017 | Oeste      | Bazan      | Pegamento  | 57         |  19.99     | 1139.43    | \n",
       "| 10/31/2017 | Central    | Diaz       | Lapiz      | 14         |   1.29     |   18.06    | \n",
       "| 11/17/2017 | Central    | Macedo     | Pegamento  | 11         |   4.99     |   54.89    | \n",
       "| 12/4/2017  | Central    | Macedo     | Pegamento  | 94         |  19.99     | 1879.06    | \n",
       "| 12/21/2017 | Central    | Diaz       | Pegamento  | 28         |   4.99     |  139.70    | \n",
       "\n",
       "\n"
      ],
      "text/plain": [
       "   Fechas     Region  Rep        Item      Unidades Costounitario Total  \n",
       "1  1/6/2016   Este    Lara       Lapiz     95         1.99         189.05\n",
       "2  1/23/2016  Central Espinoza   Pegamento 50        19.99         999.50\n",
       "3  2/9/2016   Central Macedo     Lapiz     36         4.99         179.64\n",
       "4  2/26/2016  Central Gil        Lapicero  27        19.99         539.73\n",
       "5  3/15/2016  Oeste   Avila      Lapiz     56         2.99         167.44\n",
       "6  4/1/2016   Este    Lara       Pegamento 60         4.99         299.40\n",
       "7  4/18/2016  Central Diaz       Lapiz     75         1.99         149.25\n",
       "8  5/5/2016   Central Macedo     Lapiz     90         4.99         449.10\n",
       "9  5/22/2016  Oeste   Bazan      Lapiz     32         1.99          63.68\n",
       "10 6/8/2016   Este    Lara       Pegamento 60         8.99         539.40\n",
       "11 6/25/2016  Central Bonilla    Lapiz     90         4.99         449.10\n",
       "12 7/12/2016  Este    Hinostroza Pegamento 29         1.99          57.71\n",
       "13 7/29/2016  Este    Palacios   Pegamento 81        19.99        1619.19\n",
       "14 8/15/2016  Este    Lara       Lapiz     35         4.99         174.65\n",
       "15 9/1/2016   Central Caceres    Pupitre    2       125.00         250.00\n",
       "16 9/18/2016  Este    Lara       Cajas     16        15.99         255.84\n",
       "17 10/5/2016  Central Bonilla    Pegamento 28         8.99         251.72\n",
       "18 10/22/2016 Este    Lara       Lapicero  64         8.99         575.36\n",
       "19 11/8/2016  Este    Palacios   Lapicero  15        19.99         299.85\n",
       "20 11/25/2016 Central Espinoza   Cajas     96         4.99         479.04\n",
       "21 12/12/2016 Central Caceres    Lapiz     67         1.29          86.43\n",
       "22 12/29/2016 Este    Palacios   Cajas     74        15.99        1183.26\n",
       "23 1/15/2017  Central Gil        Pegamento 46         8.99         413.54\n",
       "24 2/1/2017   Central Caceres    Pegamento 87        15.00        1305.00\n",
       "25 2/18/2017  Este    Lara       Pegamento  4         4.99          19.96\n",
       "26 3/7/2017   Oeste   Avila      Pegamento  7        19.99         139.93\n",
       "27 3/24/2017  Central Macedo     Cajas     50         4.99         249.50\n",
       "28 4/10/2017  Central Diaz       Lapiz     66         1.99         131.34\n",
       "29 4/27/2017  Este    Hinostroza Lapicero  96         4.99         479.04\n",
       "30 5/14/2017  Central Gil        Lapiz     53         1.29          68.37\n",
       "31 5/31/2017  Central Gil        Pegamento 80         8.99         719.20\n",
       "32 6/17/2017  Central Espinoza   Pupitre    5       125.00         625.00\n",
       "33 7/4/2017   Este    Lara       Cajas     62         4.99         309.38\n",
       "34 7/21/2017  Central Bonilla    Cajas     55        12.49         686.95\n",
       "35 8/7/2017   Central Espinoza   Cajas     42        23.95        1005.90\n",
       "36 8/24/2017  Oeste   Avila      Pupitre    3       275.00         825.00\n",
       "37 9/10/2017  Central Gil        Lapiz      7         1.29           9.03\n",
       "38 9/27/2017  Oeste   Avila      Lapicero  76         1.99         151.24\n",
       "39 10/14/2017 Oeste   Bazan      Pegamento 57        19.99        1139.43\n",
       "40 10/31/2017 Central Diaz       Lapiz     14         1.29          18.06\n",
       "41 11/17/2017 Central Macedo     Pegamento 11         4.99          54.89\n",
       "42 12/4/2017  Central Macedo     Pegamento 94        19.99        1879.06\n",
       "43 12/21/2017 Central Diaz       Pegamento 28         4.99         139.70"
      ]
     },
     "metadata": {},
     "output_type": "display_data"
    }
   ],
   "source": [
    "#install.packages(\"openxlsx\")\n",
    "\n",
    "openxlsx::read.xlsx(\"ejemplo3.xlsx\", detectDates = TRUE)"
   ]
  },
  {
   "cell_type": "markdown",
   "metadata": {},
   "source": [
    "Para asegurar que los valores de fecha se importan correctamente, necesitamos especificar `detectDates=TRUE`,  de lo contrario, las fechas se dejarán como números. Además de leer datos, `openxlsx` también es capaz de crear un libro con un data frame existente:"
   ]
  },
  {
   "cell_type": "code",
   "execution_count": 62,
   "metadata": {
    "collapsed": true
   },
   "outputs": [],
   "source": [
    "openxlsx::write.xlsx(mtcars, \"ejemplo4.xlsx\")"
   ]
  },
  {
   "cell_type": "markdown",
   "metadata": {},
   "source": [
    "El paquete admite funciones más avanzadas como la edición de un libro existente mediante la creación de estilos y la inserción de dibujos. Para más detalles, lea la documentación del paquete. \n",
    "\n",
    "Hay otros paquetes diseñados para trabajar con libros de Excel. [XLConnect](http://cran.r-project.org/web/packages/XLConnect) es otro conector de Excel que es multiplataforma y no depende de una instalación existente de Microsoft Excel, sino que se basa en una instalación existente de `Java Runtime Environment(JRE)`. [RODBC](http://cran.r-project.org/web/packages/RODBC) es un conector de base de datos más general que es capaz de conectarse a bases de datos de Access y libros de Excel con controladores `ODBC` correctamente instalados en Windows, pero que contiene muchas dependencias."
   ]
  },
  {
   "cell_type": "markdown",
   "metadata": {
    "collapsed": true
   },
   "source": [
    "## Lectura y escritura de archivos de datos nativos\n",
    "\n",
    "Se ha mencionado anteriormente las funciones de lectura  y escritura  de archivos `CSV` y libros de `Excel`. Estos son formatos de datos no nativos para `R`, es decir, hay un brecha  entre el objeto de datos original y el archivo de salida.\n",
    "\n",
    "Por ejemplo, si exportamos un data frame,  con muchas columnas de diferentes tipos a un archivo `CSV`, la información sobre los tipos de columna se descarta. Si la columna es numérica, cadena o  de fecha, siempre se representan en formato de texto. Esto ciertamente hace que sea más fácil para un usuario leer los datos directamente del archivo de salida, pero tendremos que confiar en cómo un ordenador podría adivinar el tipo de cada columna. En otras palabras, a veces es difícil para las funciones del lectura, recuperar los datos en formato `CSV` con exactamente el mismo data frame  que el original, ya que el proceso de escritura  devuelva los tipos de columna a cambio de portabilidad.\n",
    "\n",
    "Si no nos interesa la portabilidad y sólo se utiliza `R` para trabajar con los datos, se pueden utilizar los formatos nativos para leer y escribir datos. Ya no se puede utilizar un editor de texto arbitrario para leer los datos ni leer los datos de otro software, pero es fácil escribir y leer un solo objeto o incluso todo el entorno con alta eficiencia y sin pérdidas de datos. En otras palabras, el formato nativo permite guardar objetos en el archivo y recuperar exactamente los mismos datos sin preocuparse por problemas como los símbolos de valores perdidos, los tipos, clases y atributos de las columnas."
   ]
  },
  {
   "cell_type": "markdown",
   "metadata": {},
   "source": [
    "## Lectura  y escritura  un solo objeto en formato nativo\n",
    "\n",
    "Hay dos grupos de funciones relacionadas a trabajar con el formato de datos nativo. Un grupo está diseñado para escribir un único objeto en un archivo `RDS`, leer un único objeto de un archivo `RDS`, un formato de archivo para almacenar un único objeto `R` en forma serializada. El otro grupo trabaja con múltiples objetos de `R`, que veremos a continuación. En el siguiente ejemplo, escribimos `datos2` en un archivo `RDS` y  leemos desde el mismo archivo y vemos si dos data frames  son exactamente idénticos.\n",
    "\n",
    "Primero usamos `saveRDS`, para guardar `datos2` en el directorio actual como `datos2.rds`:"
   ]
  },
  {
   "cell_type": "code",
   "execution_count": 63,
   "metadata": {},
   "outputs": [],
   "source": [
    "datos2 <- data.frame(\n",
    "    id = 1:4,\n",
    "    lenguajes = c(\"Python\", \"R\", \"JS\", \"C++\"),\n",
    "    valores = c(1.51, 1.52, 1.46, 2.34),\n",
    "    fechas1 = as.Date(c(\"2016-03-05\", \"2016-03-06\", \"2016-03-10\",\n",
    "                       \"2016-03-11\")))\n",
    "\n",
    "saveRDS(datos2, \"datos2.rds\")"
   ]
  },
  {
   "cell_type": "markdown",
   "metadata": {},
   "source": [
    "Luego leemos los datos del mismo archivo y almacenamos el data frame  en `datos3`:"
   ]
  },
  {
   "cell_type": "code",
   "execution_count": 64,
   "metadata": {
    "collapsed": true
   },
   "outputs": [],
   "source": [
    "datos3 <- readRDS(\"datos2.rds\")"
   ]
  },
  {
   "cell_type": "markdown",
   "metadata": {},
   "source": [
    "Finalmente, usamos `identical()` para probar si dos data frames  son exactamente iguales:"
   ]
  },
  {
   "cell_type": "code",
   "execution_count": 65,
   "metadata": {},
   "outputs": [
    {
     "data": {
      "text/html": [
       "TRUE"
      ],
      "text/latex": [
       "TRUE"
      ],
      "text/markdown": [
       "TRUE"
      ],
      "text/plain": [
       "[1] TRUE"
      ]
     },
     "metadata": {},
     "output_type": "display_data"
    }
   ],
   "source": [
    "identical(datos2, datos3)"
   ]
  },
  {
   "cell_type": "markdown",
   "metadata": {},
   "source": [
    "El formato nativo tiene dos ventajas notables: eficiencia de  espacio y eficacia del tiempo. En el siguiente ejemplo, crearemos un data frame  con `200.000` filas de datos aleatorios. A continuación, calculamos el proceso para guardar el data frame  en un archivo `CSV` y un archivo `RDS`, respectivamente:"
   ]
  },
  {
   "cell_type": "code",
   "execution_count": 66,
   "metadata": {},
   "outputs": [
    {
     "data": {
      "text/plain": [
       "   user  system elapsed \n",
       "  0.999   0.016   1.016 "
      ]
     },
     "metadata": {},
     "output_type": "display_data"
    }
   ],
   "source": [
    "filas <- 200000\n",
    "datos4 <- data.frame(id = 1:filas, x = rnorm(filas), y = rnorm(filas))\n",
    "system.time(write.csv(datos4, \"datos4.csv\"))"
   ]
  },
  {
   "cell_type": "code",
   "execution_count": 67,
   "metadata": {},
   "outputs": [
    {
     "data": {
      "text/plain": [
       "   user  system elapsed \n",
       "  0.494   0.012   0.507 "
      ]
     },
     "metadata": {},
     "output_type": "display_data"
    }
   ],
   "source": [
    "system.time(saveRDS(datos4, \"datos4.rds\"))"
   ]
  },
  {
   "cell_type": "markdown",
   "metadata": {},
   "source": [
    "Es obvio que `saveRDS` tiene una eficiencia de escritura mucho mayor que `write.csv`. Luego usamos `file.info()` para ver el tamaño de los dos archivos de salida:"
   ]
  },
  {
   "cell_type": "code",
   "execution_count": 68,
   "metadata": {},
   "outputs": [
    {
     "data": {
      "text/html": [
       "<table>\n",
       "<thead><tr><th></th><th scope=col>size</th><th scope=col>isdir</th><th scope=col>mode</th><th scope=col>mtime</th><th scope=col>ctime</th><th scope=col>atime</th><th scope=col>uid</th><th scope=col>gid</th><th scope=col>uname</th><th scope=col>grname</th></tr></thead>\n",
       "<tbody>\n",
       "\t<tr><th scope=row>datos4.csv</th><td>10241586           </td><td>FALSE              </td><td>664                </td><td>2017-07-27 17:12:29</td><td>2017-07-27 17:12:29</td><td>2017-07-27 17:12:29</td><td>1001               </td><td>1001               </td><td>c-lara             </td><td>c-lara             </td></tr>\n",
       "\t<tr><th scope=row>datos4.rds</th><td> 3498585           </td><td>FALSE              </td><td>664                </td><td>2017-07-27 17:12:30</td><td>2017-07-27 17:12:30</td><td>2017-07-27 17:12:44</td><td>1001               </td><td>1001               </td><td>c-lara             </td><td>c-lara             </td></tr>\n",
       "</tbody>\n",
       "</table>\n"
      ],
      "text/latex": [
       "\\begin{tabular}{r|llllllllll}\n",
       "  & size & isdir & mode & mtime & ctime & atime & uid & gid & uname & grname\\\\\n",
       "\\hline\n",
       "\tdatos4.csv & 10241586            & FALSE               & 664                 & 2017-07-27 17:12:29 & 2017-07-27 17:12:29 & 2017-07-27 17:12:29 & 1001                & 1001                & c-lara              & c-lara             \\\\\n",
       "\tdatos4.rds &  3498585            & FALSE               & 664                 & 2017-07-27 17:12:30 & 2017-07-27 17:12:30 & 2017-07-27 17:12:44 & 1001                & 1001                & c-lara              & c-lara             \\\\\n",
       "\\end{tabular}\n"
      ],
      "text/markdown": [
       "\n",
       "| <!--/--> | size | isdir | mode | mtime | ctime | atime | uid | gid | uname | grname | \n",
       "|---|---|\n",
       "| datos4.csv | 10241586            | FALSE               | 664                 | 2017-07-27 17:12:29 | 2017-07-27 17:12:29 | 2017-07-27 17:12:29 | 1001                | 1001                | c-lara              | c-lara              | \n",
       "| datos4.rds |  3498585            | FALSE               | 664                 | 2017-07-27 17:12:30 | 2017-07-27 17:12:30 | 2017-07-27 17:12:44 | 1001                | 1001                | c-lara              | c-lara              | \n",
       "\n",
       "\n"
      ],
      "text/plain": [
       "           size     isdir mode mtime               ctime              \n",
       "datos4.csv 10241586 FALSE 664  2017-07-27 17:12:29 2017-07-27 17:12:29\n",
       "datos4.rds  3498585 FALSE 664  2017-07-27 17:12:30 2017-07-27 17:12:30\n",
       "           atime               uid  gid  uname  grname\n",
       "datos4.csv 2017-07-27 17:12:29 1001 1001 c-lara c-lara\n",
       "datos4.rds 2017-07-27 17:12:44 1001 1001 c-lara c-lara"
      ]
     },
     "metadata": {},
     "output_type": "display_data"
    }
   ],
   "source": [
    "inf_archivo<- file.info(\"datos4.csv\", \"datos4.rds\")\n",
    "inf_archivo"
   ]
  },
  {
   "cell_type": "markdown",
   "metadata": {},
   "source": [
    "La diferencia entre los dos tamaños de archivo es grande: el tamaño del archivo `CSV` es casi tres veces mayor que el del archivo `RDS`, lo que indica que el formato nativo tiene mayor capacidad de almacenamiento o espacio.\n",
    "\n",
    "Por último, leemos los archivos `CSV` y `RDS` y ver cuánto tiempo consumen ambos formatos. Para leer el archivo `CSV`, utilizamos la función integrada `read.csv` y la implementación más rápida, `read_csv()`, proporcionada por el paquete `readr`:"
   ]
  },
  {
   "cell_type": "code",
   "execution_count": 69,
   "metadata": {},
   "outputs": [
    {
     "data": {
      "text/plain": [
       "   user  system elapsed \n",
       "  3.155   0.028   3.183 "
      ]
     },
     "metadata": {},
     "output_type": "display_data"
    }
   ],
   "source": [
    "system.time(read.csv(\"datos4.csv\"))"
   ]
  },
  {
   "cell_type": "code",
   "execution_count": 70,
   "metadata": {},
   "outputs": [
    {
     "name": "stderr",
     "output_type": "stream",
     "text": [
      "Warning message:\n",
      "“Missing column names filled in: 'X1' [1]”Parsed with column specification:\n",
      "cols(\n",
      "  X1 = col_integer(),\n",
      "  id = col_integer(),\n",
      "  x = col_double(),\n",
      "  y = col_double()\n",
      ")\n"
     ]
    },
    {
     "data": {
      "text/plain": [
       "   user  system elapsed \n",
       "  1.513   0.000   1.514 "
      ]
     },
     "metadata": {},
     "output_type": "display_data"
    }
   ],
   "source": [
    "system.time(readr::read_csv(\"datos4.csv\"))"
   ]
  },
  {
   "cell_type": "markdown",
   "metadata": {},
   "source": [
    "Puede ser sorprendente ver que `read_csv()`, es casi cuatro veces más rápido que la función  `read.csv()` del paquete base en este caso. Pero con el formato nativo, el rendimiento de ambas funciones del lectura de  archivos `CSV` no es comparable:"
   ]
  },
  {
   "cell_type": "code",
   "execution_count": 71,
   "metadata": {},
   "outputs": [
    {
     "data": {
      "text/plain": [
       "   user  system elapsed \n",
       "  0.045   0.000   0.044 "
      ]
     },
     "metadata": {},
     "output_type": "display_data"
    }
   ],
   "source": [
    "system.time(readRDS(\"datos4.rds\"))"
   ]
  },
  {
   "cell_type": "markdown",
   "metadata": {},
   "source": [
    "Además de `saveRDS` y `readRDS` trabajan no sólo con data frames, sino también con cualquier objeto `R`. Por ejemplo, creamos un vector numérico con un valor faltante y una lista con una estructura anidada. A continuación, los guardamos en archivos `RDS` independientes:"
   ]
  },
  {
   "cell_type": "code",
   "execution_count": 72,
   "metadata": {
    "collapsed": true
   },
   "outputs": [],
   "source": [
    "numeros <- c(1.5, 2.5, NA, 3)\n",
    "lista1 <- list(x = c(1, 2, 3),\n",
    "               y = list(a =c(\"a\", \"b\"),\n",
    "                        b = c(NA, 1, 2.5)))\n",
    "saveRDS(numeros, \"numeros.rds\")\n",
    "saveRDS(lista1, \"lista1.rds\")"
   ]
  },
  {
   "cell_type": "markdown",
   "metadata": {},
   "source": [
    "Ahora leemos los archivos RDS, y estos dos objetos se recuperan exactamente:"
   ]
  },
  {
   "cell_type": "code",
   "execution_count": 73,
   "metadata": {},
   "outputs": [
    {
     "data": {
      "text/html": [
       "<ol class=list-inline>\n",
       "\t<li>1.5</li>\n",
       "\t<li>2.5</li>\n",
       "\t<li>NA</li>\n",
       "\t<li>3</li>\n",
       "</ol>\n"
      ],
      "text/latex": [
       "\\begin{enumerate*}\n",
       "\\item 1.5\n",
       "\\item 2.5\n",
       "\\item NA\n",
       "\\item 3\n",
       "\\end{enumerate*}\n"
      ],
      "text/markdown": [
       "1. 1.5\n",
       "2. 2.5\n",
       "3. NA\n",
       "4. 3\n",
       "\n",
       "\n"
      ],
      "text/plain": [
       "[1] 1.5 2.5  NA 3.0"
      ]
     },
     "metadata": {},
     "output_type": "display_data"
    }
   ],
   "source": [
    "readRDS(\"numeros.rds\")"
   ]
  },
  {
   "cell_type": "code",
   "execution_count": 74,
   "metadata": {},
   "outputs": [
    {
     "data": {
      "text/html": [
       "<dl>\n",
       "\t<dt>$x</dt>\n",
       "\t\t<dd><ol class=list-inline>\n",
       "\t<li>1</li>\n",
       "\t<li>2</li>\n",
       "\t<li>3</li>\n",
       "</ol>\n",
       "</dd>\n",
       "\t<dt>$y</dt>\n",
       "\t\t<dd><dl>\n",
       "\t<dt>$a</dt>\n",
       "\t\t<dd><ol class=list-inline>\n",
       "\t<li>'a'</li>\n",
       "\t<li>'b'</li>\n",
       "</ol>\n",
       "</dd>\n",
       "\t<dt>$b</dt>\n",
       "\t\t<dd><ol class=list-inline>\n",
       "\t<li>NA</li>\n",
       "\t<li>1</li>\n",
       "\t<li>2.5</li>\n",
       "</ol>\n",
       "</dd>\n",
       "</dl>\n",
       "</dd>\n",
       "</dl>\n"
      ],
      "text/latex": [
       "\\begin{description}\n",
       "\\item[\\$x] \\begin{enumerate*}\n",
       "\\item 1\n",
       "\\item 2\n",
       "\\item 3\n",
       "\\end{enumerate*}\n",
       "\n",
       "\\item[\\$y] \\begin{description}\n",
       "\\item[\\$a] \\begin{enumerate*}\n",
       "\\item 'a'\n",
       "\\item 'b'\n",
       "\\end{enumerate*}\n",
       "\n",
       "\\item[\\$b] \\begin{enumerate*}\n",
       "\\item NA\n",
       "\\item 1\n",
       "\\item 2.5\n",
       "\\end{enumerate*}\n",
       "\n",
       "\\end{description}\n",
       "\n",
       "\\end{description}\n"
      ],
      "text/markdown": [
       "$x\n",
       ":   1. 1\n",
       "2. 2\n",
       "3. 3\n",
       "\n",
       "\n",
       "\n",
       "$y\n",
       ":   $a\n",
       ":   1. 'a'\n",
       "2. 'b'\n",
       "\n",
       "\n",
       "\n",
       "$b\n",
       ":   1. NA\n",
       "2. 1\n",
       "3. 2.5\n",
       "\n",
       "\n",
       "\n",
       "\n",
       "\n",
       "\n",
       "\n",
       "\n"
      ],
      "text/plain": [
       "$x\n",
       "[1] 1 2 3\n",
       "\n",
       "$y\n",
       "$y$a\n",
       "[1] \"a\" \"b\"\n",
       "\n",
       "$y$b\n",
       "[1]  NA 1.0 2.5\n",
       "\n"
      ]
     },
     "metadata": {},
     "output_type": "display_data"
    }
   ],
   "source": [
    "readRDS(\"lista1.rds\")"
   ]
  },
  {
   "cell_type": "markdown",
   "metadata": {},
   "source": [
    "### Guardar y restaurar el entorno de trabajo \n",
    "\n",
    "Mientras que el formato `RDS` se utiliza para almacenar un solo objeto  de `R`, el formato `RData` se utiliza para almacenar varios objetos R. Podemos llamar a `save()` para almacenar `datos4` , `numeros` y `lista1` juntos en un único archivo `RData`:"
   ]
  },
  {
   "cell_type": "code",
   "execution_count": 75,
   "metadata": {
    "collapsed": true
   },
   "outputs": [],
   "source": [
    "save(datos3, numeros, lista1, file = \"datos5.RData\")"
   ]
  },
  {
   "cell_type": "markdown",
   "metadata": {},
   "source": [
    "Para verificar que los tres objetos están almacenados y se pueden recuperar, los eliminamos primero y llamamos `load()` para recuperar los objetos del archivo:"
   ]
  },
  {
   "cell_type": "code",
   "execution_count": 76,
   "metadata": {
    "collapsed": true
   },
   "outputs": [],
   "source": [
    "rm(datos3, numeros, lista1)\n",
    "load(\"datos5.RData\")"
   ]
  },
  {
   "cell_type": "markdown",
   "metadata": {},
   "source": [
    "Ahora, los tres objetos están totalmente recuperados:"
   ]
  },
  {
   "cell_type": "code",
   "execution_count": 77,
   "metadata": {},
   "outputs": [
    {
     "data": {
      "text/html": [
       "<table>\n",
       "<thead><tr><th scope=col>id</th><th scope=col>lenguajes</th><th scope=col>valores</th><th scope=col>fechas1</th></tr></thead>\n",
       "<tbody>\n",
       "\t<tr><td>1         </td><td>Python    </td><td>1.51      </td><td>2016-03-05</td></tr>\n",
       "\t<tr><td>2         </td><td>R         </td><td>1.52      </td><td>2016-03-06</td></tr>\n",
       "\t<tr><td>3         </td><td>JS        </td><td>1.46      </td><td>2016-03-10</td></tr>\n",
       "\t<tr><td>4         </td><td>C++       </td><td>2.34      </td><td>2016-03-11</td></tr>\n",
       "</tbody>\n",
       "</table>\n"
      ],
      "text/latex": [
       "\\begin{tabular}{r|llll}\n",
       " id & lenguajes & valores & fechas1\\\\\n",
       "\\hline\n",
       "\t 1          & Python     & 1.51       & 2016-03-05\\\\\n",
       "\t 2          & R          & 1.52       & 2016-03-06\\\\\n",
       "\t 3          & JS         & 1.46       & 2016-03-10\\\\\n",
       "\t 4          & C++        & 2.34       & 2016-03-11\\\\\n",
       "\\end{tabular}\n"
      ],
      "text/markdown": [
       "\n",
       "id | lenguajes | valores | fechas1 | \n",
       "|---|---|---|---|\n",
       "| 1          | Python     | 1.51       | 2016-03-05 | \n",
       "| 2          | R          | 1.52       | 2016-03-06 | \n",
       "| 3          | JS         | 1.46       | 2016-03-10 | \n",
       "| 4          | C++        | 2.34       | 2016-03-11 | \n",
       "\n",
       "\n"
      ],
      "text/plain": [
       "  id lenguajes valores fechas1   \n",
       "1 1  Python    1.51    2016-03-05\n",
       "2 2  R         1.52    2016-03-06\n",
       "3 3  JS        1.46    2016-03-10\n",
       "4 4  C++       2.34    2016-03-11"
      ]
     },
     "metadata": {},
     "output_type": "display_data"
    }
   ],
   "source": [
    "datos3"
   ]
  },
  {
   "cell_type": "code",
   "execution_count": 78,
   "metadata": {},
   "outputs": [
    {
     "data": {
      "text/html": [
       "<ol class=list-inline>\n",
       "\t<li>1.5</li>\n",
       "\t<li>2.5</li>\n",
       "\t<li>NA</li>\n",
       "\t<li>3</li>\n",
       "</ol>\n"
      ],
      "text/latex": [
       "\\begin{enumerate*}\n",
       "\\item 1.5\n",
       "\\item 2.5\n",
       "\\item NA\n",
       "\\item 3\n",
       "\\end{enumerate*}\n"
      ],
      "text/markdown": [
       "1. 1.5\n",
       "2. 2.5\n",
       "3. NA\n",
       "4. 3\n",
       "\n",
       "\n"
      ],
      "text/plain": [
       "[1] 1.5 2.5  NA 3.0"
      ]
     },
     "metadata": {},
     "output_type": "display_data"
    }
   ],
   "source": [
    "numeros"
   ]
  },
  {
   "cell_type": "code",
   "execution_count": 79,
   "metadata": {},
   "outputs": [
    {
     "data": {
      "text/html": [
       "<dl>\n",
       "\t<dt>$x</dt>\n",
       "\t\t<dd><ol class=list-inline>\n",
       "\t<li>1</li>\n",
       "\t<li>2</li>\n",
       "\t<li>3</li>\n",
       "</ol>\n",
       "</dd>\n",
       "\t<dt>$y</dt>\n",
       "\t\t<dd><dl>\n",
       "\t<dt>$a</dt>\n",
       "\t\t<dd><ol class=list-inline>\n",
       "\t<li>'a'</li>\n",
       "\t<li>'b'</li>\n",
       "</ol>\n",
       "</dd>\n",
       "\t<dt>$b</dt>\n",
       "\t\t<dd><ol class=list-inline>\n",
       "\t<li>NA</li>\n",
       "\t<li>1</li>\n",
       "\t<li>2.5</li>\n",
       "</ol>\n",
       "</dd>\n",
       "</dl>\n",
       "</dd>\n",
       "</dl>\n"
      ],
      "text/latex": [
       "\\begin{description}\n",
       "\\item[\\$x] \\begin{enumerate*}\n",
       "\\item 1\n",
       "\\item 2\n",
       "\\item 3\n",
       "\\end{enumerate*}\n",
       "\n",
       "\\item[\\$y] \\begin{description}\n",
       "\\item[\\$a] \\begin{enumerate*}\n",
       "\\item 'a'\n",
       "\\item 'b'\n",
       "\\end{enumerate*}\n",
       "\n",
       "\\item[\\$b] \\begin{enumerate*}\n",
       "\\item NA\n",
       "\\item 1\n",
       "\\item 2.5\n",
       "\\end{enumerate*}\n",
       "\n",
       "\\end{description}\n",
       "\n",
       "\\end{description}\n"
      ],
      "text/markdown": [
       "$x\n",
       ":   1. 1\n",
       "2. 2\n",
       "3. 3\n",
       "\n",
       "\n",
       "\n",
       "$y\n",
       ":   $a\n",
       ":   1. 'a'\n",
       "2. 'b'\n",
       "\n",
       "\n",
       "\n",
       "$b\n",
       ":   1. NA\n",
       "2. 1\n",
       "3. 2.5\n",
       "\n",
       "\n",
       "\n",
       "\n",
       "\n",
       "\n",
       "\n",
       "\n"
      ],
      "text/plain": [
       "$x\n",
       "[1] 1 2 3\n",
       "\n",
       "$y\n",
       "$y$a\n",
       "[1] \"a\" \"b\"\n",
       "\n",
       "$y$b\n",
       "[1]  NA 1.0 2.5\n",
       "\n"
      ]
     },
     "metadata": {},
     "output_type": "display_data"
    }
   ],
   "source": [
    "lista1"
   ]
  },
  {
   "cell_type": "markdown",
   "metadata": {},
   "source": [
    "### Lectura de otros tipos de archivo\n",
    "\n",
    "R puede leer datos de muchos otros tipos de archivos. Puede leer los archivos de formato  [HDF5](https://support.hdfgroup.org/HDF5/) a través del paquete `h5r` (y el paquete `rdhf5` en Bioconductor) y los archivos de formato [NetCDF](http://www.unidata.ucar.edu/software/netcdf/) a través del paquete `ncdf`.\n",
    "\n",
    "Puede leer los archivos de datos espaciales de `ESRI ArcGIS` a través de los paquetes `maptools` y `shapefiles` (y archivos `ArcInfo` más antiguos a través del paquete `RArcInfo`). Se pueden leer formatos de imagen  a través de los paquetes `jpeg`, `png`, `tiff`, `rtiff` y `readbitmap`. \n",
    "\n",
    "Aunque la mayoría de estos paquetes son completamente inútiles para la mayoría de usuarios, el hecho de que `R` pueda acceder a tantos formatos en tantas áreas diferentes es bastante asombroso."
   ]
  },
  {
   "cell_type": "markdown",
   "metadata": {
    "collapsed": true
   },
   "source": [
    "## Lecturas\n",
    "\n",
    "* [Importación y Exportación de datos con R](Lhttp://cran.r-project.org/doc/manuals/R-data.pdf). Este manual incluye información sobre la lectura de datos  tales como hojas de cálculo, archivos binarios,sistemas estadísticos y bases de datos relacionales.\n",
    "\n",
    "* [Data Manipulation with R](https://www.packtpub.com/big-data-and-business-intelligence/data-manipulation-r) , excelente libro de Jaynal Abedin, acerca de manipulación de datos usando `plyr` y `sqldf`."
   ]
  },
  {
   "cell_type": "code",
   "execution_count": null,
   "metadata": {
    "collapsed": true
   },
   "outputs": [],
   "source": []
  }
 ],
 "metadata": {
  "kernelspec": {
   "display_name": "R",
   "language": "R",
   "name": "ir"
  },
  "language_info": {
   "codemirror_mode": "r",
   "file_extension": ".r",
   "mimetype": "text/x-r-source",
   "name": "R",
   "pygments_lexer": "r",
   "version": "3.6.0"
  }
 },
 "nbformat": 4,
 "nbformat_minor": 1
}
